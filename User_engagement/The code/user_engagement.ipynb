{
 "cells": [
  {
   "cell_type": "markdown",
   "metadata": {},
   "source": [
    "# A drop in user engagement\n",
    "***"
   ]
  },
  {
   "cell_type": "markdown",
   "metadata": {},
   "source": [
    "## Context"
   ]
  },
  {
   "cell_type": "markdown",
   "metadata": {},
   "source": [
    "Given my business background, putting data manipulation techniques at the service of extracting intelligence from raw big data to get insights that helps the business move forward, it is where data analytics really come to life for me.\n",
    "\n",
    "One key area where companies become concerned and willing to exploit data to get guidance on where the problems are lying or how they can be solved, is related to customer retention or user engagement.\n",
    "\n",
    "So, let's imagine that we are analysts working for a technological company whose most important KPI revolves around how customers are using its main product. A product that is a sort of an intranet social network within the workplace where a user can send and receive messages, like them, check message inbox and search for info from other users of the same company. We will call it \"Hub\" moving on for simplification purposes\n",
    "\n",
    "Hub is of course sold to many companies around the world so that its employees can use it."
   ]
  },
  {
   "cell_type": "markdown",
   "metadata": {},
   "source": [
    "## Data"
   ]
  },
  {
   "cell_type": "markdown",
   "metadata": {},
   "source": [
    "The data is comprised of 3 tables: users, events and emails. [Here is a look at them]\n",
    "\n",
    "The first table collects basic info on the users, that is, identification number, date when the lead signed up, status of the account, date when the lead completed the signup process and became a user, language and company he/she works for.\n",
    "\n",
    "The second table gathers info on the interactions of the users with the product, its type, dates and times of it, location and device used.\n",
    "\n",
    "The last table is about the user response on the email interactions between our company and the user. It is just limited to the emails sent in the form of content weekly digest to foster engagement.\n",
    "\n",
    "[All the data as well as the code can be found here]"
   ]
  },
  {
   "cell_type": "markdown",
   "metadata": {},
   "source": [
    "## Workflow methodology"
   ]
  },
  {
   "cell_type": "markdown",
   "metadata": {},
   "source": [
    "The datasets described above were pushed to a PostgreSQL database. On the other hand, SQLalchemy library, which incoporates psycopg2 adapter, allows us through its engine module to blend the workflow between postgreSQL database and Python, so that we can run our queries in SQL language without leaving our Jupyter notebook, and this means that Python smoothly takes over the dataframes queried to perform further data manipulation or visualizations."
   ]
  },
  {
   "cell_type": "markdown",
   "metadata": {},
   "source": [
    "## Coding"
   ]
  },
  {
   "cell_type": "markdown",
   "metadata": {},
   "source": [
    "#### Importing needed libraries"
   ]
  },
  {
   "cell_type": "code",
   "execution_count": 1,
   "metadata": {},
   "outputs": [],
   "source": [
    "from sqlalchemy import create_engine\n",
    "import pymysql\n",
    "import pandas as pd\n",
    "import numpy as np\n",
    "import seaborn as sns\n",
    "import matplotlib.pyplot as plt\n",
    "from matplotlib.patches import Ellipse\n",
    "from matplotlib.text import OffsetFrom\n",
    "from matplotlib.pyplot import style\n",
    "from plotly import graph_objects as go"
   ]
  },
  {
   "cell_type": "markdown",
   "metadata": {},
   "source": [
    "#### Importing data"
   ]
  },
  {
   "cell_type": "code",
   "execution_count": 5,
   "metadata": {},
   "outputs": [],
   "source": [
    "msn_users = pd.read_csv(\"../Data/users.csv\")"
   ]
  },
  {
   "cell_type": "code",
   "execution_count": 6,
   "metadata": {},
   "outputs": [
    {
     "data": {
      "text/html": [
       "<div>\n",
       "<style scoped>\n",
       "    .dataframe tbody tr th:only-of-type {\n",
       "        vertical-align: middle;\n",
       "    }\n",
       "\n",
       "    .dataframe tbody tr th {\n",
       "        vertical-align: top;\n",
       "    }\n",
       "\n",
       "    .dataframe thead th {\n",
       "        text-align: right;\n",
       "    }\n",
       "</style>\n",
       "<table border=\"1\" class=\"dataframe\">\n",
       "  <thead>\n",
       "    <tr style=\"text-align: right;\">\n",
       "      <th></th>\n",
       "      <th>user_id</th>\n",
       "      <th>created_at</th>\n",
       "      <th>company_id</th>\n",
       "      <th>language</th>\n",
       "      <th>activated_at</th>\n",
       "      <th>state</th>\n",
       "    </tr>\n",
       "  </thead>\n",
       "  <tbody>\n",
       "    <tr>\n",
       "      <th>0</th>\n",
       "      <td>0.0</td>\n",
       "      <td>2013-01-01 20:59:39</td>\n",
       "      <td>5737.0</td>\n",
       "      <td>english</td>\n",
       "      <td>2013-01-01 21:01:07</td>\n",
       "      <td>active</td>\n",
       "    </tr>\n",
       "    <tr>\n",
       "      <th>1</th>\n",
       "      <td>1.0</td>\n",
       "      <td>2013-01-01 13:07:46</td>\n",
       "      <td>28.0</td>\n",
       "      <td>english</td>\n",
       "      <td>NaN</td>\n",
       "      <td>pending</td>\n",
       "    </tr>\n",
       "    <tr>\n",
       "      <th>2</th>\n",
       "      <td>2.0</td>\n",
       "      <td>2013-01-01 10:59:05</td>\n",
       "      <td>51.0</td>\n",
       "      <td>english</td>\n",
       "      <td>NaN</td>\n",
       "      <td>pending</td>\n",
       "    </tr>\n",
       "    <tr>\n",
       "      <th>3</th>\n",
       "      <td>3.0</td>\n",
       "      <td>2013-01-01 18:40:36</td>\n",
       "      <td>2800.0</td>\n",
       "      <td>german</td>\n",
       "      <td>2013-01-01 18:42:02</td>\n",
       "      <td>active</td>\n",
       "    </tr>\n",
       "    <tr>\n",
       "      <th>4</th>\n",
       "      <td>4.0</td>\n",
       "      <td>2013-01-01 14:37:51</td>\n",
       "      <td>5110.0</td>\n",
       "      <td>indian</td>\n",
       "      <td>2013-01-01 14:39:05</td>\n",
       "      <td>active</td>\n",
       "    </tr>\n",
       "  </tbody>\n",
       "</table>\n",
       "</div>"
      ],
      "text/plain": [
       "   user_id           created_at  company_id language         activated_at  \\\n",
       "0      0.0  2013-01-01 20:59:39      5737.0  english  2013-01-01 21:01:07   \n",
       "1      1.0  2013-01-01 13:07:46        28.0  english                  NaN   \n",
       "2      2.0  2013-01-01 10:59:05        51.0  english                  NaN   \n",
       "3      3.0  2013-01-01 18:40:36      2800.0   german  2013-01-01 18:42:02   \n",
       "4      4.0  2013-01-01 14:37:51      5110.0   indian  2013-01-01 14:39:05   \n",
       "\n",
       "     state  \n",
       "0   active  \n",
       "1  pending  \n",
       "2  pending  \n",
       "3   active  \n",
       "4   active  "
      ]
     },
     "execution_count": 6,
     "metadata": {},
     "output_type": "execute_result"
    }
   ],
   "source": [
    "msn_users.head()"
   ]
  },
  {
   "cell_type": "code",
   "execution_count": 7,
   "metadata": {},
   "outputs": [],
   "source": [
    "msn_events = pd.read_csv(\"../Data/events.csv\")"
   ]
  },
  {
   "cell_type": "code",
   "execution_count": 8,
   "metadata": {},
   "outputs": [
    {
     "data": {
      "text/html": [
       "<div>\n",
       "<style scoped>\n",
       "    .dataframe tbody tr th:only-of-type {\n",
       "        vertical-align: middle;\n",
       "    }\n",
       "\n",
       "    .dataframe tbody tr th {\n",
       "        vertical-align: top;\n",
       "    }\n",
       "\n",
       "    .dataframe thead th {\n",
       "        text-align: right;\n",
       "    }\n",
       "</style>\n",
       "<table border=\"1\" class=\"dataframe\">\n",
       "  <thead>\n",
       "    <tr style=\"text-align: right;\">\n",
       "      <th></th>\n",
       "      <th>user_id</th>\n",
       "      <th>occurred_at</th>\n",
       "      <th>event_type</th>\n",
       "      <th>event_name</th>\n",
       "      <th>location</th>\n",
       "      <th>device</th>\n",
       "      <th>user_type</th>\n",
       "    </tr>\n",
       "  </thead>\n",
       "  <tbody>\n",
       "    <tr>\n",
       "      <th>0</th>\n",
       "      <td>10522.0</td>\n",
       "      <td>2014-05-02 11:02:39</td>\n",
       "      <td>engagement</td>\n",
       "      <td>login</td>\n",
       "      <td>Japan</td>\n",
       "      <td>dell inspiron notebook</td>\n",
       "      <td>3.0</td>\n",
       "    </tr>\n",
       "    <tr>\n",
       "      <th>1</th>\n",
       "      <td>10522.0</td>\n",
       "      <td>2014-05-02 11:02:53</td>\n",
       "      <td>engagement</td>\n",
       "      <td>home_page</td>\n",
       "      <td>Japan</td>\n",
       "      <td>dell inspiron notebook</td>\n",
       "      <td>3.0</td>\n",
       "    </tr>\n",
       "    <tr>\n",
       "      <th>2</th>\n",
       "      <td>10522.0</td>\n",
       "      <td>2014-05-02 11:03:28</td>\n",
       "      <td>engagement</td>\n",
       "      <td>like_message</td>\n",
       "      <td>Japan</td>\n",
       "      <td>dell inspiron notebook</td>\n",
       "      <td>3.0</td>\n",
       "    </tr>\n",
       "    <tr>\n",
       "      <th>3</th>\n",
       "      <td>10522.0</td>\n",
       "      <td>2014-05-02 11:04:09</td>\n",
       "      <td>engagement</td>\n",
       "      <td>view_inbox</td>\n",
       "      <td>Japan</td>\n",
       "      <td>dell inspiron notebook</td>\n",
       "      <td>3.0</td>\n",
       "    </tr>\n",
       "    <tr>\n",
       "      <th>4</th>\n",
       "      <td>10522.0</td>\n",
       "      <td>2014-05-02 11:03:16</td>\n",
       "      <td>engagement</td>\n",
       "      <td>search_run</td>\n",
       "      <td>Japan</td>\n",
       "      <td>dell inspiron notebook</td>\n",
       "      <td>3.0</td>\n",
       "    </tr>\n",
       "  </tbody>\n",
       "</table>\n",
       "</div>"
      ],
      "text/plain": [
       "   user_id          occurred_at  event_type    event_name location  \\\n",
       "0  10522.0  2014-05-02 11:02:39  engagement         login    Japan   \n",
       "1  10522.0  2014-05-02 11:02:53  engagement     home_page    Japan   \n",
       "2  10522.0  2014-05-02 11:03:28  engagement  like_message    Japan   \n",
       "3  10522.0  2014-05-02 11:04:09  engagement    view_inbox    Japan   \n",
       "4  10522.0  2014-05-02 11:03:16  engagement    search_run    Japan   \n",
       "\n",
       "                   device  user_type  \n",
       "0  dell inspiron notebook        3.0  \n",
       "1  dell inspiron notebook        3.0  \n",
       "2  dell inspiron notebook        3.0  \n",
       "3  dell inspiron notebook        3.0  \n",
       "4  dell inspiron notebook        3.0  "
      ]
     },
     "execution_count": 8,
     "metadata": {},
     "output_type": "execute_result"
    }
   ],
   "source": [
    "msn_events.head()"
   ]
  },
  {
   "cell_type": "code",
   "execution_count": 9,
   "metadata": {},
   "outputs": [
    {
     "name": "stdout",
     "output_type": "stream",
     "text": [
      "<class 'pandas.core.frame.DataFrame'>\n",
      "RangeIndex: 340832 entries, 0 to 340831\n",
      "Data columns (total 7 columns):\n",
      "user_id        340832 non-null float64\n",
      "occurred_at    340832 non-null object\n",
      "event_type     340832 non-null object\n",
      "event_name     340832 non-null object\n",
      "location       340832 non-null object\n",
      "device         340832 non-null object\n",
      "user_type      325255 non-null float64\n",
      "dtypes: float64(2), object(5)\n",
      "memory usage: 18.2+ MB\n"
     ]
    }
   ],
   "source": [
    "msn_events.info()"
   ]
  },
  {
   "cell_type": "code",
   "execution_count": 10,
   "metadata": {},
   "outputs": [],
   "source": [
    "msn_emails = pd.read_csv(\"../Data/emails.csv\")"
   ]
  },
  {
   "cell_type": "code",
   "execution_count": 11,
   "metadata": {},
   "outputs": [
    {
     "data": {
      "text/html": [
       "<div>\n",
       "<style scoped>\n",
       "    .dataframe tbody tr th:only-of-type {\n",
       "        vertical-align: middle;\n",
       "    }\n",
       "\n",
       "    .dataframe tbody tr th {\n",
       "        vertical-align: top;\n",
       "    }\n",
       "\n",
       "    .dataframe thead th {\n",
       "        text-align: right;\n",
       "    }\n",
       "</style>\n",
       "<table border=\"1\" class=\"dataframe\">\n",
       "  <thead>\n",
       "    <tr style=\"text-align: right;\">\n",
       "      <th></th>\n",
       "      <th>user_id</th>\n",
       "      <th>occurred_at</th>\n",
       "      <th>action</th>\n",
       "      <th>user_type</th>\n",
       "    </tr>\n",
       "  </thead>\n",
       "  <tbody>\n",
       "    <tr>\n",
       "      <th>0</th>\n",
       "      <td>0.0</td>\n",
       "      <td>2014-05-06 09:30:00</td>\n",
       "      <td>sent_weekly_digest</td>\n",
       "      <td>1.0</td>\n",
       "    </tr>\n",
       "    <tr>\n",
       "      <th>1</th>\n",
       "      <td>0.0</td>\n",
       "      <td>2014-05-13 09:30:00</td>\n",
       "      <td>sent_weekly_digest</td>\n",
       "      <td>1.0</td>\n",
       "    </tr>\n",
       "    <tr>\n",
       "      <th>2</th>\n",
       "      <td>0.0</td>\n",
       "      <td>2014-05-20 09:30:00</td>\n",
       "      <td>sent_weekly_digest</td>\n",
       "      <td>1.0</td>\n",
       "    </tr>\n",
       "    <tr>\n",
       "      <th>3</th>\n",
       "      <td>0.0</td>\n",
       "      <td>2014-05-27 09:30:00</td>\n",
       "      <td>sent_weekly_digest</td>\n",
       "      <td>1.0</td>\n",
       "    </tr>\n",
       "    <tr>\n",
       "      <th>4</th>\n",
       "      <td>0.0</td>\n",
       "      <td>2014-06-03 09:30:00</td>\n",
       "      <td>sent_weekly_digest</td>\n",
       "      <td>1.0</td>\n",
       "    </tr>\n",
       "  </tbody>\n",
       "</table>\n",
       "</div>"
      ],
      "text/plain": [
       "   user_id          occurred_at              action  user_type\n",
       "0      0.0  2014-05-06 09:30:00  sent_weekly_digest        1.0\n",
       "1      0.0  2014-05-13 09:30:00  sent_weekly_digest        1.0\n",
       "2      0.0  2014-05-20 09:30:00  sent_weekly_digest        1.0\n",
       "3      0.0  2014-05-27 09:30:00  sent_weekly_digest        1.0\n",
       "4      0.0  2014-06-03 09:30:00  sent_weekly_digest        1.0"
      ]
     },
     "execution_count": 11,
     "metadata": {},
     "output_type": "execute_result"
    }
   ],
   "source": [
    "msn_emails.head()"
   ]
  },
  {
   "cell_type": "markdown",
   "metadata": {},
   "source": [
    "POSTGRESQL local connection"
   ]
  },
  {
   "cell_type": "code",
   "execution_count": 12,
   "metadata": {},
   "outputs": [],
   "source": [
    "driver = \"postgresql:\"\n",
    "user = \"postgres\"\n",
    "password = \"xxxxxxxx\"\n",
    "ip = \"localhost:5432\"\n",
    "database = \"internal_messenger\""
   ]
  },
  {
   "cell_type": "code",
   "execution_count": 14,
   "metadata": {},
   "outputs": [],
   "source": [
    "postgresql_connection_string = f\"{driver}//{user}:{password}@{ip}/{database}\"\n",
    "engine = create_engine(postgresql_connection_string)"
   ]
  },
  {
   "cell_type": "markdown",
   "metadata": {},
   "source": [
    "#### Uploading data to the POSTGRESQL DB"
   ]
  },
  {
   "cell_type": "code",
   "execution_count": null,
   "metadata": {},
   "outputs": [],
   "source": [
    "msn_users.to_sql(\"users\", con=engine, if_exists=\"append\", index=False)"
   ]
  },
  {
   "cell_type": "code",
   "execution_count": null,
   "metadata": {},
   "outputs": [],
   "source": [
    "msn_events.to_sql(\"events\", con=engine, if_exists=\"append\", index=False)"
   ]
  },
  {
   "cell_type": "code",
   "execution_count": null,
   "metadata": {},
   "outputs": [],
   "source": [
    "msn_emails.to_sql(\"emails\", con=engine, if_exists=\"append\", index=False)"
   ]
  },
  {
   "cell_type": "markdown",
   "metadata": {},
   "source": [
    "## Queries. Finding reasons behind the user engagement drop"
   ]
  },
  {
   "cell_type": "markdown",
   "metadata": {},
   "source": [
    "#### Fetching all data from the db to check that the connection is working properly and the datasets are correctly uploaded"
   ]
  },
  {
   "cell_type": "code",
   "execution_count": 15,
   "metadata": {},
   "outputs": [],
   "source": [
    "query_users_pg = \"\"\"\n",
    "SELECT *\n",
    "FROM users;\n",
    "\"\"\""
   ]
  },
  {
   "cell_type": "code",
   "execution_count": 16,
   "metadata": {},
   "outputs": [],
   "source": [
    "users = pd.read_sql(query_users_pg, engine)"
   ]
  },
  {
   "cell_type": "code",
   "execution_count": 17,
   "metadata": {},
   "outputs": [
    {
     "data": {
      "text/html": [
       "<div>\n",
       "<style scoped>\n",
       "    .dataframe tbody tr th:only-of-type {\n",
       "        vertical-align: middle;\n",
       "    }\n",
       "\n",
       "    .dataframe tbody tr th {\n",
       "        vertical-align: top;\n",
       "    }\n",
       "\n",
       "    .dataframe thead th {\n",
       "        text-align: right;\n",
       "    }\n",
       "</style>\n",
       "<table border=\"1\" class=\"dataframe\">\n",
       "  <thead>\n",
       "    <tr style=\"text-align: right;\">\n",
       "      <th></th>\n",
       "      <th>user_id</th>\n",
       "      <th>created_at</th>\n",
       "      <th>company_id</th>\n",
       "      <th>language</th>\n",
       "      <th>activated_at</th>\n",
       "      <th>state</th>\n",
       "    </tr>\n",
       "  </thead>\n",
       "  <tbody>\n",
       "    <tr>\n",
       "      <th>0</th>\n",
       "      <td>0.0</td>\n",
       "      <td>2013-01-01 20:59:39</td>\n",
       "      <td>5737.0</td>\n",
       "      <td>english</td>\n",
       "      <td>2013-01-01 21:01:07</td>\n",
       "      <td>active</td>\n",
       "    </tr>\n",
       "    <tr>\n",
       "      <th>1</th>\n",
       "      <td>1.0</td>\n",
       "      <td>2013-01-01 13:07:46</td>\n",
       "      <td>28.0</td>\n",
       "      <td>english</td>\n",
       "      <td>None</td>\n",
       "      <td>pending</td>\n",
       "    </tr>\n",
       "    <tr>\n",
       "      <th>2</th>\n",
       "      <td>2.0</td>\n",
       "      <td>2013-01-01 10:59:05</td>\n",
       "      <td>51.0</td>\n",
       "      <td>english</td>\n",
       "      <td>None</td>\n",
       "      <td>pending</td>\n",
       "    </tr>\n",
       "    <tr>\n",
       "      <th>3</th>\n",
       "      <td>3.0</td>\n",
       "      <td>2013-01-01 18:40:36</td>\n",
       "      <td>2800.0</td>\n",
       "      <td>german</td>\n",
       "      <td>2013-01-01 18:42:02</td>\n",
       "      <td>active</td>\n",
       "    </tr>\n",
       "    <tr>\n",
       "      <th>4</th>\n",
       "      <td>4.0</td>\n",
       "      <td>2013-01-01 14:37:51</td>\n",
       "      <td>5110.0</td>\n",
       "      <td>indian</td>\n",
       "      <td>2013-01-01 14:39:05</td>\n",
       "      <td>active</td>\n",
       "    </tr>\n",
       "  </tbody>\n",
       "</table>\n",
       "</div>"
      ],
      "text/plain": [
       "   user_id           created_at  company_id language         activated_at  \\\n",
       "0      0.0  2013-01-01 20:59:39      5737.0  english  2013-01-01 21:01:07   \n",
       "1      1.0  2013-01-01 13:07:46        28.0  english                 None   \n",
       "2      2.0  2013-01-01 10:59:05        51.0  english                 None   \n",
       "3      3.0  2013-01-01 18:40:36      2800.0   german  2013-01-01 18:42:02   \n",
       "4      4.0  2013-01-01 14:37:51      5110.0   indian  2013-01-01 14:39:05   \n",
       "\n",
       "     state  \n",
       "0   active  \n",
       "1  pending  \n",
       "2  pending  \n",
       "3   active  \n",
       "4   active  "
      ]
     },
     "execution_count": 17,
     "metadata": {},
     "output_type": "execute_result"
    }
   ],
   "source": [
    "users.head()"
   ]
  },
  {
   "cell_type": "code",
   "execution_count": 18,
   "metadata": {},
   "outputs": [],
   "source": [
    "query_events_pg = \"\"\"\n",
    "SELECT *\n",
    "FROM events;\n",
    "\"\"\""
   ]
  },
  {
   "cell_type": "code",
   "execution_count": 19,
   "metadata": {},
   "outputs": [],
   "source": [
    "events = pd.read_sql(query_events_pg, engine)"
   ]
  },
  {
   "cell_type": "code",
   "execution_count": 20,
   "metadata": {},
   "outputs": [
    {
     "data": {
      "text/html": [
       "<div>\n",
       "<style scoped>\n",
       "    .dataframe tbody tr th:only-of-type {\n",
       "        vertical-align: middle;\n",
       "    }\n",
       "\n",
       "    .dataframe tbody tr th {\n",
       "        vertical-align: top;\n",
       "    }\n",
       "\n",
       "    .dataframe thead th {\n",
       "        text-align: right;\n",
       "    }\n",
       "</style>\n",
       "<table border=\"1\" class=\"dataframe\">\n",
       "  <thead>\n",
       "    <tr style=\"text-align: right;\">\n",
       "      <th></th>\n",
       "      <th>user_id</th>\n",
       "      <th>occurred_at</th>\n",
       "      <th>event_type</th>\n",
       "      <th>event_name</th>\n",
       "      <th>location</th>\n",
       "      <th>device</th>\n",
       "      <th>user_type</th>\n",
       "    </tr>\n",
       "  </thead>\n",
       "  <tbody>\n",
       "    <tr>\n",
       "      <th>0</th>\n",
       "      <td>10522.0</td>\n",
       "      <td>2014-05-02 11:02:39</td>\n",
       "      <td>engagement</td>\n",
       "      <td>login</td>\n",
       "      <td>Japan</td>\n",
       "      <td>dell inspiron notebook</td>\n",
       "      <td>3.0</td>\n",
       "    </tr>\n",
       "    <tr>\n",
       "      <th>1</th>\n",
       "      <td>10522.0</td>\n",
       "      <td>2014-05-02 11:02:53</td>\n",
       "      <td>engagement</td>\n",
       "      <td>home_page</td>\n",
       "      <td>Japan</td>\n",
       "      <td>dell inspiron notebook</td>\n",
       "      <td>3.0</td>\n",
       "    </tr>\n",
       "    <tr>\n",
       "      <th>2</th>\n",
       "      <td>10522.0</td>\n",
       "      <td>2014-05-02 11:03:28</td>\n",
       "      <td>engagement</td>\n",
       "      <td>like_message</td>\n",
       "      <td>Japan</td>\n",
       "      <td>dell inspiron notebook</td>\n",
       "      <td>3.0</td>\n",
       "    </tr>\n",
       "    <tr>\n",
       "      <th>3</th>\n",
       "      <td>10522.0</td>\n",
       "      <td>2014-05-02 11:04:09</td>\n",
       "      <td>engagement</td>\n",
       "      <td>view_inbox</td>\n",
       "      <td>Japan</td>\n",
       "      <td>dell inspiron notebook</td>\n",
       "      <td>3.0</td>\n",
       "    </tr>\n",
       "    <tr>\n",
       "      <th>4</th>\n",
       "      <td>10522.0</td>\n",
       "      <td>2014-05-02 11:03:16</td>\n",
       "      <td>engagement</td>\n",
       "      <td>search_run</td>\n",
       "      <td>Japan</td>\n",
       "      <td>dell inspiron notebook</td>\n",
       "      <td>3.0</td>\n",
       "    </tr>\n",
       "  </tbody>\n",
       "</table>\n",
       "</div>"
      ],
      "text/plain": [
       "   user_id          occurred_at  event_type    event_name location  \\\n",
       "0  10522.0  2014-05-02 11:02:39  engagement         login    Japan   \n",
       "1  10522.0  2014-05-02 11:02:53  engagement     home_page    Japan   \n",
       "2  10522.0  2014-05-02 11:03:28  engagement  like_message    Japan   \n",
       "3  10522.0  2014-05-02 11:04:09  engagement    view_inbox    Japan   \n",
       "4  10522.0  2014-05-02 11:03:16  engagement    search_run    Japan   \n",
       "\n",
       "                   device  user_type  \n",
       "0  dell inspiron notebook        3.0  \n",
       "1  dell inspiron notebook        3.0  \n",
       "2  dell inspiron notebook        3.0  \n",
       "3  dell inspiron notebook        3.0  \n",
       "4  dell inspiron notebook        3.0  "
      ]
     },
     "execution_count": 20,
     "metadata": {},
     "output_type": "execute_result"
    }
   ],
   "source": [
    "events.head()"
   ]
  },
  {
   "cell_type": "code",
   "execution_count": 21,
   "metadata": {},
   "outputs": [],
   "source": [
    "query_emails_pg = \"\"\"\n",
    "SELECT *\n",
    "FROM emails;\n",
    "\"\"\""
   ]
  },
  {
   "cell_type": "code",
   "execution_count": 22,
   "metadata": {},
   "outputs": [],
   "source": [
    "emails = pd.read_sql(query_emails_pg, engine)"
   ]
  },
  {
   "cell_type": "code",
   "execution_count": 23,
   "metadata": {},
   "outputs": [
    {
     "data": {
      "text/html": [
       "<div>\n",
       "<style scoped>\n",
       "    .dataframe tbody tr th:only-of-type {\n",
       "        vertical-align: middle;\n",
       "    }\n",
       "\n",
       "    .dataframe tbody tr th {\n",
       "        vertical-align: top;\n",
       "    }\n",
       "\n",
       "    .dataframe thead th {\n",
       "        text-align: right;\n",
       "    }\n",
       "</style>\n",
       "<table border=\"1\" class=\"dataframe\">\n",
       "  <thead>\n",
       "    <tr style=\"text-align: right;\">\n",
       "      <th></th>\n",
       "      <th>user_id</th>\n",
       "      <th>occurred_at</th>\n",
       "      <th>action</th>\n",
       "      <th>user_type</th>\n",
       "    </tr>\n",
       "  </thead>\n",
       "  <tbody>\n",
       "    <tr>\n",
       "      <th>0</th>\n",
       "      <td>0.0</td>\n",
       "      <td>2014-05-06 09:30:00</td>\n",
       "      <td>sent_weekly_digest</td>\n",
       "      <td>1.0</td>\n",
       "    </tr>\n",
       "    <tr>\n",
       "      <th>1</th>\n",
       "      <td>0.0</td>\n",
       "      <td>2014-05-13 09:30:00</td>\n",
       "      <td>sent_weekly_digest</td>\n",
       "      <td>1.0</td>\n",
       "    </tr>\n",
       "    <tr>\n",
       "      <th>2</th>\n",
       "      <td>0.0</td>\n",
       "      <td>2014-05-20 09:30:00</td>\n",
       "      <td>sent_weekly_digest</td>\n",
       "      <td>1.0</td>\n",
       "    </tr>\n",
       "    <tr>\n",
       "      <th>3</th>\n",
       "      <td>0.0</td>\n",
       "      <td>2014-05-27 09:30:00</td>\n",
       "      <td>sent_weekly_digest</td>\n",
       "      <td>1.0</td>\n",
       "    </tr>\n",
       "    <tr>\n",
       "      <th>4</th>\n",
       "      <td>0.0</td>\n",
       "      <td>2014-06-03 09:30:00</td>\n",
       "      <td>sent_weekly_digest</td>\n",
       "      <td>1.0</td>\n",
       "    </tr>\n",
       "  </tbody>\n",
       "</table>\n",
       "</div>"
      ],
      "text/plain": [
       "   user_id          occurred_at              action  user_type\n",
       "0      0.0  2014-05-06 09:30:00  sent_weekly_digest        1.0\n",
       "1      0.0  2014-05-13 09:30:00  sent_weekly_digest        1.0\n",
       "2      0.0  2014-05-20 09:30:00  sent_weekly_digest        1.0\n",
       "3      0.0  2014-05-27 09:30:00  sent_weekly_digest        1.0\n",
       "4      0.0  2014-06-03 09:30:00  sent_weekly_digest        1.0"
      ]
     },
     "execution_count": 23,
     "metadata": {},
     "output_type": "execute_result"
    }
   ],
   "source": [
    "emails.head()"
   ]
  },
  {
   "cell_type": "markdown",
   "metadata": {},
   "source": [
    "## The issue. A drop in user engagement"
   ]
  },
  {
   "cell_type": "markdown",
   "metadata": {},
   "source": []
  },
  {
   "cell_type": "code",
   "execution_count": null,
   "metadata": {},
   "outputs": [],
   "source": []
  },
  {
   "cell_type": "code",
   "execution_count": 24,
   "metadata": {},
   "outputs": [],
   "source": [
    "query_issue = \"\"\"\n",
    "SELECT SUBSTR(((DATE_TRUNC('week', occurred_at::date)))::text, 6, 5) AS week,\n",
    " COUNT(DISTINCT user_id) AS weekly_active_users\n",
    "FROM events\n",
    "WHERE event_name = 'login'\n",
    "GROUP BY week\n",
    "ORDER BY week;\n",
    "\"\"\"\n",
    "user_engagement = pd.read_sql(query_issue, engine)"
   ]
  },
  {
   "cell_type": "code",
   "execution_count": 25,
   "metadata": {},
   "outputs": [
    {
     "data": {
      "text/html": [
       "<div>\n",
       "<style scoped>\n",
       "    .dataframe tbody tr th:only-of-type {\n",
       "        vertical-align: middle;\n",
       "    }\n",
       "\n",
       "    .dataframe tbody tr th {\n",
       "        vertical-align: top;\n",
       "    }\n",
       "\n",
       "    .dataframe thead th {\n",
       "        text-align: right;\n",
       "    }\n",
       "</style>\n",
       "<table border=\"1\" class=\"dataframe\">\n",
       "  <thead>\n",
       "    <tr style=\"text-align: right;\">\n",
       "      <th></th>\n",
       "      <th>week</th>\n",
       "      <th>weekly_active_users</th>\n",
       "    </tr>\n",
       "  </thead>\n",
       "  <tbody>\n",
       "    <tr>\n",
       "      <th>0</th>\n",
       "      <td>04-28</td>\n",
       "      <td>701</td>\n",
       "    </tr>\n",
       "    <tr>\n",
       "      <th>1</th>\n",
       "      <td>05-05</td>\n",
       "      <td>1054</td>\n",
       "    </tr>\n",
       "    <tr>\n",
       "      <th>2</th>\n",
       "      <td>05-12</td>\n",
       "      <td>1094</td>\n",
       "    </tr>\n",
       "    <tr>\n",
       "      <th>3</th>\n",
       "      <td>05-19</td>\n",
       "      <td>1147</td>\n",
       "    </tr>\n",
       "    <tr>\n",
       "      <th>4</th>\n",
       "      <td>05-26</td>\n",
       "      <td>1113</td>\n",
       "    </tr>\n",
       "    <tr>\n",
       "      <th>5</th>\n",
       "      <td>06-02</td>\n",
       "      <td>1173</td>\n",
       "    </tr>\n",
       "    <tr>\n",
       "      <th>6</th>\n",
       "      <td>06-09</td>\n",
       "      <td>1219</td>\n",
       "    </tr>\n",
       "    <tr>\n",
       "      <th>7</th>\n",
       "      <td>06-16</td>\n",
       "      <td>1262</td>\n",
       "    </tr>\n",
       "    <tr>\n",
       "      <th>8</th>\n",
       "      <td>06-23</td>\n",
       "      <td>1249</td>\n",
       "    </tr>\n",
       "    <tr>\n",
       "      <th>9</th>\n",
       "      <td>06-30</td>\n",
       "      <td>1271</td>\n",
       "    </tr>\n",
       "    <tr>\n",
       "      <th>10</th>\n",
       "      <td>07-07</td>\n",
       "      <td>1355</td>\n",
       "    </tr>\n",
       "    <tr>\n",
       "      <th>11</th>\n",
       "      <td>07-14</td>\n",
       "      <td>1345</td>\n",
       "    </tr>\n",
       "    <tr>\n",
       "      <th>12</th>\n",
       "      <td>07-21</td>\n",
       "      <td>1363</td>\n",
       "    </tr>\n",
       "    <tr>\n",
       "      <th>13</th>\n",
       "      <td>07-28</td>\n",
       "      <td>1442</td>\n",
       "    </tr>\n",
       "    <tr>\n",
       "      <th>14</th>\n",
       "      <td>08-04</td>\n",
       "      <td>1266</td>\n",
       "    </tr>\n",
       "    <tr>\n",
       "      <th>15</th>\n",
       "      <td>08-11</td>\n",
       "      <td>1215</td>\n",
       "    </tr>\n",
       "    <tr>\n",
       "      <th>16</th>\n",
       "      <td>08-18</td>\n",
       "      <td>1203</td>\n",
       "    </tr>\n",
       "    <tr>\n",
       "      <th>17</th>\n",
       "      <td>08-25</td>\n",
       "      <td>1194</td>\n",
       "    </tr>\n",
       "  </tbody>\n",
       "</table>\n",
       "</div>"
      ],
      "text/plain": [
       "     week  weekly_active_users\n",
       "0   04-28                  701\n",
       "1   05-05                 1054\n",
       "2   05-12                 1094\n",
       "3   05-19                 1147\n",
       "4   05-26                 1113\n",
       "5   06-02                 1173\n",
       "6   06-09                 1219\n",
       "7   06-16                 1262\n",
       "8   06-23                 1249\n",
       "9   06-30                 1271\n",
       "10  07-07                 1355\n",
       "11  07-14                 1345\n",
       "12  07-21                 1363\n",
       "13  07-28                 1442\n",
       "14  08-04                 1266\n",
       "15  08-11                 1215\n",
       "16  08-18                 1203\n",
       "17  08-25                 1194"
      ]
     },
     "execution_count": 25,
     "metadata": {},
     "output_type": "execute_result"
    }
   ],
   "source": [
    "user_engagement"
   ]
  },
  {
   "cell_type": "code",
   "execution_count": 122,
   "metadata": {},
   "outputs": [
    {
     "data": {
      "image/png": "[encoded data removed]",
      "text/plain": [
       "<Figure size 1080x504 with 1 Axes>"
      ]
     },
     "metadata": {},
     "output_type": "display_data"
    }
   ],
   "source": [
    "with plt.style.context('seaborn-whitegrid'):\n",
    "    \n",
    "    fig, ax = plt.subplots(figsize=(15,7))\n",
    "    fig.suptitle(\"Weekly active users\", fontsize=22, fontweight=650, y=0.94)\n",
    "    \n",
    "    sns.lineplot(user_engagement[\"week\"], user_engagement[\"weekly_active_users\"], lw=5, color=\"gray\")\n",
    "    ax.set_ylim(0, 1600)\n",
    "    ax.tick_params(axis=\"x\", labelsize=16, rotation=50)\n",
    "    ax.tick_params(axis=\"y\", labelsize=16)\n",
    "    ax.set_xlabel(\"Date\", fontsize=18, fontweight=650)\n",
    "    ax.set_ylabel(\"Active users\", fontsize=18, fontweight=650)\n",
    "    \n",
    "    ax.fill_between(user_engagement[\"week\"], 0,\n",
    "                 user_engagement[\"weekly_active_users\"], facecolor='gray', alpha=0.2)\n",
    "\n",
    "    for label in ax.get_xticklabels():\n",
    "        label.set_horizontalalignment('right')\n",
    "        \n",
    "    ax.annotate(\"engagement drop\",\n",
    "    xy=(13.8, 1340), xycoords='data',\n",
    "    xytext=(50, 0), textcoords='offset points',\n",
    "    size=15, va=\"center\",\n",
    "    bbox=dict(boxstyle=\"round\", fc=(0.6, 0.5, 0.8), ec=\"none\"),\n",
    "    arrowprops=dict(arrowstyle=\"wedge,tail_width=1.\",\n",
    "                    fc=(0.7, 0.7, 0.7), ec=\"none\",\n",
    "                    patchA=None,\n",
    "                    patchB=None,\n",
    "                    relpos=(0.5, 0.5),\n",
    "                    connectionstyle=\"arc3,rad=0.5\"))\n",
    "\n",
    "    plt.show()"
   ]
  },
  {
   "cell_type": "markdown",
   "metadata": {},
   "source": [
    "## Holidays"
   ]
  },
  {
   "cell_type": "markdown",
   "metadata": {},
   "source": [
    "*This query below tries to find the countries where the number of active users in august was greater than in july. In order to consider holidays as the reason for the user engagement drop we would like to see in the query output a list of countries where august is not the main vacation month, which we would expect either from countries whose tradition makes that the predominant vacation month is none in particular, or just another one because of for example, being located in the south hemisphere.*"
   ]
  },
  {
   "cell_type": "code",
   "execution_count": 123,
   "metadata": {},
   "outputs": [],
   "source": [
    "query_holidays= \"\"\"\n",
    "SELECT sub3.location\n",
    "FROM(\n",
    "    SELECT sub2.*\n",
    "    FROM(\n",
    "        SELECT sub1.*, LAG(sub1.active_users, 1) OVER (PARTITION BY sub1.location) AS active_users_t0\n",
    "        FROM(\n",
    "            SELECT location, EXTRACT('month' FROM occurred_at::date) AS month,\n",
    "             COUNT(DISTINCT user_id) as active_users\n",
    "            FROM events\n",
    "            WHERE event_name = 'login'\n",
    "            GROUP BY location, month\n",
    "            ) sub1\n",
    "        ) sub2\n",
    "    WHERE sub2.month = 8\n",
    "    ) sub3\n",
    "WHERE sub3.active_users - sub3.active_users_t0 > 0;\n",
    "\"\"\"\n",
    "\n",
    "holidays_1 = pd.read_sql(query_holidays, engine)"
   ]
  },
  {
   "cell_type": "code",
   "execution_count": 124,
   "metadata": {},
   "outputs": [
    {
     "data": {
      "text/html": [
       "<div>\n",
       "<style scoped>\n",
       "    .dataframe tbody tr th:only-of-type {\n",
       "        vertical-align: middle;\n",
       "    }\n",
       "\n",
       "    .dataframe tbody tr th {\n",
       "        vertical-align: top;\n",
       "    }\n",
       "\n",
       "    .dataframe thead th {\n",
       "        text-align: right;\n",
       "    }\n",
       "</style>\n",
       "<table border=\"1\" class=\"dataframe\">\n",
       "  <thead>\n",
       "    <tr style=\"text-align: right;\">\n",
       "      <th></th>\n",
       "      <th>location</th>\n",
       "    </tr>\n",
       "  </thead>\n",
       "  <tbody>\n",
       "    <tr>\n",
       "      <th>0</th>\n",
       "      <td>Colombia</td>\n",
       "    </tr>\n",
       "    <tr>\n",
       "      <th>1</th>\n",
       "      <td>Denmark</td>\n",
       "    </tr>\n",
       "    <tr>\n",
       "      <th>2</th>\n",
       "      <td>Egypt</td>\n",
       "    </tr>\n",
       "    <tr>\n",
       "      <th>3</th>\n",
       "      <td>Greece</td>\n",
       "    </tr>\n",
       "    <tr>\n",
       "      <th>4</th>\n",
       "      <td>Indonesia</td>\n",
       "    </tr>\n",
       "    <tr>\n",
       "      <th>5</th>\n",
       "      <td>Iraq</td>\n",
       "    </tr>\n",
       "    <tr>\n",
       "      <th>6</th>\n",
       "      <td>Ireland</td>\n",
       "    </tr>\n",
       "    <tr>\n",
       "      <th>7</th>\n",
       "      <td>Malaysia</td>\n",
       "    </tr>\n",
       "    <tr>\n",
       "      <th>8</th>\n",
       "      <td>Pakistan</td>\n",
       "    </tr>\n",
       "    <tr>\n",
       "      <th>9</th>\n",
       "      <td>Philippines</td>\n",
       "    </tr>\n",
       "    <tr>\n",
       "      <th>10</th>\n",
       "      <td>Poland</td>\n",
       "    </tr>\n",
       "    <tr>\n",
       "      <th>11</th>\n",
       "      <td>Portugal</td>\n",
       "    </tr>\n",
       "    <tr>\n",
       "      <th>12</th>\n",
       "      <td>Singapore</td>\n",
       "    </tr>\n",
       "    <tr>\n",
       "      <th>13</th>\n",
       "      <td>South Africa</td>\n",
       "    </tr>\n",
       "    <tr>\n",
       "      <th>14</th>\n",
       "      <td>Spain</td>\n",
       "    </tr>\n",
       "    <tr>\n",
       "      <th>15</th>\n",
       "      <td>Turkey</td>\n",
       "    </tr>\n",
       "  </tbody>\n",
       "</table>\n",
       "</div>"
      ],
      "text/plain": [
       "        location\n",
       "0       Colombia\n",
       "1        Denmark\n",
       "2          Egypt\n",
       "3         Greece\n",
       "4      Indonesia\n",
       "5           Iraq\n",
       "6        Ireland\n",
       "7       Malaysia\n",
       "8       Pakistan\n",
       "9    Philippines\n",
       "10        Poland\n",
       "11      Portugal\n",
       "12     Singapore\n",
       "13  South Africa\n",
       "14         Spain\n",
       "15        Turkey"
      ]
     },
     "execution_count": 124,
     "metadata": {},
     "output_type": "execute_result"
    }
   ],
   "source": [
    "holidays_1"
   ]
  },
  {
   "cell_type": "markdown",
   "metadata": {},
   "source": [
    "I am Spanish and I can confirm august is traditionally the predominant vacation month. Well, here below is how the engagement user looks like by month in Spain"
   ]
  },
  {
   "cell_type": "code",
   "execution_count": 125,
   "metadata": {},
   "outputs": [],
   "source": [
    "query_holidays= \"\"\"\n",
    "SELECT LEFT((DATE_TRUNC('month', occurred_at::date))::text, 7) AS month,\n",
    " COUNT(DISTINCT user_id) AS monthly_active_users\n",
    "FROM events\n",
    "WHERE event_name = 'login' AND location = 'Spain'\n",
    "GROUP BY month;\n",
    "\"\"\"\n",
    "holidays_2 = pd.read_sql(query_holidays, engine)"
   ]
  },
  {
   "cell_type": "code",
   "execution_count": 126,
   "metadata": {},
   "outputs": [
    {
     "data": {
      "image/png": "[encoded data removed]",
      "text/plain": [
       "<Figure size 864x504 with 1 Axes>"
      ]
     },
     "metadata": {},
     "output_type": "display_data"
    }
   ],
   "source": [
    "with plt.style.context('seaborn-whitegrid'):\n",
    "    \n",
    "    plt.figure(figsize=(12,7))\n",
    "    plt.title(\"Spain. Monthly active users\", fontsize=22, fontweight=650, y=1.02)\n",
    "    \n",
    "    plt.bar(holidays_2[\"month\"], holidays_2[\"monthly_active_users\"], color=\"indianred\", width=0.6,\n",
    "            edgecolor=\"black\", linewidth=3)\n",
    "    plt.ylim(0, holidays_2.monthly_active_users.max()+8)\n",
    "    plt.tick_params(axis=\"x\", labelsize=16, pad=15)\n",
    "    plt.tick_params(axis=\"y\", labelsize=16)\n",
    "    plt.xlabel(\"Date\", fontsize=18, fontweight=650)\n",
    "    plt.ylabel(\"Active users\", fontsize=18, fontweight=650)\n",
    "\n",
    "    plt.show()"
   ]
  },
  {
   "cell_type": "markdown",
   "metadata": {},
   "source": [
    "This in particular somewhat discourages me to think that holidays is the reason for the user engagement drop. [Develop further]"
   ]
  },
  {
   "cell_type": "markdown",
   "metadata": {},
   "source": [
    "### Broken feature"
   ]
  },
  {
   "cell_type": "markdown",
   "metadata": {},
   "source": [
    "#### Device type"
   ]
  },
  {
   "cell_type": "code",
   "execution_count": null,
   "metadata": {},
   "outputs": [],
   "source": [
    "query_model_device = \"\"\"\n",
    "SELECT DISTINCT device\n",
    "FROM events;\n",
    "\"\"\"\n",
    "device_0 = pd.read_sql(query_model_device, engine)"
   ]
  },
  {
   "cell_type": "markdown",
   "metadata": {},
   "source": [
    "Below are listed all the model devices that have been used to log into the intranet"
   ]
  },
  {
   "cell_type": "code",
   "execution_count": null,
   "metadata": {},
   "outputs": [],
   "source": [
    "device_0"
   ]
  },
  {
   "cell_type": "code",
   "execution_count": null,
   "metadata": {},
   "outputs": [],
   "source": [
    "query_model_device = \"\"\"\n",
    "SELECT sub1.device_type AS device_type,\n",
    " SUBSTR(((DATE_TRUNC('week', occurred_at::date)))::text, 6, 5) AS week,\n",
    " COUNT(DISTINCT user_id) as active_users\n",
    "FROM(\n",
    "    SELECT *,\n",
    "    CASE WHEN device IN ('nexus 10', 'windows surface', 'nexus 7', 'kindle fire') \n",
    "          OR device LIKE '%%pad%%' OR device ILIKE '%%tablet%%' THEN 'tablet'\n",
    "         WHEN device IN ('nexus 5', 'samsung galaxy note', 'samsung galaxy s4', 'htc one', 'nokia 635')\n",
    "          OR device LIKE '%%phone%%' THEN 'phone'\n",
    "         ELSE 'laptop/PC' END AS device_type\n",
    "    FROM events\n",
    "    ) sub1\n",
    "WHERE event_name = 'login'\n",
    "GROUP BY device_type, week\n",
    "ORDER BY week, device_type; \n",
    "\"\"\"\n",
    "\n",
    "device_1 = pd.read_sql(query_model_device, engine)"
   ]
  },
  {
   "cell_type": "code",
   "execution_count": null,
   "metadata": {},
   "outputs": [],
   "source": [
    "device_1.head(10)"
   ]
  },
  {
   "cell_type": "code",
   "execution_count": null,
   "metadata": {},
   "outputs": [],
   "source": [
    "with plt.style.context('seaborn-whitegrid'):\n",
    "    \n",
    "    fig, ax = plt.subplots(figsize=(15,7))\n",
    "    fig.suptitle(\"Weekly active users per device type\", fontsize=20, fontweight=550, y=0.94)  \n",
    "    \n",
    "    ax=sns.lineplot(x=\"week\", y=\"active_users\", data=device_1, hue=\"device_type\", palette=\"Dark2\", lw=4) \n",
    "    ax.set_ylim(0, device_1.active_users.max()+50)\n",
    "    ax.tick_params(axis=\"x\", labelsize=16, rotation=50)\n",
    "    ax.tick_params(axis=\"y\", labelsize=16)\n",
    "    ax.set_xlabel(\"Date\", fontsize=18, fontweight=650)\n",
    "    ax.set_ylabel(\"Active users\", fontsize=18, fontweight=650)\n",
    "\n",
    "    for label in ax.get_xticklabels():\n",
    "        label.set_horizontalalignment('right')\n",
    "\n",
    "    handles, labels = ax.get_legend_handles_labels()\n",
    "    ax.legend(loc=\"lower right\", handles=handles[1:], labels=labels[1:], prop={'size': 12}, frameon=\"yes\",\n",
    "              edgecolor=\"black\", title=\"Device type\", title_fontsize=20)\n",
    "\n",
    "    plt.show()"
   ]
  },
  {
   "cell_type": "code",
   "execution_count": null,
   "metadata": {},
   "outputs": [],
   "source": [
    "query_model_device = \"\"\"\n",
    "SELECT device_type, active_users_t0, active_users, (active_users-active_users_t0) AS variation_drop,\n",
    " ROUND(CAST(((active_users::float-active_users_t0::float) / active_users_t0)*100 as numeric) ,2) AS variation_pct\n",
    "FROM(\n",
    "    SELECT sub3.*\n",
    "    FROM(\n",
    "        SELECT sub2.*, LAG(sub2.active_users, 1) OVER (PARTITION BY sub2.device_type) AS active_users_t0\n",
    "        FROM(\n",
    "            SELECT sub1.device_type AS device_type, EXTRACT('month' FROM occurred_at::date) AS month,\n",
    "             COUNT(DISTINCT user_id) as active_users\n",
    "            FROM(\n",
    "                SELECT *,\n",
    "                CASE WHEN device IN ('nexus 10', 'windows surface', 'nexus 7', 'kindle fire') \n",
    "                      OR device LIKE '%%pad%%' OR device ILIKE '%%tablet%%' THEN 'tablet'\n",
    "                     WHEN device IN ('nexus 5', 'samsung galaxy note', 'samsung galaxy s4', 'htc one', 'nokia 635')\n",
    "                      OR device LIKE '%%phone%%' THEN 'phone'\n",
    "                     ELSE 'laptop/PC' END AS device_type\n",
    "                FROM events\n",
    "                ) sub1\n",
    "            WHERE event_name = 'login'\n",
    "            GROUP BY device_type, month\n",
    "            ) sub2\n",
    "        ) sub3\n",
    "    WHERE sub3.month = 8\n",
    "    ) sub4;  \n",
    "\"\"\"\n",
    "\n",
    "device_2 = pd.read_sql(query_model_device, engine)"
   ]
  },
  {
   "cell_type": "code",
   "execution_count": null,
   "metadata": {},
   "outputs": [],
   "source": [
    "device_2.style.format({\"variation_pct\":\"{:.2f}%\"})"
   ]
  },
  {
   "cell_type": "code",
   "execution_count": null,
   "metadata": {},
   "outputs": [],
   "source": [
    "with plt.style.context('seaborn-whitegrid'):\n",
    "    \n",
    "    fig, ax = plt.subplots(figsize=(12,7))\n",
    "    fig.suptitle(\"Drop in active users from july to august by device type\", fontsize=20, fontweight=650, y=0.94)\n",
    "    \n",
    "    ax.bar(device_2[\"device_type\"], device_2[\"variation_pct\"], color=\"indianred\", width=0.6,\n",
    "            edgecolor=\"black\", linewidth=3)\n",
    "    ax.tick_params(axis=\"x\", labelsize=16, pad=5)\n",
    "    ax.tick_params(axis=\"y\", labelsize=16)\n",
    "    ax.set_xlabel(\"Device type\", fontsize=18, fontweight=650, labelpad=10)\n",
    "    ax.set_ylabel(\"Active users % variation\", fontsize=18, fontweight=650, labelpad=10)\n",
    "    \n",
    "    ylabels = ['{:,.0f}%'.format(x) for x in ax.get_yticks()]\n",
    "    ax.set_yticklabels(ylabels)\n",
    "\n",
    "    plt.show()"
   ]
  },
  {
   "cell_type": "markdown",
   "metadata": {},
   "source": [
    "### Operative system"
   ]
  },
  {
   "cell_type": "code",
   "execution_count": null,
   "metadata": {},
   "outputs": [],
   "source": [
    "query_operative_system = \"\"\"\n",
    "SELECT sub1.device_os AS device_os,\n",
    " SUBSTR(((DATE_TRUNC('week', occurred_at::date)))::text, 6, 5) AS week,\n",
    " COUNT(DISTINCT user_id) as active_users\n",
    "FROM(\n",
    "    SELECT *,\n",
    "    CASE WHEN device LIKE 'i%%' OR device ILIKE '%%mac%%' THEN 'apple'\n",
    "     WHEN device LIKE '%%nexus%%' OR device LIKE '%%galaxy%%' OR device LIKE '%%nokia%%'\n",
    "      OR device LIKE '%%HTC%%' THEN 'android'\n",
    "     WHEN device LIKE '%%fire%%' THEN 'fire os'\n",
    "     ELSE 'windows' END AS device_os\n",
    "    FROM events\n",
    "    ) sub1\n",
    "WHERE event_name = 'login'\n",
    "GROUP BY device_os, week\n",
    "ORDER BY week, device_os; \n",
    "\"\"\"\n",
    "\n",
    "operative_system_1 = pd.read_sql(query_operative_system, engine)"
   ]
  },
  {
   "cell_type": "code",
   "execution_count": null,
   "metadata": {},
   "outputs": [],
   "source": [
    "operative_system_1.head(10)"
   ]
  },
  {
   "cell_type": "code",
   "execution_count": null,
   "metadata": {},
   "outputs": [],
   "source": [
    "with plt.style.context('seaborn-whitegrid'):\n",
    "    \n",
    "    fig, ax = plt.subplots(figsize=(15,7))\n",
    "    fig.suptitle(\"Weekly active users per operative system\", fontsize=20, fontweight=650, y=0.96)  \n",
    "    \n",
    "    ax=sns.lineplot(x=\"week\", y=\"active_users\", data=operative_system_1, hue=\"device_os\", palette=\"Dark2\", lw=4) \n",
    "    ax.set_ylim(0, operative_system_1.active_users.max()+50)\n",
    "    ax.tick_params(axis=\"x\", labelsize=16, rotation=50)\n",
    "    ax.tick_params(axis=\"y\", labelsize=16)\n",
    "    ax.set_xlabel(\"Date\", fontsize=18, fontweight=650)\n",
    "    ax.set_ylabel(\"Active users\", fontsize=18, fontweight=650)\n",
    "\n",
    "    for label in ax.get_xticklabels():\n",
    "        label.set_horizontalalignment('right')\n",
    "\n",
    "    handles, labels = ax.get_legend_handles_labels()\n",
    "    ax.legend(loc=\"upper left\", handles=handles[1:], labels=labels[1:], prop={'size': 11}, frameon=\"yes\",\n",
    "              edgecolor=\"black\", title=\"Device OS\", title_fontsize=16)\n",
    "\n",
    "    plt.show()"
   ]
  },
  {
   "cell_type": "code",
   "execution_count": null,
   "metadata": {},
   "outputs": [],
   "source": [
    "query_operative_system = \"\"\"\n",
    "SELECT device_os, active_users_t0, active_users, (active_users-active_users_t0) AS variation_drop,\n",
    " ROUND(CAST(((active_users::float-active_users_t0::float) / active_users_t0)*100 as numeric) ,2) AS variation_pct\n",
    "FROM(\n",
    "    SELECT sub3.*\n",
    "    FROM(\n",
    "        SELECT sub2.*, LAG(sub2.active_users, 1) OVER (PARTITION BY sub2.device_os) AS active_users_t0\n",
    "        FROM(\n",
    "            SELECT sub1.device_os AS device_os, EXTRACT('month' FROM occurred_at::date) AS month,\n",
    "             COUNT(DISTINCT user_id) as active_users\n",
    "            FROM(\n",
    "                SELECT *,\n",
    "                CASE WHEN device LIKE 'i%%' OR device ILIKE '%%mac%%' THEN 'apple'\n",
    "                     WHEN device LIKE '%%nexus%%' OR device LIKE '%%galaxy%%' OR device LIKE '%%nokia%%'\n",
    "                      OR device LIKE '%%HTC%%' THEN 'android'\n",
    "                     WHEN device LIKE '%%fire%%' THEN 'fire os'\n",
    "                     ELSE 'windows' END AS device_os\n",
    "                FROM events\n",
    "                ) sub1\n",
    "            WHERE event_name = 'login'\n",
    "            GROUP BY device_os, month\n",
    "            ) sub2\n",
    "        ) sub3\n",
    "    WHERE sub3.month = 8\n",
    "    ) sub4;\n",
    "\"\"\"\n",
    "\n",
    "operative_system_2 = pd.read_sql(query_operative_system, engine)"
   ]
  },
  {
   "cell_type": "code",
   "execution_count": null,
   "metadata": {},
   "outputs": [],
   "source": [
    "operative_system_2.style.format({\"variation_pct\":\"{:.2f}%\"})"
   ]
  },
  {
   "cell_type": "code",
   "execution_count": null,
   "metadata": {},
   "outputs": [],
   "source": [
    "with plt.style.context('seaborn-whitegrid'):\n",
    "    \n",
    "    fig, ax = plt.subplots(figsize=(12,7))\n",
    "    fig.suptitle(\"Drop in active users from july to august by device OS\",\n",
    "                 fontsize=20, fontweight=650, y=0.96)\n",
    "    \n",
    "    ax.bar(operative_system_2[\"device_os\"], operative_system_2[\"variation_pct\"], color=\"indianred\", width=0.6,\n",
    "        edgecolor=\"black\", linewidth=3)\n",
    "    ax.tick_params(axis=\"x\", labelsize=16, pad=5)\n",
    "    ax.tick_params(axis=\"y\", labelsize=16)\n",
    "    ax.set_xlabel(\"Device type\", fontsize=18, fontweight=650, labelpad=10)\n",
    "    ax.set_ylabel(\"Active users % variation\", fontsize=18, fontweight=650, labelpad=10)\n",
    "    \n",
    "    ylabels = ['{:,.0f}%'.format(x) for x in ax.get_yticks()]\n",
    "    ax.set_yticklabels(ylabels)\n",
    "\n",
    "    plt.show()"
   ]
  },
  {
   "cell_type": "markdown",
   "metadata": {},
   "source": [
    "## Specific feature flow/broken tracking code"
   ]
  },
  {
   "cell_type": "markdown",
   "metadata": {},
   "source": [
    "### Usage flow"
   ]
  },
  {
   "cell_type": "markdown",
   "metadata": {},
   "source": [
    "*It might be the case that some specific feature within the usage flow was broken at some point close to end of july or within august, hence causing a bad user experience and in consequence prompting users to be less engaged on posterior days to that hypothetical malfunctioning.*"
   ]
  },
  {
   "cell_type": "code",
   "execution_count": null,
   "metadata": {},
   "outputs": [],
   "source": [
    "query_usage_flow = \"\"\"\n",
    "SELECT SUBSTR(((DATE_TRUNC('week', occurred_at::date)))::text, 6, 5) AS week, event_name,\n",
    " COUNT(user_id) AS event_count\n",
    "FROM events\n",
    "WHERE event_type = 'engagement'AND event_name NOT LIKE '%%result%%' --This last statement is optional. It is just to exclude the various search results\n",
    "GROUP BY week, event_name\n",
    "ORDER BY week;\n",
    "\"\"\"\n",
    "\n",
    "usage_flow = pd.read_sql(query_usage_flow, engine)"
   ]
  },
  {
   "cell_type": "code",
   "execution_count": null,
   "metadata": {},
   "outputs": [],
   "source": [
    "usage_flow.head(10)"
   ]
  },
  {
   "cell_type": "code",
   "execution_count": null,
   "metadata": {},
   "outputs": [],
   "source": [
    "with plt.style.context('seaborn-whitegrid'):\n",
    "    \n",
    "    fig, ax = plt.subplots(figsize=(15,7))\n",
    "    fig.suptitle(\"Hub events weekly count by active users\", fontsize=20, fontweight=650, y=0.96)  \n",
    "    \n",
    "    ax=sns.lineplot(x=\"week\", y=\"event_count\", data=usage_flow, hue=\"event_name\", palette=\"Dark2\", lw=3.5) \n",
    "    ax.tick_params(axis=\"x\", labelsize=16, rotation=50)\n",
    "    ax.tick_params(axis=\"y\", labelsize=16)\n",
    "    ax.set_xlabel(\"Date\", fontsize=18, fontweight=650)\n",
    "    ax.set_ylabel(\"Event count\", fontsize=18, fontweight=650)\n",
    "\n",
    "    for label in ax.get_xticklabels():\n",
    "        label.set_horizontalalignment('right')\n",
    "\n",
    "    handles, labels = ax.get_legend_handles_labels()\n",
    "    ax.legend(loc=\"upper left\", handles=handles[1:], labels=labels[1:], prop={'size': 11}, frameon=\"yes\",\n",
    "              edgecolor=\"black\", title=\"Hub specific events\", title_fontsize=16, ncol=3)\n",
    "\n",
    "    plt.show()"
   ]
  },
  {
   "cell_type": "markdown",
   "metadata": {},
   "source": [
    "*Above query's result shows that there is not any specific feature within the usage flow (not considering the signup steps) that because\n",
    "of its malfunctioning in t-1 is causing in t a drop in user engagement, since all of the features are moving in sync*"
   ]
  },
  {
   "cell_type": "markdown",
   "metadata": {},
   "source": [
    "### Signup flow potential issue"
   ]
  },
  {
   "cell_type": "markdown",
   "metadata": {},
   "source": [
    "#### 1st, it is convenient to check the new users per month"
   ]
  },
  {
   "cell_type": "code",
   "execution_count": null,
   "metadata": {},
   "outputs": [],
   "source": [
    "query_signup_flow = \"\"\"\n",
    "SELECT DISTINCT state\n",
    "FROM users;\n",
    "\"\"\"\n",
    "signup_flow_0 = pd.read_sql(query_signup_flow, engine)"
   ]
  },
  {
   "cell_type": "code",
   "execution_count": null,
   "metadata": {},
   "outputs": [],
   "source": [
    "signup_flow_0.head()"
   ]
  },
  {
   "cell_type": "code",
   "execution_count": null,
   "metadata": {},
   "outputs": [],
   "source": [
    "query_signup_flow = \"\"\"\n",
    "SELECT sub2.*, \n",
    " ROUND(CAST(((monthly_new_users::float-lag::float) / lag)*100 as numeric) ,2) AS new_users_variation_pct\n",
    "FROM(\n",
    "    SELECT sub1.*,\n",
    "     LAG(sub1.monthly_new_users, 1) OVER () AS lag\n",
    "    FROM(\n",
    "        SELECT LEFT((DATE_TRUNC('month', created_at::date)::text), 7) AS month, \n",
    "         COUNT(DISTINCT user_id) AS monthly_new_users\n",
    "        FROM users\n",
    "        WHERE state='active'\n",
    "        GROUP BY month\n",
    "        )sub1\n",
    "    )sub2;\n",
    "\"\"\"\n",
    "signup_flow_1= pd.read_sql(query_signup_flow, engine)"
   ]
  },
  {
   "cell_type": "code",
   "execution_count": null,
   "metadata": {},
   "outputs": [],
   "source": [
    "signup_flow_1"
   ]
  },
  {
   "cell_type": "code",
   "execution_count": null,
   "metadata": {},
   "outputs": [],
   "source": [
    "with plt.style.context('classic'):\n",
    "    fig, ax1 = plt.subplots(figsize=(14,7))\n",
    "    fig.suptitle(\"New users per month\", fontsize=20, fontweight=650, y=0.96) \n",
    "    ax2 = ax1.twinx()\n",
    "    \n",
    "    sns.lineplot(signup_flow_1[\"month\"], signup_flow_1[\"monthly_new_users\"], lw=3, color=\"purple\", ax=ax1)\n",
    "    ax1.set_ylim(0, signup_flow_1.monthly_new_users.max()+50)\n",
    "    ax1.tick_params(axis=\"x\", labelsize=16, rotation=50)\n",
    "    ax1.tick_params(axis=\"y\", labelsize=16)\n",
    "    ax1.set_xlabel(\"Month\", fontsize=18, fontweight=650, labelpad=15)\n",
    "    ax1.set_ylabel(\"New users\", fontsize=18, fontweight=650)\n",
    "    \n",
    "    sns.barplot(signup_flow_1[\"month\"], signup_flow_1[\"new_users_variation_pct\"], facecolor=(0, 0, 0, 0),\n",
    "        edgecolor=\"black\", linewidth=3, ax=ax2)\n",
    "    ax2.tick_params(axis=\"x\", labelsize=16, pad=10)\n",
    "    ax2.tick_params(axis=\"y\", labelsize=16)\n",
    "    ax2.set_xlabel(\"Device type\", fontsize=18, fontweight=650, labelpad=15)\n",
    "    ax2.set_ylabel(\"New users monthly % variation\", fontsize=18, fontweight=650, labelpad=15)\n",
    "    \n",
    "    ylabels = ['{:,.0f}%'.format(x) for x in ax2.get_yticks()]\n",
    "    ax2.set_yticklabels(ylabels)\n"
   ]
  },
  {
   "cell_type": "markdown",
   "metadata": {},
   "source": [
    "#### 2nd, this is the conversion funnel for the 4 months we have info on the log events."
   ]
  },
  {
   "cell_type": "code",
   "execution_count": null,
   "metadata": {},
   "outputs": [],
   "source": [
    "query_signup_flow = \"\"\"\n",
    "SELECT DISTINCT event_name\n",
    "FROM events\n",
    "WHERE event_type='engagement';\n",
    "\"\"\"\n",
    "signup_flow_01 = pd.read_sql(query_signup_flow, engine)"
   ]
  },
  {
   "cell_type": "code",
   "execution_count": null,
   "metadata": {},
   "outputs": [],
   "source": [
    "query_signup_flow = \"\"\"\n",
    "SELECT *\n",
    "FROM events\n",
    "WHERE event_type='signup_flow';\n",
    "\"\"\"\n",
    "signup_flow_02 = pd.read_sql(query_signup_flow, engine)"
   ]
  },
  {
   "cell_type": "code",
   "execution_count": null,
   "metadata": {},
   "outputs": [],
   "source": [
    "signup_flow_02.head()"
   ]
  },
  {
   "cell_type": "code",
   "execution_count": null,
   "metadata": {},
   "outputs": [],
   "source": [
    "query_signup_flow = \"\"\"\n",
    "SELECT sub.*\n",
    "FROM(\n",
    "    SELECT LEFT(((DATE_TRUNC('month', users.created_at::date) + INTERVAL '1 day')::text), 7) AS activation_month,\n",
    "     COUNT(DISTINCT CASE WHEN events.event_name = 'create_user' THEN events.user_id ELSE null END) AS user_created_count,\n",
    "     COUNT(DISTINCT CASE WHEN events.event_name = 'enter_email' THEN events.user_id ELSE null END) AS enter_email_count,\n",
    "     COUNT(DISTINCT CASE WHEN events.event_name = 'enter_info' THEN events.user_id ELSE null END) AS enter_info_count,\n",
    "     COUNT(DISTINCT CASE WHEN events.event_name = 'complete_signup' THEN events.user_id ELSE null END) AS complete_signup_count\n",
    "    FROM events\n",
    "    JOIN users\n",
    "    ON users.user_id = events.user_id\n",
    "    AND users.created_at >= '2014-05-01 00:00:00'\n",
    "    GROUP BY activation_month\n",
    "    )sub\n",
    "WHERE activation_month > '2014-04-30 23:59:59';\n",
    "\"\"\"\n",
    "\n",
    "signup_flow_2 = pd.read_sql(query_signup_flow, engine)"
   ]
  },
  {
   "cell_type": "code",
   "execution_count": null,
   "metadata": {
    "scrolled": false
   },
   "outputs": [],
   "source": [
    "signup_flow_2.head()"
   ]
  },
  {
   "cell_type": "code",
   "execution_count": null,
   "metadata": {},
   "outputs": [],
   "source": [
    "signup_flow_2.columns"
   ]
  },
  {
   "cell_type": "code",
   "execution_count": null,
   "metadata": {},
   "outputs": [],
   "source": [
    "fig = go.Figure(go.Funnel(\n",
    "    y = ['user_created_count', 'enter_email_count', 'enter_info_count', 'complete_signup_count'],\n",
    "    x = signup_flow_2.loc[0,['user_created_count', 'enter_email_count', 'enter_info_count', 'complete_signup_count']],\n",
    "    textposition = \"inside\",\n",
    "    textinfo = \"value+percent initial\",\n",
    "    opacity = 0.65, marker = {\"color\": [\"deepskyblue\", \"lightsalmon\", \"tan\", \"teal\", \"silver\"],\n",
    "    \"line\": {\"width\": [4, 2, 2, 3, 1, 1], \"color\": [\"wheat\", \"wheat\", \"blue\", \"wheat\", \"wheat\"]}},\n",
    "    connector = {\"line\": {\"color\": \"royalblue\", \"dash\": \"dot\", \"width\": 3}})\n",
    "    )\n",
    "\n",
    "fig.show()"
   ]
  },
  {
   "cell_type": "code",
   "execution_count": null,
   "metadata": {},
   "outputs": [],
   "source": [
    "y = [signup_flow_2.user_created_count.tolist(), signup_flow_2.enter_email_count.tolist(),\n",
    "     signup_flow_2.enter_info_count.tolist(), signup_flow_2.complete_signup_count.tolist()]\n",
    "\n",
    "pal = sns.cubehelix_palette(4, rot=-2.5, light=0.6)\n",
    "\n",
    "with plt.style.context('seaborn-whitegrid'):\n",
    "    \n",
    "    fig, ax = plt.subplots(figsize=(15,7))\n",
    "    fig.suptitle(\"Signup flow monthly breakdown\", fontsize=20, fontweight=650, y=0.96)  \n",
    "    \n",
    "    plt.stackplot(signup_flow_2[\"activation_month\"], y, labels=signup_flow_2.columns[1:5], lw=3.5,\n",
    "    colors=pal, alpha=0.8)\n",
    "    ax.tick_params(axis=\"x\", labelsize=16, pad=10)\n",
    "    ax.tick_params(axis=\"y\", labelsize=16)\n",
    "    ax.set_xlabel(\"Month\", fontsize=18, fontweight=650, labelpad=10)\n",
    "    ax.set_ylabel(\"Signup event count\", fontsize=18, fontweight=650, labelpad=10)\n",
    "\n",
    "    ax.legend(loc=\"upper left\", prop={'size': 11}, frameon=\"yes\", edgecolor=\"black\",\n",
    "              title=\"Signup flow specific events\", title_fontsize=16, ncol=2)\n",
    "\n",
    "    plt.show()"
   ]
  },
  {
   "cell_type": "markdown",
   "metadata": {},
   "source": [
    "*Check chart and comment. This confirms that signup flow has not been the reason*\n",
    "I have to explain the proportions of each part of the funnel are at the same level over the months"
   ]
  },
  {
   "cell_type": "markdown",
   "metadata": {},
   "source": [
    "### MK campaign/promotions"
   ]
  },
  {
   "cell_type": "code",
   "execution_count": null,
   "metadata": {},
   "outputs": [],
   "source": [
    "query_mk = \"\"\"\n",
    "SELECT LEFT((DATE_TRUNC('month', occurred_at::date)::text), 7) AS month, action, COUNT(action) AS number_actions\n",
    "FROM emails\n",
    "GROUP BY month, action\n",
    "ORDER BY month, number_actions DESC;\n",
    "\"\"\"\n",
    "mk_1 = pd.read_sql(query_mk, engine)"
   ]
  },
  {
   "cell_type": "code",
   "execution_count": null,
   "metadata": {},
   "outputs": [],
   "source": [
    "mk_1"
   ]
  },
  {
   "cell_type": "markdown",
   "metadata": {},
   "source": [
    "Presented in a pivot table format for chart consumption"
   ]
  },
  {
   "cell_type": "code",
   "execution_count": null,
   "metadata": {},
   "outputs": [],
   "source": [
    "query_mk = \"\"\"\n",
    "SELECT SUBSTR(week::text, 6, 5) AS week_summary,\n",
    " ROUND(CAST((email_open::float/total_emails_sent::float) as numeric), 2) AS email_open_rate,\n",
    " ROUND(CAST((email_clickthrough::float/email_open::float) as numeric), 2) AS email_clickthrough_rate\n",
    "FROM(\n",
    "    SELECT sub.*, (sent_weekly_digest + sent_reengagement_email) AS total_emails_sent\n",
    "    FROM(\n",
    "        SELECT DATE_TRUNC('week', occurred_at::date) AS week,\n",
    "         COUNT(CASE WHEN action = 'sent_weekly_digest' THEN user_id ELSE NULL END) AS sent_weekly_digest,\n",
    "         COUNT(CASE WHEN action = 'sent_reengagement_email' THEN user_id ELSE NULL END) AS sent_reengagement_email,\n",
    "         COUNT(CASE WHEN action = 'email_open' THEN user_id ELSE NULL END) AS email_open,\n",
    "         COUNT(CASE WHEN action = 'email_clickthrough' THEN user_id ELSE NULL END) AS email_clickthrough\n",
    "        FROM emails\n",
    "        GROUP BY week\n",
    "        ) sub\n",
    "    ) sub2\n",
    "ORDER BY week_summary;\n",
    "\"\"\"\n",
    "mk_2 = pd.read_sql(query_mk, engine)"
   ]
  },
  {
   "cell_type": "code",
   "execution_count": null,
   "metadata": {},
   "outputs": [],
   "source": [
    "mk_2[\"email_open_rate\"] = mk_2[\"email_open_rate\"].apply(lambda x: x*100)\n",
    "mk_2[\"email_clickthrough_rate\"] = mk_2[\"email_clickthrough_rate\"].apply(lambda x: x*100)"
   ]
  },
  {
   "cell_type": "code",
   "execution_count": null,
   "metadata": {},
   "outputs": [],
   "source": [
    "mk_2.style.format({\"email_open_rate\":\"{:.0f}%\", \"email_clickthrough_rate\":\"{:.0f}%\"})"
   ]
  },
  {
   "cell_type": "code",
   "execution_count": null,
   "metadata": {},
   "outputs": [],
   "source": [
    "with plt.style.context('seaborn-whitegrid'):\n",
    "    \n",
    "    fig, ax = plt.subplots(figsize=(14,7))\n",
    "    fig.suptitle(\"Marketing emails rates\", fontsize=22, fontweight=650, y=0.96)\n",
    "    \n",
    "    sns.lineplot(mk_2[\"week_summary\"], mk_2[\"email_open_rate\"], lw=3.5, color=\"purple\")\n",
    "    sns.lineplot(mk_2[\"week_summary\"], mk_2[\"email_clickthrough_rate\"], lw=3.5, color=\"peru\")\n",
    "    \n",
    "    ax.tick_params(axis=\"x\", labelsize=16, rotation=50)\n",
    "    ax.tick_params(axis=\"y\", labelsize=16)\n",
    "    ax.set_xlabel(\"Week\", fontsize=18, fontweight=650, labelpad=15)\n",
    "    ax.set_ylabel(\"Rate\", fontsize=18, fontweight=650, labelpad=15)\n",
    "\n",
    "    for label in ax.get_xticklabels():\n",
    "        label.set_horizontalalignment('right')\n",
    "        \n",
    "    ylabels = ['{:,.0f}%'.format(x) for x in ax.get_yticks()]\n",
    "    ax.set_yticklabels(ylabels)\n",
    "    \n",
    "    ax.legend(loc=\"upper right\", prop={'size': 12}, frameon=\"yes\", edgecolor=\"black\",\n",
    "              labels=['email open rate','email click-through rate'],\n",
    "              title=\"Signup flow specific events\", title_fontsize=16, ncol=2)\n",
    "\n",
    "    plt.show()"
   ]
  },
  {
   "cell_type": "markdown",
   "metadata": {},
   "source": [
    "### Bad data. QA/bots"
   ]
  },
  {
   "cell_type": "markdown",
   "metadata": {},
   "source": [
    "*In order to ascertain whether this is the cause, we need to see activity by user and check whether there is unusual activity by few of them. This would cause artificial activity or in other words, a certain kind of spike/unusual rise, which in our case could make sense to have it in july. If this happened to be true, we could say that august drop in user engagement is not such, because it would be rather a problem of fake user engagement in the preceding month.*"
   ]
  },
  {
   "cell_type": "markdown",
   "metadata": {},
   "source": [
    "First I am going to check whether there is anyone starting engaging with the web but not loging in, this would be pointing to both bots and QA that maybe dont need to sign up (especially bots)."
   ]
  },
  {
   "cell_type": "code",
   "execution_count": null,
   "metadata": {},
   "outputs": [],
   "source": [
    "query_bad_data = \"\"\"\n",
    "SELECT sub2.*\n",
    "FROM(\n",
    "    SELECT sub.*, ROW_NUMBER() OVER (PARTITION BY user_id, day ORDER BY occurred_at::date) AS user_events_per_day\n",
    "    FROM(\n",
    "        SELECT *, DATE_TRUNC('day', occurred_at::date) AS day\n",
    "        FROM events\n",
    "        WHERE event_type = 'engagement'\n",
    "        ) sub\n",
    "    ) sub2\n",
    "WHERE user_events_per_day = 1 AND event_name != 'login' \n",
    " AND EXTRACT('hour' FROM occurred_at::date)!=0; -- Taking those at 12am that were logged minutes before but in the previous day.\n",
    "\"\"\"\n",
    "qa_bots = pd.read_sql(query_bad_data, engine)"
   ]
  },
  {
   "cell_type": "code",
   "execution_count": null,
   "metadata": {},
   "outputs": [],
   "source": [
    "qa_bots"
   ]
  },
  {
   "cell_type": "markdown",
   "metadata": {},
   "source": [
    "Second, let's see if there are some days with unusual activity (maybe happening in july at the most)."
   ]
  },
  {
   "cell_type": "code",
   "execution_count": null,
   "metadata": {},
   "outputs": [],
   "source": [
    "query_bad_data = \"\"\"\n",
    "SELECT user_id, sub.day, COUNT(event_name) AS number_events_per_day\n",
    "FROM(\n",
    "    SELECT *, DATE_TRUNC('day', occurred_at::date) AS day\n",
    "    FROM events\n",
    "    WHERE event_type = 'engagement'\n",
    "    ) sub\n",
    "WHERE day >= '2014-05-01 00:00:00+00:00'\n",
    "GROUP BY user_id, day\n",
    "ORDER BY number_events_per_day DESC;\n",
    "\"\"\"\n",
    "qa_bots_2 = pd.read_sql(query_bad_data, engine)"
   ]
  },
  {
   "cell_type": "code",
   "execution_count": null,
   "metadata": {},
   "outputs": [],
   "source": [
    "qa_bots_2[\"ranking\"] = (range(1, len(qa_bots_2)+1))"
   ]
  },
  {
   "cell_type": "code",
   "execution_count": null,
   "metadata": {},
   "outputs": [],
   "source": [
    "qa_bots_2.head()"
   ]
  },
  {
   "cell_type": "code",
   "execution_count": null,
   "metadata": {},
   "outputs": [],
   "source": [
    "with plt.style.context('seaborn-whitegrid'):\n",
    "    \n",
    "    fig, ax = plt.subplots(figsize=(13,7))\n",
    "    fig.suptitle(\"Ranked users daily Hub usage\", fontsize=22, fontweight=650, y=0.96)\n",
    "    \n",
    "    plt.plot(qa_bots_2[\"ranking\"], qa_bots_2[\"number_events_per_day\"], lw=4, color=\"gold\")\n",
    "    plt.fill_between(qa_bots_2[\"ranking\"], qa_bots_2[\"number_events_per_day\"].min(),\n",
    "                     qa_bots_2[\"number_events_per_day\"], facecolor='gray', alpha=0.3)\n",
    "    \n",
    "    ax.tick_params(axis=\"x\", labelsize=16)\n",
    "    ax.tick_params(axis=\"y\", labelsize=16)\n",
    "    ax.set_xlabel(\"Users ranking\", fontsize=18, fontweight=650, labelpad=15)\n",
    "    ax.set_ylabel(\"number interactions per day\", fontsize=18, fontweight=650, labelpad=15)\n",
    "    \n",
    "    plt.show()\n"
   ]
  },
  {
   "cell_type": "markdown",
   "metadata": {},
   "source": [
    "Let's identify outliers (be them real or not, does not matter at this point, just let's find what are considered as outliers"
   ]
  },
  {
   "cell_type": "code",
   "execution_count": null,
   "metadata": {},
   "outputs": [],
   "source": [
    "stats = qa_bots_2.number_events_per_day.describe().to_frame().transpose()\n",
    "stats[\"IQR\"] = stats[\"75%\"] - stats[\"25%\"]\n",
    "stats"
   ]
  },
  {
   "cell_type": "code",
   "execution_count": null,
   "metadata": {},
   "outputs": [],
   "source": [
    "outliers_qa_bots = pd.DataFrame(columns=qa_bots_2.columns)\n",
    "\n",
    "iqr = stats.at[\"number_events_per_day\",\"IQR\"]\n",
    "cutoff = iqr * 3\n",
    "upper = stats.at[\"number_events_per_day\",\"75%\"] + cutoff\n",
    "results = qa_bots_2[(qa_bots_2[\"number_events_per_day\"] > upper)].copy()\n",
    "outliers_qa_bots = outliers_qa_bots.append(results)"
   ]
  },
  {
   "cell_type": "code",
   "execution_count": null,
   "metadata": {},
   "outputs": [],
   "source": [
    "outliers_qa_bots[\"month\"] = outliers_qa_bots[\"day\"].apply(lambda x: x.strftime(\"%Y-%m\"))"
   ]
  },
  {
   "cell_type": "code",
   "execution_count": null,
   "metadata": {},
   "outputs": [],
   "source": [
    "outliers_qa_bots.head()"
   ]
  },
  {
   "cell_type": "code",
   "execution_count": null,
   "metadata": {},
   "outputs": [],
   "source": [
    "outliers_qa_bots_group = outliers_qa_bots.groupby(\"month\")[\"number_events_per_day\"].sum().reset_index()"
   ]
  },
  {
   "cell_type": "code",
   "execution_count": null,
   "metadata": {},
   "outputs": [],
   "source": [
    "outliers_qa_bots_group"
   ]
  },
  {
   "cell_type": "code",
   "execution_count": null,
   "metadata": {},
   "outputs": [],
   "source": [
    "with plt.style.context('seaborn-whitegrid'):\n",
    "    \n",
    "    fig, ax = plt.subplots(figsize=(12,7))\n",
    "    fig.suptitle(\"Sum of Hub interactions from outliers per month\", fontsize=20, fontweight=650, y=0.94)\n",
    "    \n",
    "    ax.bar(outliers_qa_bots_group[\"month\"], outliers_qa_bots_group[\"number_events_per_day\"], \n",
    "           color=\"khaki\", width=0.6, edgecolor=\"black\", linewidth=3)\n",
    "    ax.tick_params(axis=\"x\", labelsize=16, pad=5)\n",
    "    ax.tick_params(axis=\"y\", labelsize=16)\n",
    "    ax.set_xlabel(\"Month\", fontsize=18, fontweight=650, labelpad=10)\n",
    "    ax.set_ylabel(\"Hub interactions\", fontsize=18, fontweight=650, labelpad=10)\n",
    "\n",
    "    plt.show()"
   ]
  },
  {
   "cell_type": "markdown",
   "metadata": {},
   "source": [
    "COMMENT!! This would be a step between the second and the third"
   ]
  },
  {
   "cell_type": "code",
   "execution_count": null,
   "metadata": {},
   "outputs": [],
   "source": [
    "query_bad_data = \"\"\"\n",
    "SELECT LEFT(sub2.day::text, 10) AS day, SUM(sub2.number_events_per_day_per_head) as number_events_per_day\n",
    "FROM(\n",
    "    SELECT user_id, sub.day, COUNT(event_name) AS number_events_per_day_per_head\n",
    "    FROM(\n",
    "        SELECT *, DATE_TRUNC('day', occurred_at::date) AS day\n",
    "        FROM events\n",
    "        WHERE event_type = 'engagement'\n",
    "        ) sub\n",
    "    GROUP BY user_id, day\n",
    "    ORDER BY number_events_per_day_per_head DESC\n",
    "     ) sub2  \n",
    "GROUP BY day\n",
    "ORDER BY day;\n",
    "\"\"\"\n",
    "qa_bots_2_3 = pd.read_sql(query_bad_data, engine)"
   ]
  },
  {
   "cell_type": "code",
   "execution_count": null,
   "metadata": {},
   "outputs": [],
   "source": [
    "qa_bots_2_3.info()"
   ]
  },
  {
   "cell_type": "code",
   "execution_count": null,
   "metadata": {},
   "outputs": [],
   "source": [
    "qa_bots_2_3.head()"
   ]
  },
  {
   "cell_type": "code",
   "execution_count": null,
   "metadata": {},
   "outputs": [],
   "source": [
    "import datetime\n",
    "import matplotlib.dates as mdates\n",
    "import numpy as np"
   ]
  },
  {
   "cell_type": "code",
   "execution_count": null,
   "metadata": {},
   "outputs": [],
   "source": [
    "qa_bots_2_3[\"week\"] = qa_bots_2_3[\"day\"].apply(lambda x: datetime.datetime.strptime(x, \"%Y-%m-%d\").date())"
   ]
  },
  {
   "cell_type": "code",
   "execution_count": null,
   "metadata": {},
   "outputs": [],
   "source": [
    "qa_bots_2_3.head()"
   ]
  },
  {
   "cell_type": "code",
   "execution_count": null,
   "metadata": {},
   "outputs": [],
   "source": [
    "with plt.style.context('seaborn-whitegrid'):\n",
    "    \n",
    "    fig, ax = plt.subplots(figsize=(14,7))\n",
    "    fig.suptitle(\"Weekly active users\", fontsize=22, fontweight=650, y=0.94)\n",
    "    \n",
    "    sns.lineplot(qa_bots_2_3[\"week\"], qa_bots_2_3[\"number_events_per_day\"], lw=5, color=\"navy\")\n",
    "    ax.set_ylim(0,)\n",
    "    ax.tick_params(axis=\"x\", labelsize=16, rotation=50)\n",
    "    ax.tick_params(axis=\"y\", labelsize=16)\n",
    "    plt.yticks(np.arange(0, 5000, step=500))\n",
    "    \n",
    "    ax.set_xlabel(\"Date\", fontsize=18, fontweight=650)\n",
    "    ax.set_ylabel(\"Active users\", fontsize=18, fontweight=650)\n",
    "    \n",
    "    ax.xaxis.set_major_locator(mdates.WeekdayLocator())\n",
    "    ax.xaxis.set_major_formatter(mdates.DateFormatter(\"%m-%d\"))\n",
    "\n",
    "    for label in ax.get_xticklabels():\n",
    "        label.set_horizontalalignment('right')\n",
    "\n",
    "    plt.show()"
   ]
  }
 ],
 "metadata": {
  "kernelspec": {
   "display_name": "Python 3",
   "language": "python",
   "name": "python3"
  },
  "language_info": {
   "codemirror_mode": {
    "name": "ipython",
    "version": 3
   },
   "file_extension": ".py",
   "mimetype": "text/x-python",
   "name": "python",
   "nbconvert_exporter": "python",
   "pygments_lexer": "ipython3",
   "version": "3.7.3"
  }
 },
 "nbformat": 4,
 "nbformat_minor": 2
}
