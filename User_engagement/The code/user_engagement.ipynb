{
 "cells": [
  {
   "cell_type": "code",
   "execution_count": 21,
   "metadata": {},
   "outputs": [],
   "source": [
    "from sqlalchemy import create_engine\n",
    "import pymysql\n",
    "import pandas as pd\n",
    "import numpy as np\n",
    "import seaborn as sns\n",
    "import matplotlib.pyplot as plt\n",
    "from matplotlib.pyplot import style"
   ]
  },
  {
   "cell_type": "markdown",
   "metadata": {},
   "source": [
    "#### Importing data"
   ]
  },
  {
   "cell_type": "code",
   "execution_count": 2,
   "metadata": {},
   "outputs": [],
   "source": [
    "msn_users = pd.read_csv(\"Data/users.csv\")"
   ]
  },
  {
   "cell_type": "code",
   "execution_count": 3,
   "metadata": {},
   "outputs": [
    {
     "data": {
      "text/html": [
       "<div>\n",
       "<style scoped>\n",
       "    .dataframe tbody tr th:only-of-type {\n",
       "        vertical-align: middle;\n",
       "    }\n",
       "\n",
       "    .dataframe tbody tr th {\n",
       "        vertical-align: top;\n",
       "    }\n",
       "\n",
       "    .dataframe thead th {\n",
       "        text-align: right;\n",
       "    }\n",
       "</style>\n",
       "<table border=\"1\" class=\"dataframe\">\n",
       "  <thead>\n",
       "    <tr style=\"text-align: right;\">\n",
       "      <th></th>\n",
       "      <th>user_id</th>\n",
       "      <th>created_at</th>\n",
       "      <th>company_id</th>\n",
       "      <th>language</th>\n",
       "      <th>activated_at</th>\n",
       "      <th>state</th>\n",
       "    </tr>\n",
       "  </thead>\n",
       "  <tbody>\n",
       "    <tr>\n",
       "      <th>0</th>\n",
       "      <td>0.0</td>\n",
       "      <td>2013-01-01 20:59:39</td>\n",
       "      <td>5737.0</td>\n",
       "      <td>english</td>\n",
       "      <td>2013-01-01 21:01:07</td>\n",
       "      <td>active</td>\n",
       "    </tr>\n",
       "    <tr>\n",
       "      <th>1</th>\n",
       "      <td>1.0</td>\n",
       "      <td>2013-01-01 13:07:46</td>\n",
       "      <td>28.0</td>\n",
       "      <td>english</td>\n",
       "      <td>NaN</td>\n",
       "      <td>pending</td>\n",
       "    </tr>\n",
       "    <tr>\n",
       "      <th>2</th>\n",
       "      <td>2.0</td>\n",
       "      <td>2013-01-01 10:59:05</td>\n",
       "      <td>51.0</td>\n",
       "      <td>english</td>\n",
       "      <td>NaN</td>\n",
       "      <td>pending</td>\n",
       "    </tr>\n",
       "    <tr>\n",
       "      <th>3</th>\n",
       "      <td>3.0</td>\n",
       "      <td>2013-01-01 18:40:36</td>\n",
       "      <td>2800.0</td>\n",
       "      <td>german</td>\n",
       "      <td>2013-01-01 18:42:02</td>\n",
       "      <td>active</td>\n",
       "    </tr>\n",
       "    <tr>\n",
       "      <th>4</th>\n",
       "      <td>4.0</td>\n",
       "      <td>2013-01-01 14:37:51</td>\n",
       "      <td>5110.0</td>\n",
       "      <td>indian</td>\n",
       "      <td>2013-01-01 14:39:05</td>\n",
       "      <td>active</td>\n",
       "    </tr>\n",
       "  </tbody>\n",
       "</table>\n",
       "</div>"
      ],
      "text/plain": [
       "   user_id           created_at  company_id language         activated_at  \\\n",
       "0      0.0  2013-01-01 20:59:39      5737.0  english  2013-01-01 21:01:07   \n",
       "1      1.0  2013-01-01 13:07:46        28.0  english                  NaN   \n",
       "2      2.0  2013-01-01 10:59:05        51.0  english                  NaN   \n",
       "3      3.0  2013-01-01 18:40:36      2800.0   german  2013-01-01 18:42:02   \n",
       "4      4.0  2013-01-01 14:37:51      5110.0   indian  2013-01-01 14:39:05   \n",
       "\n",
       "     state  \n",
       "0   active  \n",
       "1  pending  \n",
       "2  pending  \n",
       "3   active  \n",
       "4   active  "
      ]
     },
     "execution_count": 3,
     "metadata": {},
     "output_type": "execute_result"
    }
   ],
   "source": [
    "msn_users.head()"
   ]
  },
  {
   "cell_type": "code",
   "execution_count": 4,
   "metadata": {},
   "outputs": [],
   "source": [
    "msn_events = pd.read_csv(\"Data/events.csv\")"
   ]
  },
  {
   "cell_type": "code",
   "execution_count": 5,
   "metadata": {},
   "outputs": [
    {
     "data": {
      "text/html": [
       "<div>\n",
       "<style scoped>\n",
       "    .dataframe tbody tr th:only-of-type {\n",
       "        vertical-align: middle;\n",
       "    }\n",
       "\n",
       "    .dataframe tbody tr th {\n",
       "        vertical-align: top;\n",
       "    }\n",
       "\n",
       "    .dataframe thead th {\n",
       "        text-align: right;\n",
       "    }\n",
       "</style>\n",
       "<table border=\"1\" class=\"dataframe\">\n",
       "  <thead>\n",
       "    <tr style=\"text-align: right;\">\n",
       "      <th></th>\n",
       "      <th>user_id</th>\n",
       "      <th>occurred_at</th>\n",
       "      <th>event_type</th>\n",
       "      <th>event_name</th>\n",
       "      <th>location</th>\n",
       "      <th>device</th>\n",
       "      <th>user_type</th>\n",
       "    </tr>\n",
       "  </thead>\n",
       "  <tbody>\n",
       "    <tr>\n",
       "      <th>0</th>\n",
       "      <td>10522.0</td>\n",
       "      <td>2014-05-02 11:02:39</td>\n",
       "      <td>engagement</td>\n",
       "      <td>login</td>\n",
       "      <td>Japan</td>\n",
       "      <td>dell inspiron notebook</td>\n",
       "      <td>3.0</td>\n",
       "    </tr>\n",
       "    <tr>\n",
       "      <th>1</th>\n",
       "      <td>10522.0</td>\n",
       "      <td>2014-05-02 11:02:53</td>\n",
       "      <td>engagement</td>\n",
       "      <td>home_page</td>\n",
       "      <td>Japan</td>\n",
       "      <td>dell inspiron notebook</td>\n",
       "      <td>3.0</td>\n",
       "    </tr>\n",
       "    <tr>\n",
       "      <th>2</th>\n",
       "      <td>10522.0</td>\n",
       "      <td>2014-05-02 11:03:28</td>\n",
       "      <td>engagement</td>\n",
       "      <td>like_message</td>\n",
       "      <td>Japan</td>\n",
       "      <td>dell inspiron notebook</td>\n",
       "      <td>3.0</td>\n",
       "    </tr>\n",
       "    <tr>\n",
       "      <th>3</th>\n",
       "      <td>10522.0</td>\n",
       "      <td>2014-05-02 11:04:09</td>\n",
       "      <td>engagement</td>\n",
       "      <td>view_inbox</td>\n",
       "      <td>Japan</td>\n",
       "      <td>dell inspiron notebook</td>\n",
       "      <td>3.0</td>\n",
       "    </tr>\n",
       "    <tr>\n",
       "      <th>4</th>\n",
       "      <td>10522.0</td>\n",
       "      <td>2014-05-02 11:03:16</td>\n",
       "      <td>engagement</td>\n",
       "      <td>search_run</td>\n",
       "      <td>Japan</td>\n",
       "      <td>dell inspiron notebook</td>\n",
       "      <td>3.0</td>\n",
       "    </tr>\n",
       "  </tbody>\n",
       "</table>\n",
       "</div>"
      ],
      "text/plain": [
       "   user_id          occurred_at  event_type    event_name location  \\\n",
       "0  10522.0  2014-05-02 11:02:39  engagement         login    Japan   \n",
       "1  10522.0  2014-05-02 11:02:53  engagement     home_page    Japan   \n",
       "2  10522.0  2014-05-02 11:03:28  engagement  like_message    Japan   \n",
       "3  10522.0  2014-05-02 11:04:09  engagement    view_inbox    Japan   \n",
       "4  10522.0  2014-05-02 11:03:16  engagement    search_run    Japan   \n",
       "\n",
       "                   device  user_type  \n",
       "0  dell inspiron notebook        3.0  \n",
       "1  dell inspiron notebook        3.0  \n",
       "2  dell inspiron notebook        3.0  \n",
       "3  dell inspiron notebook        3.0  \n",
       "4  dell inspiron notebook        3.0  "
      ]
     },
     "execution_count": 5,
     "metadata": {},
     "output_type": "execute_result"
    }
   ],
   "source": [
    "msn_events.head()"
   ]
  },
  {
   "cell_type": "code",
   "execution_count": 12,
   "metadata": {},
   "outputs": [
    {
     "name": "stdout",
     "output_type": "stream",
     "text": [
      "<class 'pandas.core.frame.DataFrame'>\n",
      "RangeIndex: 340832 entries, 0 to 340831\n",
      "Data columns (total 7 columns):\n",
      "user_id        340832 non-null float64\n",
      "occurred_at    340832 non-null object\n",
      "event_type     340832 non-null object\n",
      "event_name     340832 non-null object\n",
      "location       340832 non-null object\n",
      "device         340832 non-null object\n",
      "user_type      325255 non-null float64\n",
      "dtypes: float64(2), object(5)\n",
      "memory usage: 18.2+ MB\n"
     ]
    }
   ],
   "source": [
    "msn_events.info()"
   ]
  },
  {
   "cell_type": "code",
   "execution_count": 6,
   "metadata": {},
   "outputs": [],
   "source": [
    "msn_emails = pd.read_csv(\"Data/emails.csv\")"
   ]
  },
  {
   "cell_type": "code",
   "execution_count": 7,
   "metadata": {},
   "outputs": [
    {
     "data": {
      "text/html": [
       "<div>\n",
       "<style scoped>\n",
       "    .dataframe tbody tr th:only-of-type {\n",
       "        vertical-align: middle;\n",
       "    }\n",
       "\n",
       "    .dataframe tbody tr th {\n",
       "        vertical-align: top;\n",
       "    }\n",
       "\n",
       "    .dataframe thead th {\n",
       "        text-align: right;\n",
       "    }\n",
       "</style>\n",
       "<table border=\"1\" class=\"dataframe\">\n",
       "  <thead>\n",
       "    <tr style=\"text-align: right;\">\n",
       "      <th></th>\n",
       "      <th>user_id</th>\n",
       "      <th>occurred_at</th>\n",
       "      <th>action</th>\n",
       "      <th>user_type</th>\n",
       "    </tr>\n",
       "  </thead>\n",
       "  <tbody>\n",
       "    <tr>\n",
       "      <th>0</th>\n",
       "      <td>0.0</td>\n",
       "      <td>2014-05-06 09:30:00</td>\n",
       "      <td>sent_weekly_digest</td>\n",
       "      <td>1.0</td>\n",
       "    </tr>\n",
       "    <tr>\n",
       "      <th>1</th>\n",
       "      <td>0.0</td>\n",
       "      <td>2014-05-13 09:30:00</td>\n",
       "      <td>sent_weekly_digest</td>\n",
       "      <td>1.0</td>\n",
       "    </tr>\n",
       "    <tr>\n",
       "      <th>2</th>\n",
       "      <td>0.0</td>\n",
       "      <td>2014-05-20 09:30:00</td>\n",
       "      <td>sent_weekly_digest</td>\n",
       "      <td>1.0</td>\n",
       "    </tr>\n",
       "    <tr>\n",
       "      <th>3</th>\n",
       "      <td>0.0</td>\n",
       "      <td>2014-05-27 09:30:00</td>\n",
       "      <td>sent_weekly_digest</td>\n",
       "      <td>1.0</td>\n",
       "    </tr>\n",
       "    <tr>\n",
       "      <th>4</th>\n",
       "      <td>0.0</td>\n",
       "      <td>2014-06-03 09:30:00</td>\n",
       "      <td>sent_weekly_digest</td>\n",
       "      <td>1.0</td>\n",
       "    </tr>\n",
       "  </tbody>\n",
       "</table>\n",
       "</div>"
      ],
      "text/plain": [
       "   user_id          occurred_at              action  user_type\n",
       "0      0.0  2014-05-06 09:30:00  sent_weekly_digest        1.0\n",
       "1      0.0  2014-05-13 09:30:00  sent_weekly_digest        1.0\n",
       "2      0.0  2014-05-20 09:30:00  sent_weekly_digest        1.0\n",
       "3      0.0  2014-05-27 09:30:00  sent_weekly_digest        1.0\n",
       "4      0.0  2014-06-03 09:30:00  sent_weekly_digest        1.0"
      ]
     },
     "execution_count": 7,
     "metadata": {},
     "output_type": "execute_result"
    }
   ],
   "source": [
    "msn_emails.head()"
   ]
  },
  {
   "cell_type": "markdown",
   "metadata": {},
   "source": [
    "MySQL local connection"
   ]
  },
  {
   "cell_type": "code",
   "execution_count": null,
   "metadata": {},
   "outputs": [],
   "source": [
    "driver = \"mysql+pymysql:\"\n",
    "user = \"root\"\n",
    "password = \"ironhack\"\n",
    "ip = \"127.0.0.1\"\n",
    "database = \"internal_messenger\""
   ]
  },
  {
   "cell_type": "code",
   "execution_count": null,
   "metadata": {},
   "outputs": [],
   "source": [
    "connection_string = f\"{driver}//{user}:{password}@{ip}/{database}\"\n",
    "engine = create_engine(connection_string)"
   ]
  },
  {
   "cell_type": "markdown",
   "metadata": {},
   "source": [
    "POSTGRESQL local connection"
   ]
  },
  {
   "cell_type": "code",
   "execution_count": 15,
   "metadata": {},
   "outputs": [],
   "source": [
    "driver = \"postgresql:\"\n",
    "user = \"postgres\"\n",
    "password = \"ironhack\"\n",
    "ip = \"localhost:5432\"\n",
    "database = \"internal_messenger\""
   ]
  },
  {
   "cell_type": "code",
   "execution_count": 17,
   "metadata": {},
   "outputs": [],
   "source": [
    "postgresql_connection_string = f\"{driver}//{user}:{password}@{ip}/{database}\"\n",
    "engine = create_engine(postgresql_connection_string)"
   ]
  },
  {
   "cell_type": "markdown",
   "metadata": {},
   "source": [
    "#### Uploading data to the POSTGRESQL DB"
   ]
  },
  {
   "cell_type": "code",
   "execution_count": null,
   "metadata": {},
   "outputs": [],
   "source": [
    "msn_users.to_sql(\"users\", con=engine, if_exists=\"append\", index=False)"
   ]
  },
  {
   "cell_type": "code",
   "execution_count": null,
   "metadata": {},
   "outputs": [],
   "source": [
    "msn_events.to_sql(\"events\", con=engine, if_exists=\"append\", index=False)"
   ]
  },
  {
   "cell_type": "code",
   "execution_count": null,
   "metadata": {},
   "outputs": [],
   "source": [
    "msn_emails.to_sql(\"emails\", con=engine, if_exists=\"append\", index=False)"
   ]
  },
  {
   "cell_type": "markdown",
   "metadata": {},
   "source": [
    "## Queries. Finding reasons behind the user engagement drop"
   ]
  },
  {
   "cell_type": "markdown",
   "metadata": {},
   "source": [
    "#### Fetching all data from the db"
   ]
  },
  {
   "cell_type": "code",
   "execution_count": 11,
   "metadata": {},
   "outputs": [],
   "source": [
    "query_users_pg = \"\"\"\n",
    "SELECT *\n",
    "FROM users;\n",
    "\"\"\""
   ]
  },
  {
   "cell_type": "code",
   "execution_count": 12,
   "metadata": {},
   "outputs": [],
   "source": [
    "users = pd.read_sql(query_users_pg, engine)"
   ]
  },
  {
   "cell_type": "code",
   "execution_count": 13,
   "metadata": {},
   "outputs": [
    {
     "data": {
      "text/html": [
       "<div>\n",
       "<style scoped>\n",
       "    .dataframe tbody tr th:only-of-type {\n",
       "        vertical-align: middle;\n",
       "    }\n",
       "\n",
       "    .dataframe tbody tr th {\n",
       "        vertical-align: top;\n",
       "    }\n",
       "\n",
       "    .dataframe thead th {\n",
       "        text-align: right;\n",
       "    }\n",
       "</style>\n",
       "<table border=\"1\" class=\"dataframe\">\n",
       "  <thead>\n",
       "    <tr style=\"text-align: right;\">\n",
       "      <th></th>\n",
       "      <th>user_id</th>\n",
       "      <th>created_at</th>\n",
       "      <th>company_id</th>\n",
       "      <th>language</th>\n",
       "      <th>activated_at</th>\n",
       "      <th>state</th>\n",
       "    </tr>\n",
       "  </thead>\n",
       "  <tbody>\n",
       "    <tr>\n",
       "      <th>0</th>\n",
       "      <td>0.0</td>\n",
       "      <td>2013-01-01 20:59:39</td>\n",
       "      <td>5737.0</td>\n",
       "      <td>english</td>\n",
       "      <td>2013-01-01 21:01:07</td>\n",
       "      <td>active</td>\n",
       "    </tr>\n",
       "    <tr>\n",
       "      <th>1</th>\n",
       "      <td>1.0</td>\n",
       "      <td>2013-01-01 13:07:46</td>\n",
       "      <td>28.0</td>\n",
       "      <td>english</td>\n",
       "      <td>None</td>\n",
       "      <td>pending</td>\n",
       "    </tr>\n",
       "    <tr>\n",
       "      <th>2</th>\n",
       "      <td>2.0</td>\n",
       "      <td>2013-01-01 10:59:05</td>\n",
       "      <td>51.0</td>\n",
       "      <td>english</td>\n",
       "      <td>None</td>\n",
       "      <td>pending</td>\n",
       "    </tr>\n",
       "    <tr>\n",
       "      <th>3</th>\n",
       "      <td>3.0</td>\n",
       "      <td>2013-01-01 18:40:36</td>\n",
       "      <td>2800.0</td>\n",
       "      <td>german</td>\n",
       "      <td>2013-01-01 18:42:02</td>\n",
       "      <td>active</td>\n",
       "    </tr>\n",
       "    <tr>\n",
       "      <th>4</th>\n",
       "      <td>4.0</td>\n",
       "      <td>2013-01-01 14:37:51</td>\n",
       "      <td>5110.0</td>\n",
       "      <td>indian</td>\n",
       "      <td>2013-01-01 14:39:05</td>\n",
       "      <td>active</td>\n",
       "    </tr>\n",
       "  </tbody>\n",
       "</table>\n",
       "</div>"
      ],
      "text/plain": [
       "   user_id           created_at  company_id language         activated_at  \\\n",
       "0      0.0  2013-01-01 20:59:39      5737.0  english  2013-01-01 21:01:07   \n",
       "1      1.0  2013-01-01 13:07:46        28.0  english                 None   \n",
       "2      2.0  2013-01-01 10:59:05        51.0  english                 None   \n",
       "3      3.0  2013-01-01 18:40:36      2800.0   german  2013-01-01 18:42:02   \n",
       "4      4.0  2013-01-01 14:37:51      5110.0   indian  2013-01-01 14:39:05   \n",
       "\n",
       "     state  \n",
       "0   active  \n",
       "1  pending  \n",
       "2  pending  \n",
       "3   active  \n",
       "4   active  "
      ]
     },
     "execution_count": 13,
     "metadata": {},
     "output_type": "execute_result"
    }
   ],
   "source": [
    "users.head()"
   ]
  },
  {
   "cell_type": "code",
   "execution_count": 14,
   "metadata": {},
   "outputs": [],
   "source": [
    "query_events_pg = \"\"\"\n",
    "SELECT *\n",
    "FROM events;\n",
    "\"\"\""
   ]
  },
  {
   "cell_type": "code",
   "execution_count": 15,
   "metadata": {},
   "outputs": [],
   "source": [
    "events = pd.read_sql(query_events_pg, engine)"
   ]
  },
  {
   "cell_type": "code",
   "execution_count": 16,
   "metadata": {},
   "outputs": [
    {
     "data": {
      "text/html": [
       "<div>\n",
       "<style scoped>\n",
       "    .dataframe tbody tr th:only-of-type {\n",
       "        vertical-align: middle;\n",
       "    }\n",
       "\n",
       "    .dataframe tbody tr th {\n",
       "        vertical-align: top;\n",
       "    }\n",
       "\n",
       "    .dataframe thead th {\n",
       "        text-align: right;\n",
       "    }\n",
       "</style>\n",
       "<table border=\"1\" class=\"dataframe\">\n",
       "  <thead>\n",
       "    <tr style=\"text-align: right;\">\n",
       "      <th></th>\n",
       "      <th>user_id</th>\n",
       "      <th>occurred_at</th>\n",
       "      <th>event_type</th>\n",
       "      <th>event_name</th>\n",
       "      <th>location</th>\n",
       "      <th>device</th>\n",
       "      <th>user_type</th>\n",
       "    </tr>\n",
       "  </thead>\n",
       "  <tbody>\n",
       "    <tr>\n",
       "      <th>0</th>\n",
       "      <td>10522.0</td>\n",
       "      <td>2014-05-02 11:02:39</td>\n",
       "      <td>engagement</td>\n",
       "      <td>login</td>\n",
       "      <td>Japan</td>\n",
       "      <td>dell inspiron notebook</td>\n",
       "      <td>3.0</td>\n",
       "    </tr>\n",
       "    <tr>\n",
       "      <th>1</th>\n",
       "      <td>10522.0</td>\n",
       "      <td>2014-05-02 11:02:53</td>\n",
       "      <td>engagement</td>\n",
       "      <td>home_page</td>\n",
       "      <td>Japan</td>\n",
       "      <td>dell inspiron notebook</td>\n",
       "      <td>3.0</td>\n",
       "    </tr>\n",
       "    <tr>\n",
       "      <th>2</th>\n",
       "      <td>10522.0</td>\n",
       "      <td>2014-05-02 11:03:28</td>\n",
       "      <td>engagement</td>\n",
       "      <td>like_message</td>\n",
       "      <td>Japan</td>\n",
       "      <td>dell inspiron notebook</td>\n",
       "      <td>3.0</td>\n",
       "    </tr>\n",
       "    <tr>\n",
       "      <th>3</th>\n",
       "      <td>10522.0</td>\n",
       "      <td>2014-05-02 11:04:09</td>\n",
       "      <td>engagement</td>\n",
       "      <td>view_inbox</td>\n",
       "      <td>Japan</td>\n",
       "      <td>dell inspiron notebook</td>\n",
       "      <td>3.0</td>\n",
       "    </tr>\n",
       "    <tr>\n",
       "      <th>4</th>\n",
       "      <td>10522.0</td>\n",
       "      <td>2014-05-02 11:03:16</td>\n",
       "      <td>engagement</td>\n",
       "      <td>search_run</td>\n",
       "      <td>Japan</td>\n",
       "      <td>dell inspiron notebook</td>\n",
       "      <td>3.0</td>\n",
       "    </tr>\n",
       "  </tbody>\n",
       "</table>\n",
       "</div>"
      ],
      "text/plain": [
       "   user_id          occurred_at  event_type    event_name location  \\\n",
       "0  10522.0  2014-05-02 11:02:39  engagement         login    Japan   \n",
       "1  10522.0  2014-05-02 11:02:53  engagement     home_page    Japan   \n",
       "2  10522.0  2014-05-02 11:03:28  engagement  like_message    Japan   \n",
       "3  10522.0  2014-05-02 11:04:09  engagement    view_inbox    Japan   \n",
       "4  10522.0  2014-05-02 11:03:16  engagement    search_run    Japan   \n",
       "\n",
       "                   device  user_type  \n",
       "0  dell inspiron notebook        3.0  \n",
       "1  dell inspiron notebook        3.0  \n",
       "2  dell inspiron notebook        3.0  \n",
       "3  dell inspiron notebook        3.0  \n",
       "4  dell inspiron notebook        3.0  "
      ]
     },
     "execution_count": 16,
     "metadata": {},
     "output_type": "execute_result"
    }
   ],
   "source": [
    "events.head()"
   ]
  },
  {
   "cell_type": "code",
   "execution_count": 17,
   "metadata": {},
   "outputs": [],
   "source": [
    "query_emails_pg = \"\"\"\n",
    "SELECT *\n",
    "FROM emails;\n",
    "\"\"\""
   ]
  },
  {
   "cell_type": "code",
   "execution_count": 18,
   "metadata": {},
   "outputs": [],
   "source": [
    "emails = pd.read_sql(query_emails_pg, engine)"
   ]
  },
  {
   "cell_type": "code",
   "execution_count": 19,
   "metadata": {},
   "outputs": [
    {
     "data": {
      "text/html": [
       "<div>\n",
       "<style scoped>\n",
       "    .dataframe tbody tr th:only-of-type {\n",
       "        vertical-align: middle;\n",
       "    }\n",
       "\n",
       "    .dataframe tbody tr th {\n",
       "        vertical-align: top;\n",
       "    }\n",
       "\n",
       "    .dataframe thead th {\n",
       "        text-align: right;\n",
       "    }\n",
       "</style>\n",
       "<table border=\"1\" class=\"dataframe\">\n",
       "  <thead>\n",
       "    <tr style=\"text-align: right;\">\n",
       "      <th></th>\n",
       "      <th>user_id</th>\n",
       "      <th>occurred_at</th>\n",
       "      <th>action</th>\n",
       "      <th>user_type</th>\n",
       "    </tr>\n",
       "  </thead>\n",
       "  <tbody>\n",
       "    <tr>\n",
       "      <th>0</th>\n",
       "      <td>0.0</td>\n",
       "      <td>2014-05-06 09:30:00</td>\n",
       "      <td>sent_weekly_digest</td>\n",
       "      <td>1.0</td>\n",
       "    </tr>\n",
       "    <tr>\n",
       "      <th>1</th>\n",
       "      <td>0.0</td>\n",
       "      <td>2014-05-13 09:30:00</td>\n",
       "      <td>sent_weekly_digest</td>\n",
       "      <td>1.0</td>\n",
       "    </tr>\n",
       "    <tr>\n",
       "      <th>2</th>\n",
       "      <td>0.0</td>\n",
       "      <td>2014-05-20 09:30:00</td>\n",
       "      <td>sent_weekly_digest</td>\n",
       "      <td>1.0</td>\n",
       "    </tr>\n",
       "    <tr>\n",
       "      <th>3</th>\n",
       "      <td>0.0</td>\n",
       "      <td>2014-05-27 09:30:00</td>\n",
       "      <td>sent_weekly_digest</td>\n",
       "      <td>1.0</td>\n",
       "    </tr>\n",
       "    <tr>\n",
       "      <th>4</th>\n",
       "      <td>0.0</td>\n",
       "      <td>2014-06-03 09:30:00</td>\n",
       "      <td>sent_weekly_digest</td>\n",
       "      <td>1.0</td>\n",
       "    </tr>\n",
       "  </tbody>\n",
       "</table>\n",
       "</div>"
      ],
      "text/plain": [
       "   user_id          occurred_at              action  user_type\n",
       "0      0.0  2014-05-06 09:30:00  sent_weekly_digest        1.0\n",
       "1      0.0  2014-05-13 09:30:00  sent_weekly_digest        1.0\n",
       "2      0.0  2014-05-20 09:30:00  sent_weekly_digest        1.0\n",
       "3      0.0  2014-05-27 09:30:00  sent_weekly_digest        1.0\n",
       "4      0.0  2014-06-03 09:30:00  sent_weekly_digest        1.0"
      ]
     },
     "execution_count": 19,
     "metadata": {},
     "output_type": "execute_result"
    }
   ],
   "source": [
    "emails.head()"
   ]
  },
  {
   "cell_type": "markdown",
   "metadata": {},
   "source": [
    "## The issue. A drop in user engagement"
   ]
  },
  {
   "cell_type": "code",
   "execution_count": 82,
   "metadata": {},
   "outputs": [],
   "source": [
    "query_issue = \"\"\"\n",
    "SELECT SUBSTR(((DATE_TRUNC('week', occurred_at::date)))::text, 6, 5) AS week,\n",
    " COUNT(DISTINCT user_id) AS weekly_active_users\n",
    "FROM events\n",
    "WHERE event_name = 'login'\n",
    "GROUP BY week\n",
    "ORDER BY week;\n",
    "\"\"\"\n",
    "user_engagement = pd.read_sql(query_issue, engine)"
   ]
  },
  {
   "cell_type": "code",
   "execution_count": 83,
   "metadata": {},
   "outputs": [
    {
     "data": {
      "text/html": [
       "<div>\n",
       "<style scoped>\n",
       "    .dataframe tbody tr th:only-of-type {\n",
       "        vertical-align: middle;\n",
       "    }\n",
       "\n",
       "    .dataframe tbody tr th {\n",
       "        vertical-align: top;\n",
       "    }\n",
       "\n",
       "    .dataframe thead th {\n",
       "        text-align: right;\n",
       "    }\n",
       "</style>\n",
       "<table border=\"1\" class=\"dataframe\">\n",
       "  <thead>\n",
       "    <tr style=\"text-align: right;\">\n",
       "      <th></th>\n",
       "      <th>week</th>\n",
       "      <th>weekly_active_users</th>\n",
       "    </tr>\n",
       "  </thead>\n",
       "  <tbody>\n",
       "    <tr>\n",
       "      <th>0</th>\n",
       "      <td>04-28</td>\n",
       "      <td>701</td>\n",
       "    </tr>\n",
       "    <tr>\n",
       "      <th>1</th>\n",
       "      <td>05-05</td>\n",
       "      <td>1054</td>\n",
       "    </tr>\n",
       "    <tr>\n",
       "      <th>2</th>\n",
       "      <td>05-12</td>\n",
       "      <td>1094</td>\n",
       "    </tr>\n",
       "    <tr>\n",
       "      <th>3</th>\n",
       "      <td>05-19</td>\n",
       "      <td>1147</td>\n",
       "    </tr>\n",
       "    <tr>\n",
       "      <th>4</th>\n",
       "      <td>05-26</td>\n",
       "      <td>1113</td>\n",
       "    </tr>\n",
       "    <tr>\n",
       "      <th>5</th>\n",
       "      <td>06-02</td>\n",
       "      <td>1173</td>\n",
       "    </tr>\n",
       "    <tr>\n",
       "      <th>6</th>\n",
       "      <td>06-09</td>\n",
       "      <td>1219</td>\n",
       "    </tr>\n",
       "    <tr>\n",
       "      <th>7</th>\n",
       "      <td>06-16</td>\n",
       "      <td>1262</td>\n",
       "    </tr>\n",
       "    <tr>\n",
       "      <th>8</th>\n",
       "      <td>06-23</td>\n",
       "      <td>1249</td>\n",
       "    </tr>\n",
       "    <tr>\n",
       "      <th>9</th>\n",
       "      <td>06-30</td>\n",
       "      <td>1271</td>\n",
       "    </tr>\n",
       "    <tr>\n",
       "      <th>10</th>\n",
       "      <td>07-07</td>\n",
       "      <td>1355</td>\n",
       "    </tr>\n",
       "    <tr>\n",
       "      <th>11</th>\n",
       "      <td>07-14</td>\n",
       "      <td>1345</td>\n",
       "    </tr>\n",
       "    <tr>\n",
       "      <th>12</th>\n",
       "      <td>07-21</td>\n",
       "      <td>1363</td>\n",
       "    </tr>\n",
       "    <tr>\n",
       "      <th>13</th>\n",
       "      <td>07-28</td>\n",
       "      <td>1442</td>\n",
       "    </tr>\n",
       "    <tr>\n",
       "      <th>14</th>\n",
       "      <td>08-04</td>\n",
       "      <td>1266</td>\n",
       "    </tr>\n",
       "    <tr>\n",
       "      <th>15</th>\n",
       "      <td>08-11</td>\n",
       "      <td>1215</td>\n",
       "    </tr>\n",
       "    <tr>\n",
       "      <th>16</th>\n",
       "      <td>08-18</td>\n",
       "      <td>1203</td>\n",
       "    </tr>\n",
       "    <tr>\n",
       "      <th>17</th>\n",
       "      <td>08-25</td>\n",
       "      <td>1194</td>\n",
       "    </tr>\n",
       "  </tbody>\n",
       "</table>\n",
       "</div>"
      ],
      "text/plain": [
       "     week  weekly_active_users\n",
       "0   04-28                  701\n",
       "1   05-05                 1054\n",
       "2   05-12                 1094\n",
       "3   05-19                 1147\n",
       "4   05-26                 1113\n",
       "5   06-02                 1173\n",
       "6   06-09                 1219\n",
       "7   06-16                 1262\n",
       "8   06-23                 1249\n",
       "9   06-30                 1271\n",
       "10  07-07                 1355\n",
       "11  07-14                 1345\n",
       "12  07-21                 1363\n",
       "13  07-28                 1442\n",
       "14  08-04                 1266\n",
       "15  08-11                 1215\n",
       "16  08-18                 1203\n",
       "17  08-25                 1194"
      ]
     },
     "execution_count": 83,
     "metadata": {},
     "output_type": "execute_result"
    }
   ],
   "source": [
    "user_engagement"
   ]
  },
  {
   "cell_type": "code",
   "execution_count": 300,
   "metadata": {},
   "outputs": [
    {
     "data": {
      "image/png": "[encoded data removed]",
      "text/plain": [
       "<Figure size 1080x504 with 1 Axes>"
      ]
     },
     "metadata": {},
     "output_type": "display_data"
    }
   ],
   "source": [
    "with plt.style.context('seaborn-whitegrid'):\n",
    "    \n",
    "    fig, ax = plt.subplots(figsize=(15,7))\n",
    "    fig.suptitle(\"Weekly active users\", fontsize=22, fontweight=650, y=0.94)\n",
    "    \n",
    "    sns.lineplot(user_engagement[\"week\"], user_engagement[\"weekly_active_users\"], lw=5, color=\"purple\")\n",
    "    ax.set_ylim(0, 1600)\n",
    "    ax.tick_params(axis=\"x\", labelsize=16, rotation=50)\n",
    "    ax.tick_params(axis=\"y\", labelsize=16)\n",
    "    ax.set_xlabel(\"Date\", fontsize=18, fontweight=650)\n",
    "    ax.set_ylabel(\"Active users\", fontsize=18, fontweight=650)\n",
    "\n",
    "    for label in ax.get_xticklabels():\n",
    "        label.set_horizontalalignment('right')\n",
    "\n",
    "    plt.show()"
   ]
  },
  {
   "cell_type": "markdown",
   "metadata": {},
   "source": [
    "## Holidays"
   ]
  },
  {
   "cell_type": "markdown",
   "metadata": {},
   "source": [
    "Do I keep this one below??"
   ]
  },
  {
   "cell_type": "code",
   "execution_count": 24,
   "metadata": {},
   "outputs": [],
   "source": [
    "query_holidays = \"\"\"\n",
    "SELECT location, DATE_TRUNC('week', occurred_at::date) AS week, COUNT(DISTINCT user_id)\n",
    "FROM events\n",
    "WHERE event_name = 'login'\n",
    "GROUP BY location, week\n",
    "ORDER BY location, week;\n",
    "\"\"\"\n",
    "\n",
    "holidays_0 = pd.read_sql(query_holidays, engine)"
   ]
  },
  {
   "cell_type": "code",
   "execution_count": 25,
   "metadata": {},
   "outputs": [
    {
     "data": {
      "text/html": [
       "<div>\n",
       "<style scoped>\n",
       "    .dataframe tbody tr th:only-of-type {\n",
       "        vertical-align: middle;\n",
       "    }\n",
       "\n",
       "    .dataframe tbody tr th {\n",
       "        vertical-align: top;\n",
       "    }\n",
       "\n",
       "    .dataframe thead th {\n",
       "        text-align: right;\n",
       "    }\n",
       "</style>\n",
       "<table border=\"1\" class=\"dataframe\">\n",
       "  <thead>\n",
       "    <tr style=\"text-align: right;\">\n",
       "      <th></th>\n",
       "      <th>location</th>\n",
       "      <th>week</th>\n",
       "      <th>count</th>\n",
       "    </tr>\n",
       "  </thead>\n",
       "  <tbody>\n",
       "    <tr>\n",
       "      <th>0</th>\n",
       "      <td>Argentina</td>\n",
       "      <td>2014-04-27 22:00:00+00:00</td>\n",
       "      <td>1</td>\n",
       "    </tr>\n",
       "    <tr>\n",
       "      <th>1</th>\n",
       "      <td>Argentina</td>\n",
       "      <td>2014-05-04 22:00:00+00:00</td>\n",
       "      <td>5</td>\n",
       "    </tr>\n",
       "    <tr>\n",
       "      <th>2</th>\n",
       "      <td>Argentina</td>\n",
       "      <td>2014-05-11 22:00:00+00:00</td>\n",
       "      <td>6</td>\n",
       "    </tr>\n",
       "    <tr>\n",
       "      <th>3</th>\n",
       "      <td>Argentina</td>\n",
       "      <td>2014-05-18 22:00:00+00:00</td>\n",
       "      <td>7</td>\n",
       "    </tr>\n",
       "    <tr>\n",
       "      <th>4</th>\n",
       "      <td>Argentina</td>\n",
       "      <td>2014-05-25 22:00:00+00:00</td>\n",
       "      <td>5</td>\n",
       "    </tr>\n",
       "  </tbody>\n",
       "</table>\n",
       "</div>"
      ],
      "text/plain": [
       "    location                      week  count\n",
       "0  Argentina 2014-04-27 22:00:00+00:00      1\n",
       "1  Argentina 2014-05-04 22:00:00+00:00      5\n",
       "2  Argentina 2014-05-11 22:00:00+00:00      6\n",
       "3  Argentina 2014-05-18 22:00:00+00:00      7\n",
       "4  Argentina 2014-05-25 22:00:00+00:00      5"
      ]
     },
     "execution_count": 25,
     "metadata": {},
     "output_type": "execute_result"
    }
   ],
   "source": [
    "holidays_0.head()"
   ]
  },
  {
   "cell_type": "markdown",
   "metadata": {},
   "source": [
    "*This query below tries to find the countries where the number of active users in august was greater than in july. In order to consider holidays as the reason for the user engagement drop we would like to see in the query output a list of countries where august is not the main vacation month, which we would expect either from countries whose tradition makes that the predominant vacation month is none in particular, or just another one because of for example, being located in the south hemisphere.*"
   ]
  },
  {
   "cell_type": "code",
   "execution_count": 39,
   "metadata": {},
   "outputs": [],
   "source": [
    "query_holidays= \"\"\"\n",
    "SELECT sub3.location\n",
    "FROM(\n",
    "    SELECT sub2.*\n",
    "    FROM(\n",
    "        SELECT sub1.*, LAG(sub1.active_users, 1) OVER (PARTITION BY sub1.location) AS active_users_t0\n",
    "        FROM(\n",
    "            SELECT location, EXTRACT('month' FROM occurred_at::date) AS month,\n",
    "             COUNT(DISTINCT user_id) as active_users\n",
    "            FROM events\n",
    "            WHERE event_name = 'login'\n",
    "            GROUP BY location, month\n",
    "            ) sub1\n",
    "        ) sub2\n",
    "    WHERE sub2.month = 8\n",
    "    ) sub3\n",
    "WHERE sub3.active_users - sub3.active_users_t0 > 0;\n",
    "\"\"\"\n",
    "\n",
    "holidays_1 = pd.read_sql(query_holidays, engine)"
   ]
  },
  {
   "cell_type": "code",
   "execution_count": 40,
   "metadata": {},
   "outputs": [
    {
     "data": {
      "text/html": [
       "<div>\n",
       "<style scoped>\n",
       "    .dataframe tbody tr th:only-of-type {\n",
       "        vertical-align: middle;\n",
       "    }\n",
       "\n",
       "    .dataframe tbody tr th {\n",
       "        vertical-align: top;\n",
       "    }\n",
       "\n",
       "    .dataframe thead th {\n",
       "        text-align: right;\n",
       "    }\n",
       "</style>\n",
       "<table border=\"1\" class=\"dataframe\">\n",
       "  <thead>\n",
       "    <tr style=\"text-align: right;\">\n",
       "      <th></th>\n",
       "      <th>location</th>\n",
       "    </tr>\n",
       "  </thead>\n",
       "  <tbody>\n",
       "    <tr>\n",
       "      <th>0</th>\n",
       "      <td>Colombia</td>\n",
       "    </tr>\n",
       "    <tr>\n",
       "      <th>1</th>\n",
       "      <td>Denmark</td>\n",
       "    </tr>\n",
       "    <tr>\n",
       "      <th>2</th>\n",
       "      <td>Egypt</td>\n",
       "    </tr>\n",
       "    <tr>\n",
       "      <th>3</th>\n",
       "      <td>Greece</td>\n",
       "    </tr>\n",
       "    <tr>\n",
       "      <th>4</th>\n",
       "      <td>Indonesia</td>\n",
       "    </tr>\n",
       "    <tr>\n",
       "      <th>5</th>\n",
       "      <td>Iraq</td>\n",
       "    </tr>\n",
       "    <tr>\n",
       "      <th>6</th>\n",
       "      <td>Ireland</td>\n",
       "    </tr>\n",
       "    <tr>\n",
       "      <th>7</th>\n",
       "      <td>Malaysia</td>\n",
       "    </tr>\n",
       "    <tr>\n",
       "      <th>8</th>\n",
       "      <td>Pakistan</td>\n",
       "    </tr>\n",
       "    <tr>\n",
       "      <th>9</th>\n",
       "      <td>Philippines</td>\n",
       "    </tr>\n",
       "    <tr>\n",
       "      <th>10</th>\n",
       "      <td>Poland</td>\n",
       "    </tr>\n",
       "    <tr>\n",
       "      <th>11</th>\n",
       "      <td>Portugal</td>\n",
       "    </tr>\n",
       "    <tr>\n",
       "      <th>12</th>\n",
       "      <td>Singapore</td>\n",
       "    </tr>\n",
       "    <tr>\n",
       "      <th>13</th>\n",
       "      <td>South Africa</td>\n",
       "    </tr>\n",
       "    <tr>\n",
       "      <th>14</th>\n",
       "      <td>Spain</td>\n",
       "    </tr>\n",
       "    <tr>\n",
       "      <th>15</th>\n",
       "      <td>Turkey</td>\n",
       "    </tr>\n",
       "  </tbody>\n",
       "</table>\n",
       "</div>"
      ],
      "text/plain": [
       "        location\n",
       "0       Colombia\n",
       "1        Denmark\n",
       "2          Egypt\n",
       "3         Greece\n",
       "4      Indonesia\n",
       "5           Iraq\n",
       "6        Ireland\n",
       "7       Malaysia\n",
       "8       Pakistan\n",
       "9    Philippines\n",
       "10        Poland\n",
       "11      Portugal\n",
       "12     Singapore\n",
       "13  South Africa\n",
       "14         Spain\n",
       "15        Turkey"
      ]
     },
     "execution_count": 40,
     "metadata": {},
     "output_type": "execute_result"
    }
   ],
   "source": [
    "holidays_1"
   ]
  },
  {
   "cell_type": "markdown",
   "metadata": {},
   "source": [
    "I am Spanish and I can confirm august is traditionally the predominant vacation month. Well, here below is how the engagement user looks like by month in Spain"
   ]
  },
  {
   "cell_type": "code",
   "execution_count": 18,
   "metadata": {},
   "outputs": [],
   "source": [
    "query_holidays= \"\"\"\n",
    "SELECT LEFT((DATE_TRUNC('month', occurred_at::date))::text, 7) AS month,\n",
    " COUNT(DISTINCT user_id) AS monthly_active_users\n",
    "FROM events\n",
    "WHERE event_name = 'login' AND location = 'Spain'\n",
    "GROUP BY month;\n",
    "\"\"\"\n",
    "holidays_2 = pd.read_sql(query_holidays, engine)"
   ]
  },
  {
   "cell_type": "code",
   "execution_count": 281,
   "metadata": {},
   "outputs": [
    {
     "ename": "ValueError",
     "evalue": "invalid literal for int() with base 10: '2014-06'",
     "output_type": "error",
     "traceback": [
      "\u001b[0;31m---------------------------------------------------------------------------\u001b[0m",
      "\u001b[0;31mValueError\u001b[0m                                Traceback (most recent call last)",
      "\u001b[0;32m<ipython-input-281-865f2443e174>\u001b[0m in \u001b[0;36m<module>\u001b[0;34m\u001b[0m\n\u001b[0;32m----> 1\u001b[0;31m \u001b[0mholidays_2\u001b[0m\u001b[0;34m[\u001b[0m\u001b[0;34m\"month\"\u001b[0m\u001b[0;34m]\u001b[0m \u001b[0;34m=\u001b[0m \u001b[0mholidays_2\u001b[0m\u001b[0;34m[\u001b[0m\u001b[0;34m\"month\"\u001b[0m\u001b[0;34m]\u001b[0m\u001b[0;34m.\u001b[0m\u001b[0mapply\u001b[0m\u001b[0;34m(\u001b[0m\u001b[0;32mlambda\u001b[0m \u001b[0mx\u001b[0m\u001b[0;34m:\u001b[0m \u001b[0mint\u001b[0m\u001b[0;34m(\u001b[0m\u001b[0mx\u001b[0m\u001b[0;34m)\u001b[0m\u001b[0;34m)\u001b[0m\u001b[0;34m\u001b[0m\u001b[0;34m\u001b[0m\u001b[0m\n\u001b[0m",
      "\u001b[0;32m~/anaconda3/lib/python3.7/site-packages/pandas/core/series.py\u001b[0m in \u001b[0;36mapply\u001b[0;34m(self, func, convert_dtype, args, **kwds)\u001b[0m\n\u001b[1;32m   3589\u001b[0m             \u001b[0;32melse\u001b[0m\u001b[0;34m:\u001b[0m\u001b[0;34m\u001b[0m\u001b[0;34m\u001b[0m\u001b[0m\n\u001b[1;32m   3590\u001b[0m                 \u001b[0mvalues\u001b[0m \u001b[0;34m=\u001b[0m \u001b[0mself\u001b[0m\u001b[0;34m.\u001b[0m\u001b[0mastype\u001b[0m\u001b[0;34m(\u001b[0m\u001b[0mobject\u001b[0m\u001b[0;34m)\u001b[0m\u001b[0;34m.\u001b[0m\u001b[0mvalues\u001b[0m\u001b[0;34m\u001b[0m\u001b[0;34m\u001b[0m\u001b[0m\n\u001b[0;32m-> 3591\u001b[0;31m                 \u001b[0mmapped\u001b[0m \u001b[0;34m=\u001b[0m \u001b[0mlib\u001b[0m\u001b[0;34m.\u001b[0m\u001b[0mmap_infer\u001b[0m\u001b[0;34m(\u001b[0m\u001b[0mvalues\u001b[0m\u001b[0;34m,\u001b[0m \u001b[0mf\u001b[0m\u001b[0;34m,\u001b[0m \u001b[0mconvert\u001b[0m\u001b[0;34m=\u001b[0m\u001b[0mconvert_dtype\u001b[0m\u001b[0;34m)\u001b[0m\u001b[0;34m\u001b[0m\u001b[0;34m\u001b[0m\u001b[0m\n\u001b[0m\u001b[1;32m   3592\u001b[0m \u001b[0;34m\u001b[0m\u001b[0m\n\u001b[1;32m   3593\u001b[0m         \u001b[0;32mif\u001b[0m \u001b[0mlen\u001b[0m\u001b[0;34m(\u001b[0m\u001b[0mmapped\u001b[0m\u001b[0;34m)\u001b[0m \u001b[0;32mand\u001b[0m \u001b[0misinstance\u001b[0m\u001b[0;34m(\u001b[0m\u001b[0mmapped\u001b[0m\u001b[0;34m[\u001b[0m\u001b[0;36m0\u001b[0m\u001b[0;34m]\u001b[0m\u001b[0;34m,\u001b[0m \u001b[0mSeries\u001b[0m\u001b[0;34m)\u001b[0m\u001b[0;34m:\u001b[0m\u001b[0;34m\u001b[0m\u001b[0;34m\u001b[0m\u001b[0m\n",
      "\u001b[0;32mpandas/_libs/lib.pyx\u001b[0m in \u001b[0;36mpandas._libs.lib.map_infer\u001b[0;34m()\u001b[0m\n",
      "\u001b[0;32m<ipython-input-281-865f2443e174>\u001b[0m in \u001b[0;36m<lambda>\u001b[0;34m(x)\u001b[0m\n\u001b[0;32m----> 1\u001b[0;31m \u001b[0mholidays_2\u001b[0m\u001b[0;34m[\u001b[0m\u001b[0;34m\"month\"\u001b[0m\u001b[0;34m]\u001b[0m \u001b[0;34m=\u001b[0m \u001b[0mholidays_2\u001b[0m\u001b[0;34m[\u001b[0m\u001b[0;34m\"month\"\u001b[0m\u001b[0;34m]\u001b[0m\u001b[0;34m.\u001b[0m\u001b[0mapply\u001b[0m\u001b[0;34m(\u001b[0m\u001b[0;32mlambda\u001b[0m \u001b[0mx\u001b[0m\u001b[0;34m:\u001b[0m \u001b[0mint\u001b[0m\u001b[0;34m(\u001b[0m\u001b[0mx\u001b[0m\u001b[0;34m)\u001b[0m\u001b[0;34m)\u001b[0m\u001b[0;34m\u001b[0m\u001b[0;34m\u001b[0m\u001b[0m\n\u001b[0m",
      "\u001b[0;31mValueError\u001b[0m: invalid literal for int() with base 10: '2014-06'"
     ]
    }
   ],
   "source": [
    "holidays_2[\"month\"] = holidays_2[\"month\"].apply(lambda x: int(x))"
   ]
  },
  {
   "cell_type": "code",
   "execution_count": 19,
   "metadata": {},
   "outputs": [
    {
     "data": {
      "text/html": [
       "<div>\n",
       "<style scoped>\n",
       "    .dataframe tbody tr th:only-of-type {\n",
       "        vertical-align: middle;\n",
       "    }\n",
       "\n",
       "    .dataframe tbody tr th {\n",
       "        vertical-align: top;\n",
       "    }\n",
       "\n",
       "    .dataframe thead th {\n",
       "        text-align: right;\n",
       "    }\n",
       "</style>\n",
       "<table border=\"1\" class=\"dataframe\">\n",
       "  <thead>\n",
       "    <tr style=\"text-align: right;\">\n",
       "      <th></th>\n",
       "      <th>month</th>\n",
       "      <th>monthly_active_users</th>\n",
       "    </tr>\n",
       "  </thead>\n",
       "  <tbody>\n",
       "    <tr>\n",
       "      <th>0</th>\n",
       "      <td>2014-05</td>\n",
       "      <td>45</td>\n",
       "    </tr>\n",
       "    <tr>\n",
       "      <th>1</th>\n",
       "      <td>2014-06</td>\n",
       "      <td>49</td>\n",
       "    </tr>\n",
       "    <tr>\n",
       "      <th>2</th>\n",
       "      <td>2014-07</td>\n",
       "      <td>45</td>\n",
       "    </tr>\n",
       "    <tr>\n",
       "      <th>3</th>\n",
       "      <td>2014-08</td>\n",
       "      <td>52</td>\n",
       "    </tr>\n",
       "  </tbody>\n",
       "</table>\n",
       "</div>"
      ],
      "text/plain": [
       "     month  monthly_active_users\n",
       "0  2014-05                    45\n",
       "1  2014-06                    49\n",
       "2  2014-07                    45\n",
       "3  2014-08                    52"
      ]
     },
     "execution_count": 19,
     "metadata": {},
     "output_type": "execute_result"
    }
   ],
   "source": [
    "holidays_2.head()"
   ]
  },
  {
   "cell_type": "code",
   "execution_count": null,
   "metadata": {},
   "outputs": [],
   "source": []
  },
  {
   "cell_type": "code",
   "execution_count": 251,
   "metadata": {},
   "outputs": [
    {
     "data": {
      "image/png": "[encoded data removed]",
      "text/plain": [
       "<Figure size 864x504 with 1 Axes>"
      ]
     },
     "metadata": {},
     "output_type": "display_data"
    }
   ],
   "source": [
    "with plt.style.context('seaborn-whitegrid'):\n",
    "    \n",
    "    plt.figure(figsize=(12,7))\n",
    "    plt.title(\"Spain. Monthly active users\", fontsize=22, fontweight=650, y=1.02)\n",
    "    \n",
    "    plt.bar(holidays_2[\"month\"], holidays_2[\"monthly_active_users\"], color=\"indianred\", width=0.6,\n",
    "            edgecolor=\"black\", linewidth=3)\n",
    "    plt.ylim(0, holidays_2.monthly_active_users.max()+8)\n",
    "    plt.tick_params(axis=\"x\", labelsize=16, pad=15)\n",
    "    plt.tick_params(axis=\"y\", labelsize=16)\n",
    "    plt.xlabel(\"Date\", fontsize=18, fontweight=650)\n",
    "    plt.ylabel(\"Active users\", fontsize=18, fontweight=650)\n",
    "\n",
    "    plt.show()"
   ]
  },
  {
   "cell_type": "markdown",
   "metadata": {},
   "source": [
    "This in particular somewhat discourages me to think that holidays is the reason for the user engagement drop. [Develop]"
   ]
  },
  {
   "cell_type": "markdown",
   "metadata": {},
   "source": [
    "### Broken feature"
   ]
  },
  {
   "cell_type": "markdown",
   "metadata": {},
   "source": [
    "#### Device type"
   ]
  },
  {
   "cell_type": "code",
   "execution_count": 50,
   "metadata": {},
   "outputs": [],
   "source": [
    "query_model_device = \"\"\"\n",
    "SELECT DISTINCT device\n",
    "FROM events;\n",
    "\"\"\"\n",
    "device_0 = pd.read_sql(query_model_device, engine)"
   ]
  },
  {
   "cell_type": "markdown",
   "metadata": {},
   "source": [
    "Below are listed all the model devices that have been used to log into the intranet"
   ]
  },
  {
   "cell_type": "code",
   "execution_count": 51,
   "metadata": {},
   "outputs": [
    {
     "data": {
      "text/html": [
       "<div>\n",
       "<style scoped>\n",
       "    .dataframe tbody tr th:only-of-type {\n",
       "        vertical-align: middle;\n",
       "    }\n",
       "\n",
       "    .dataframe tbody tr th {\n",
       "        vertical-align: top;\n",
       "    }\n",
       "\n",
       "    .dataframe thead th {\n",
       "        text-align: right;\n",
       "    }\n",
       "</style>\n",
       "<table border=\"1\" class=\"dataframe\">\n",
       "  <thead>\n",
       "    <tr style=\"text-align: right;\">\n",
       "      <th></th>\n",
       "      <th>device</th>\n",
       "    </tr>\n",
       "  </thead>\n",
       "  <tbody>\n",
       "    <tr>\n",
       "      <th>0</th>\n",
       "      <td>samsumg galaxy tablet</td>\n",
       "    </tr>\n",
       "    <tr>\n",
       "      <th>1</th>\n",
       "      <td>asus chromebook</td>\n",
       "    </tr>\n",
       "    <tr>\n",
       "      <th>2</th>\n",
       "      <td>samsung galaxy note</td>\n",
       "    </tr>\n",
       "    <tr>\n",
       "      <th>3</th>\n",
       "      <td>iphone 5s</td>\n",
       "    </tr>\n",
       "    <tr>\n",
       "      <th>4</th>\n",
       "      <td>nexus 10</td>\n",
       "    </tr>\n",
       "    <tr>\n",
       "      <th>5</th>\n",
       "      <td>nokia lumia 635</td>\n",
       "    </tr>\n",
       "    <tr>\n",
       "      <th>6</th>\n",
       "      <td>macbook air</td>\n",
       "    </tr>\n",
       "    <tr>\n",
       "      <th>7</th>\n",
       "      <td>iphone 5</td>\n",
       "    </tr>\n",
       "    <tr>\n",
       "      <th>8</th>\n",
       "      <td>dell inspiron desktop</td>\n",
       "    </tr>\n",
       "    <tr>\n",
       "      <th>9</th>\n",
       "      <td>htc one</td>\n",
       "    </tr>\n",
       "    <tr>\n",
       "      <th>10</th>\n",
       "      <td>lenovo thinkpad</td>\n",
       "    </tr>\n",
       "    <tr>\n",
       "      <th>11</th>\n",
       "      <td>ipad mini</td>\n",
       "    </tr>\n",
       "    <tr>\n",
       "      <th>12</th>\n",
       "      <td>macbook pro</td>\n",
       "    </tr>\n",
       "    <tr>\n",
       "      <th>13</th>\n",
       "      <td>ipad air</td>\n",
       "    </tr>\n",
       "    <tr>\n",
       "      <th>14</th>\n",
       "      <td>iphone 4s</td>\n",
       "    </tr>\n",
       "    <tr>\n",
       "      <th>15</th>\n",
       "      <td>nexus 7</td>\n",
       "    </tr>\n",
       "    <tr>\n",
       "      <th>16</th>\n",
       "      <td>amazon fire phone</td>\n",
       "    </tr>\n",
       "    <tr>\n",
       "      <th>17</th>\n",
       "      <td>hp pavilion desktop</td>\n",
       "    </tr>\n",
       "    <tr>\n",
       "      <th>18</th>\n",
       "      <td>samsung galaxy s4</td>\n",
       "    </tr>\n",
       "    <tr>\n",
       "      <th>19</th>\n",
       "      <td>kindle fire</td>\n",
       "    </tr>\n",
       "    <tr>\n",
       "      <th>20</th>\n",
       "      <td>windows surface</td>\n",
       "    </tr>\n",
       "    <tr>\n",
       "      <th>21</th>\n",
       "      <td>acer aspire desktop</td>\n",
       "    </tr>\n",
       "    <tr>\n",
       "      <th>22</th>\n",
       "      <td>acer aspire notebook</td>\n",
       "    </tr>\n",
       "    <tr>\n",
       "      <th>23</th>\n",
       "      <td>nexus 5</td>\n",
       "    </tr>\n",
       "    <tr>\n",
       "      <th>24</th>\n",
       "      <td>mac mini</td>\n",
       "    </tr>\n",
       "    <tr>\n",
       "      <th>25</th>\n",
       "      <td>dell inspiron notebook</td>\n",
       "    </tr>\n",
       "  </tbody>\n",
       "</table>\n",
       "</div>"
      ],
      "text/plain": [
       "                    device\n",
       "0    samsumg galaxy tablet\n",
       "1          asus chromebook\n",
       "2      samsung galaxy note\n",
       "3                iphone 5s\n",
       "4                 nexus 10\n",
       "5          nokia lumia 635\n",
       "6              macbook air\n",
       "7                 iphone 5\n",
       "8    dell inspiron desktop\n",
       "9                  htc one\n",
       "10         lenovo thinkpad\n",
       "11               ipad mini\n",
       "12             macbook pro\n",
       "13                ipad air\n",
       "14               iphone 4s\n",
       "15                 nexus 7\n",
       "16       amazon fire phone\n",
       "17     hp pavilion desktop\n",
       "18       samsung galaxy s4\n",
       "19             kindle fire\n",
       "20         windows surface\n",
       "21     acer aspire desktop\n",
       "22    acer aspire notebook\n",
       "23                 nexus 5\n",
       "24                mac mini\n",
       "25  dell inspiron notebook"
      ]
     },
     "execution_count": 51,
     "metadata": {},
     "output_type": "execute_result"
    }
   ],
   "source": [
    "device_0"
   ]
  },
  {
   "cell_type": "code",
   "execution_count": 161,
   "metadata": {},
   "outputs": [],
   "source": [
    "query_model_device = \"\"\"\n",
    "SELECT sub1.device_type AS device_type,\n",
    " SUBSTR(((DATE_TRUNC('week', occurred_at::date)))::text, 6, 5) AS week,\n",
    " COUNT(DISTINCT user_id) as active_users\n",
    "FROM(\n",
    "    SELECT *,\n",
    "    CASE WHEN device IN ('nexus 10', 'windows surface', 'nexus 7', 'kindle fire') \n",
    "          OR device LIKE '%%pad%%' OR device ILIKE '%%tablet%%' THEN 'tablet'\n",
    "         WHEN device IN ('nexus 5', 'samsung galaxy note', 'samsung galaxy s4', 'htc one', 'nokia 635')\n",
    "          OR device LIKE '%%phone%%' THEN 'phone'\n",
    "         ELSE 'laptop/PC' END AS device_type\n",
    "    FROM events\n",
    "    ) sub1\n",
    "WHERE event_name = 'login'\n",
    "GROUP BY device_type, week\n",
    "ORDER BY week, device_type; \n",
    "\"\"\"\n",
    "\n",
    "device_1 = pd.read_sql(query_model_device, engine)"
   ]
  },
  {
   "cell_type": "code",
   "execution_count": 162,
   "metadata": {},
   "outputs": [
    {
     "data": {
      "text/html": [
       "<div>\n",
       "<style scoped>\n",
       "    .dataframe tbody tr th:only-of-type {\n",
       "        vertical-align: middle;\n",
       "    }\n",
       "\n",
       "    .dataframe tbody tr th {\n",
       "        vertical-align: top;\n",
       "    }\n",
       "\n",
       "    .dataframe thead th {\n",
       "        text-align: right;\n",
       "    }\n",
       "</style>\n",
       "<table border=\"1\" class=\"dataframe\">\n",
       "  <thead>\n",
       "    <tr style=\"text-align: right;\">\n",
       "      <th></th>\n",
       "      <th>device_type</th>\n",
       "      <th>week</th>\n",
       "      <th>active_users</th>\n",
       "    </tr>\n",
       "  </thead>\n",
       "  <tbody>\n",
       "    <tr>\n",
       "      <th>0</th>\n",
       "      <td>laptop/PC</td>\n",
       "      <td>04-28</td>\n",
       "      <td>358</td>\n",
       "    </tr>\n",
       "    <tr>\n",
       "      <th>1</th>\n",
       "      <td>phone</td>\n",
       "      <td>04-28</td>\n",
       "      <td>262</td>\n",
       "    </tr>\n",
       "    <tr>\n",
       "      <th>2</th>\n",
       "      <td>tablet</td>\n",
       "      <td>04-28</td>\n",
       "      <td>198</td>\n",
       "    </tr>\n",
       "    <tr>\n",
       "      <th>3</th>\n",
       "      <td>laptop/PC</td>\n",
       "      <td>05-05</td>\n",
       "      <td>619</td>\n",
       "    </tr>\n",
       "    <tr>\n",
       "      <th>4</th>\n",
       "      <td>phone</td>\n",
       "      <td>05-05</td>\n",
       "      <td>427</td>\n",
       "    </tr>\n",
       "    <tr>\n",
       "      <th>5</th>\n",
       "      <td>tablet</td>\n",
       "      <td>05-05</td>\n",
       "      <td>332</td>\n",
       "    </tr>\n",
       "    <tr>\n",
       "      <th>6</th>\n",
       "      <td>laptop/PC</td>\n",
       "      <td>05-12</td>\n",
       "      <td>600</td>\n",
       "    </tr>\n",
       "    <tr>\n",
       "      <th>7</th>\n",
       "      <td>phone</td>\n",
       "      <td>05-12</td>\n",
       "      <td>459</td>\n",
       "    </tr>\n",
       "    <tr>\n",
       "      <th>8</th>\n",
       "      <td>tablet</td>\n",
       "      <td>05-12</td>\n",
       "      <td>350</td>\n",
       "    </tr>\n",
       "    <tr>\n",
       "      <th>9</th>\n",
       "      <td>laptop/PC</td>\n",
       "      <td>05-19</td>\n",
       "      <td>629</td>\n",
       "    </tr>\n",
       "  </tbody>\n",
       "</table>\n",
       "</div>"
      ],
      "text/plain": [
       "  device_type   week  active_users\n",
       "0   laptop/PC  04-28           358\n",
       "1       phone  04-28           262\n",
       "2      tablet  04-28           198\n",
       "3   laptop/PC  05-05           619\n",
       "4       phone  05-05           427\n",
       "5      tablet  05-05           332\n",
       "6   laptop/PC  05-12           600\n",
       "7       phone  05-12           459\n",
       "8      tablet  05-12           350\n",
       "9   laptop/PC  05-19           629"
      ]
     },
     "execution_count": 162,
     "metadata": {},
     "output_type": "execute_result"
    }
   ],
   "source": [
    "device_1.head(10)"
   ]
  },
  {
   "cell_type": "code",
   "execution_count": 257,
   "metadata": {},
   "outputs": [
    {
     "data": {
      "image/png": "[encoded data removed]",
      "text/plain": [
       "<Figure size 1080x504 with 1 Axes>"
      ]
     },
     "metadata": {},
     "output_type": "display_data"
    }
   ],
   "source": [
    "with plt.style.context('seaborn-whitegrid'):\n",
    "    \n",
    "    fig, ax = plt.subplots(figsize=(15,7))\n",
    "    fig.suptitle(\"Weekly active users per device type\", fontsize=20, fontweight=550, y=0.94)  \n",
    "    \n",
    "    ax=sns.lineplot(x=\"week\", y=\"active_users\", data=device_1, hue=\"device_type\", palette=\"Dark2\", lw=4) \n",
    "    ax.set_ylim(0, device_1.active_users.max()+50)\n",
    "    ax.tick_params(axis=\"x\", labelsize=16, rotation=50)\n",
    "    ax.tick_params(axis=\"y\", labelsize=16)\n",
    "    ax.set_xlabel(\"Date\", fontsize=18, fontweight=650)\n",
    "    ax.set_ylabel(\"Active users\", fontsize=18, fontweight=650)\n",
    "\n",
    "    for label in ax.get_xticklabels():\n",
    "        label.set_horizontalalignment('right')\n",
    "\n",
    "    handles, labels = ax.get_legend_handles_labels()\n",
    "    ax.legend(loc=\"lower right\", handles=handles[1:], labels=labels[1:], prop={'size': 12}, frameon=\"yes\",\n",
    "              edgecolor=\"black\", title=\"Device type\", title_fontsize=20)\n",
    "\n",
    "    plt.show()"
   ]
  },
  {
   "cell_type": "code",
   "execution_count": 153,
   "metadata": {},
   "outputs": [],
   "source": [
    "query_model_device = \"\"\"\n",
    "SELECT device_type, active_users_t0, active_users, (active_users-active_users_t0) AS variation_drop,\n",
    " ROUND(CAST(((active_users::float-active_users_t0::float) / active_users_t0)*100 as numeric) ,2) AS variation_pct\n",
    "FROM(\n",
    "    SELECT sub3.*\n",
    "    FROM(\n",
    "        SELECT sub2.*, LAG(sub2.active_users, 1) OVER (PARTITION BY sub2.device_type) AS active_users_t0\n",
    "        FROM(\n",
    "            SELECT sub1.device_type AS device_type, EXTRACT('month' FROM occurred_at::date) AS month,\n",
    "             COUNT(DISTINCT user_id) as active_users\n",
    "            FROM(\n",
    "                SELECT *,\n",
    "                CASE WHEN device IN ('nexus 10', 'windows surface', 'nexus 7', 'kindle fire') \n",
    "                      OR device LIKE '%%pad%%' OR device ILIKE '%%tablet%%' THEN 'tablet'\n",
    "                     WHEN device IN ('nexus 5', 'samsung galaxy note', 'samsung galaxy s4', 'htc one', 'nokia 635')\n",
    "                      OR device LIKE '%%phone%%' THEN 'phone'\n",
    "                     ELSE 'laptop/PC' END AS device_type\n",
    "                FROM events\n",
    "                ) sub1\n",
    "            WHERE event_name = 'login'\n",
    "            GROUP BY device_type, month\n",
    "            ) sub2\n",
    "        ) sub3\n",
    "    WHERE sub3.month = 8\n",
    "    ) sub4;  \n",
    "\"\"\"\n",
    "\n",
    "device_2 = pd.read_sql(query_model_device, engine)"
   ]
  },
  {
   "cell_type": "code",
   "execution_count": 154,
   "metadata": {},
   "outputs": [
    {
     "data": {
      "text/html": [
       "<style  type=\"text/css\" >\n",
       "</style><table id=\"T_df9236ec_f7fa_11e9_a903_67e5421e6c58\" ><thead>    <tr>        <th class=\"blank level0\" ></th>        <th class=\"col_heading level0 col0\" >device_type</th>        <th class=\"col_heading level0 col1\" >active_users_t0</th>        <th class=\"col_heading level0 col2\" >active_users</th>        <th class=\"col_heading level0 col3\" >variation_drop</th>        <th class=\"col_heading level0 col4\" >variation_pct</th>    </tr></thead><tbody>\n",
       "                <tr>\n",
       "                        <th id=\"T_df9236ec_f7fa_11e9_a903_67e5421e6c58level0_row0\" class=\"row_heading level0 row0\" >0</th>\n",
       "                        <td id=\"T_df9236ec_f7fa_11e9_a903_67e5421e6c58row0_col0\" class=\"data row0 col0\" >laptop/PC</td>\n",
       "                        <td id=\"T_df9236ec_f7fa_11e9_a903_67e5421e6c58row0_col1\" class=\"data row0 col1\" >2000</td>\n",
       "                        <td id=\"T_df9236ec_f7fa_11e9_a903_67e5421e6c58row0_col2\" class=\"data row0 col2\" >1936</td>\n",
       "                        <td id=\"T_df9236ec_f7fa_11e9_a903_67e5421e6c58row0_col3\" class=\"data row0 col3\" >-64</td>\n",
       "                        <td id=\"T_df9236ec_f7fa_11e9_a903_67e5421e6c58row0_col4\" class=\"data row0 col4\" >-3.20%</td>\n",
       "            </tr>\n",
       "            <tr>\n",
       "                        <th id=\"T_df9236ec_f7fa_11e9_a903_67e5421e6c58level0_row1\" class=\"row_heading level0 row1\" >1</th>\n",
       "                        <td id=\"T_df9236ec_f7fa_11e9_a903_67e5421e6c58row1_col0\" class=\"data row1 col0\" >phone</td>\n",
       "                        <td id=\"T_df9236ec_f7fa_11e9_a903_67e5421e6c58row1_col1\" class=\"data row1 col1\" >1683</td>\n",
       "                        <td id=\"T_df9236ec_f7fa_11e9_a903_67e5421e6c58row1_col2\" class=\"data row1 col2\" >1276</td>\n",
       "                        <td id=\"T_df9236ec_f7fa_11e9_a903_67e5421e6c58row1_col3\" class=\"data row1 col3\" >-407</td>\n",
       "                        <td id=\"T_df9236ec_f7fa_11e9_a903_67e5421e6c58row1_col4\" class=\"data row1 col4\" >-24.18%</td>\n",
       "            </tr>\n",
       "            <tr>\n",
       "                        <th id=\"T_df9236ec_f7fa_11e9_a903_67e5421e6c58level0_row2\" class=\"row_heading level0 row2\" >2</th>\n",
       "                        <td id=\"T_df9236ec_f7fa_11e9_a903_67e5421e6c58row2_col0\" class=\"data row2 col0\" >tablet</td>\n",
       "                        <td id=\"T_df9236ec_f7fa_11e9_a903_67e5421e6c58row2_col1\" class=\"data row2 col1\" >1256</td>\n",
       "                        <td id=\"T_df9236ec_f7fa_11e9_a903_67e5421e6c58row2_col2\" class=\"data row2 col2\" >1050</td>\n",
       "                        <td id=\"T_df9236ec_f7fa_11e9_a903_67e5421e6c58row2_col3\" class=\"data row2 col3\" >-206</td>\n",
       "                        <td id=\"T_df9236ec_f7fa_11e9_a903_67e5421e6c58row2_col4\" class=\"data row2 col4\" >-16.40%</td>\n",
       "            </tr>\n",
       "    </tbody></table>"
      ],
      "text/plain": [
       "<pandas.io.formats.style.Styler at 0x7fe0763b9080>"
      ]
     },
     "execution_count": 154,
     "metadata": {},
     "output_type": "execute_result"
    }
   ],
   "source": [
    "device_2.style.format({\"variation_pct\":\"{:.2f}%\"})"
   ]
  },
  {
   "cell_type": "code",
   "execution_count": 263,
   "metadata": {},
   "outputs": [
    {
     "data": {
      "image/png": "[encoded data removed]",
      "text/plain": [
       "<Figure size 864x504 with 1 Axes>"
      ]
     },
     "metadata": {},
     "output_type": "display_data"
    }
   ],
   "source": [
    "with plt.style.context('seaborn-whitegrid'):\n",
    "    \n",
    "    fig, ax = plt.subplots(figsize=(12,7))\n",
    "    fig.suptitle(\"Drop in active users from july to august by device type\", fontsize=20, fontweight=650, y=0.94)\n",
    "    \n",
    "    ax.bar(device_2[\"device_type\"], device_2[\"variation_pct\"], color=\"indianred\", width=0.6,\n",
    "            edgecolor=\"black\", linewidth=3)\n",
    "    ax.tick_params(axis=\"x\", labelsize=16, pad=5)\n",
    "    ax.tick_params(axis=\"y\", labelsize=16)\n",
    "    ax.set_xlabel(\"Device type\", fontsize=18, fontweight=650, labelpad=10)\n",
    "    ax.set_ylabel(\"Active users % variation\", fontsize=18, fontweight=650, labelpad=10)\n",
    "    \n",
    "    ylabels = ['{:,.0f}%'.format(x) for x in ax.get_yticks()]\n",
    "    ax.set_yticklabels(ylabels)\n",
    "\n",
    "    plt.show()"
   ]
  },
  {
   "cell_type": "markdown",
   "metadata": {},
   "source": [
    "### Operative system"
   ]
  },
  {
   "cell_type": "code",
   "execution_count": 220,
   "metadata": {},
   "outputs": [],
   "source": [
    "query_operative_system = \"\"\"\n",
    "SELECT sub1.device_os AS device_os,\n",
    " SUBSTR(((DATE_TRUNC('week', occurred_at::date)))::text, 6, 5) AS week,\n",
    " COUNT(DISTINCT user_id) as active_users\n",
    "FROM(\n",
    "    SELECT *,\n",
    "    CASE WHEN device LIKE 'i%%' OR device ILIKE '%%mac%%' THEN 'apple'\n",
    "     WHEN device LIKE '%%nexus%%' OR device LIKE '%%galaxy%%' OR device LIKE '%%nokia%%'\n",
    "      OR device LIKE '%%HTC%%' THEN 'android'\n",
    "     WHEN device LIKE '%%fire%%' THEN 'fire os'\n",
    "     ELSE 'windows' END AS device_os\n",
    "    FROM events\n",
    "    ) sub1\n",
    "WHERE event_name = 'login'\n",
    "GROUP BY device_os, week\n",
    "ORDER BY week, device_os; \n",
    "\"\"\"\n",
    "\n",
    "operative_system_1 = pd.read_sql(query_operative_system, engine)"
   ]
  },
  {
   "cell_type": "code",
   "execution_count": 223,
   "metadata": {},
   "outputs": [
    {
     "data": {
      "text/html": [
       "<div>\n",
       "<style scoped>\n",
       "    .dataframe tbody tr th:only-of-type {\n",
       "        vertical-align: middle;\n",
       "    }\n",
       "\n",
       "    .dataframe tbody tr th {\n",
       "        vertical-align: top;\n",
       "    }\n",
       "\n",
       "    .dataframe thead th {\n",
       "        text-align: right;\n",
       "    }\n",
       "</style>\n",
       "<table border=\"1\" class=\"dataframe\">\n",
       "  <thead>\n",
       "    <tr style=\"text-align: right;\">\n",
       "      <th></th>\n",
       "      <th>device_os</th>\n",
       "      <th>week</th>\n",
       "      <th>active_users</th>\n",
       "    </tr>\n",
       "  </thead>\n",
       "  <tbody>\n",
       "    <tr>\n",
       "      <th>0</th>\n",
       "      <td>android</td>\n",
       "      <td>04-28</td>\n",
       "      <td>164</td>\n",
       "    </tr>\n",
       "    <tr>\n",
       "      <th>1</th>\n",
       "      <td>apple</td>\n",
       "      <td>04-28</td>\n",
       "      <td>376</td>\n",
       "    </tr>\n",
       "    <tr>\n",
       "      <th>2</th>\n",
       "      <td>fire os</td>\n",
       "      <td>04-28</td>\n",
       "      <td>10</td>\n",
       "    </tr>\n",
       "    <tr>\n",
       "      <th>3</th>\n",
       "      <td>windows</td>\n",
       "      <td>04-28</td>\n",
       "      <td>246</td>\n",
       "    </tr>\n",
       "    <tr>\n",
       "      <th>4</th>\n",
       "      <td>android</td>\n",
       "      <td>05-05</td>\n",
       "      <td>253</td>\n",
       "    </tr>\n",
       "    <tr>\n",
       "      <th>5</th>\n",
       "      <td>apple</td>\n",
       "      <td>05-05</td>\n",
       "      <td>601</td>\n",
       "    </tr>\n",
       "    <tr>\n",
       "      <th>6</th>\n",
       "      <td>fire os</td>\n",
       "      <td>05-05</td>\n",
       "      <td>35</td>\n",
       "    </tr>\n",
       "    <tr>\n",
       "      <th>7</th>\n",
       "      <td>windows</td>\n",
       "      <td>05-05</td>\n",
       "      <td>426</td>\n",
       "    </tr>\n",
       "    <tr>\n",
       "      <th>8</th>\n",
       "      <td>android</td>\n",
       "      <td>05-12</td>\n",
       "      <td>270</td>\n",
       "    </tr>\n",
       "    <tr>\n",
       "      <th>9</th>\n",
       "      <td>apple</td>\n",
       "      <td>05-12</td>\n",
       "      <td>638</td>\n",
       "    </tr>\n",
       "  </tbody>\n",
       "</table>\n",
       "</div>"
      ],
      "text/plain": [
       "  device_os   week  active_users\n",
       "0   android  04-28           164\n",
       "1     apple  04-28           376\n",
       "2   fire os  04-28            10\n",
       "3   windows  04-28           246\n",
       "4   android  05-05           253\n",
       "5     apple  05-05           601\n",
       "6   fire os  05-05            35\n",
       "7   windows  05-05           426\n",
       "8   android  05-12           270\n",
       "9     apple  05-12           638"
      ]
     },
     "execution_count": 223,
     "metadata": {},
     "output_type": "execute_result"
    }
   ],
   "source": [
    "operative_system_1.head(10)"
   ]
  },
  {
   "cell_type": "code",
   "execution_count": 265,
   "metadata": {},
   "outputs": [
    {
     "data": {
      "image/png": "[encoded data removed]",
      "text/plain": [
       "<Figure size 1080x504 with 1 Axes>"
      ]
     },
     "metadata": {},
     "output_type": "display_data"
    }
   ],
   "source": [
    "with plt.style.context('seaborn-whitegrid'):\n",
    "    \n",
    "    fig, ax = plt.subplots(figsize=(15,7))\n",
    "    fig.suptitle(\"Weekly active users per operative system\", fontsize=20, fontweight=650, y=0.96)  \n",
    "    \n",
    "    ax=sns.lineplot(x=\"week\", y=\"active_users\", data=operative_system_1, hue=\"device_os\", palette=\"Dark2\", lw=4) \n",
    "    ax.set_ylim(0, operative_system_1.active_users.max()+50)\n",
    "    ax.tick_params(axis=\"x\", labelsize=16, rotation=50)\n",
    "    ax.tick_params(axis=\"y\", labelsize=16)\n",
    "    ax.set_xlabel(\"Date\", fontsize=18, fontweight=650)\n",
    "    ax.set_ylabel(\"Active users\", fontsize=18, fontweight=650)\n",
    "\n",
    "    for label in ax.get_xticklabels():\n",
    "        label.set_horizontalalignment('right')\n",
    "\n",
    "    handles, labels = ax.get_legend_handles_labels()\n",
    "    ax.legend(loc=\"upper left\", handles=handles[1:], labels=labels[1:], prop={'size': 11}, frameon=\"yes\",\n",
    "              edgecolor=\"black\", title=\"Device OS\", title_fontsize=16)\n",
    "\n",
    "    plt.show()"
   ]
  },
  {
   "cell_type": "code",
   "execution_count": 216,
   "metadata": {},
   "outputs": [],
   "source": [
    "query_operative_system = \"\"\"\n",
    "SELECT device_os, active_users_t0, active_users, (active_users-active_users_t0) AS variation_drop,\n",
    " ROUND(CAST(((active_users::float-active_users_t0::float) / active_users_t0)*100 as numeric) ,2) AS variation_pct\n",
    "FROM(\n",
    "    SELECT sub3.*\n",
    "    FROM(\n",
    "        SELECT sub2.*, LAG(sub2.active_users, 1) OVER (PARTITION BY sub2.device_os) AS active_users_t0\n",
    "        FROM(\n",
    "            SELECT sub1.device_os AS device_os, EXTRACT('month' FROM occurred_at::date) AS month,\n",
    "             COUNT(DISTINCT user_id) as active_users\n",
    "            FROM(\n",
    "                SELECT *,\n",
    "                CASE WHEN device LIKE 'i%%' OR device ILIKE '%%mac%%' THEN 'apple'\n",
    "                     WHEN device LIKE '%%nexus%%' OR device LIKE '%%galaxy%%' OR device LIKE '%%nokia%%'\n",
    "                      OR device LIKE '%%HTC%%' THEN 'android'\n",
    "                     WHEN device LIKE '%%fire%%' THEN 'fire os'\n",
    "                     ELSE 'windows' END AS device_os\n",
    "                FROM events\n",
    "                ) sub1\n",
    "            WHERE event_name = 'login'\n",
    "            GROUP BY device_os, month\n",
    "            ) sub2\n",
    "        ) sub3\n",
    "    WHERE sub3.month = 8\n",
    "    ) sub4;\n",
    "\"\"\"\n",
    "\n",
    "operative_system_2 = pd.read_sql(query_operative_system, engine)"
   ]
  },
  {
   "cell_type": "code",
   "execution_count": 217,
   "metadata": {},
   "outputs": [
    {
     "data": {
      "text/html": [
       "<style  type=\"text/css\" >\n",
       "</style><table id=\"T_bfa78d68_f800_11e9_a903_67e5421e6c58\" ><thead>    <tr>        <th class=\"blank level0\" ></th>        <th class=\"col_heading level0 col0\" >device_os</th>        <th class=\"col_heading level0 col1\" >active_users_t0</th>        <th class=\"col_heading level0 col2\" >active_users</th>        <th class=\"col_heading level0 col3\" >variation_drop</th>        <th class=\"col_heading level0 col4\" >variation_pct</th>    </tr></thead><tbody>\n",
       "                <tr>\n",
       "                        <th id=\"T_bfa78d68_f800_11e9_a903_67e5421e6c58level0_row0\" class=\"row_heading level0 row0\" >0</th>\n",
       "                        <td id=\"T_bfa78d68_f800_11e9_a903_67e5421e6c58row0_col0\" class=\"data row0 col0\" >android</td>\n",
       "                        <td id=\"T_bfa78d68_f800_11e9_a903_67e5421e6c58row0_col1\" class=\"data row0 col1\" >948</td>\n",
       "                        <td id=\"T_bfa78d68_f800_11e9_a903_67e5421e6c58row0_col2\" class=\"data row0 col2\" >735</td>\n",
       "                        <td id=\"T_bfa78d68_f800_11e9_a903_67e5421e6c58row0_col3\" class=\"data row0 col3\" >-213</td>\n",
       "                        <td id=\"T_bfa78d68_f800_11e9_a903_67e5421e6c58row0_col4\" class=\"data row0 col4\" >-22.47%</td>\n",
       "            </tr>\n",
       "            <tr>\n",
       "                        <th id=\"T_bfa78d68_f800_11e9_a903_67e5421e6c58level0_row1\" class=\"row_heading level0 row1\" >1</th>\n",
       "                        <td id=\"T_bfa78d68_f800_11e9_a903_67e5421e6c58row1_col0\" class=\"data row1 col0\" >apple</td>\n",
       "                        <td id=\"T_bfa78d68_f800_11e9_a903_67e5421e6c58row1_col1\" class=\"data row1 col1\" >1997</td>\n",
       "                        <td id=\"T_bfa78d68_f800_11e9_a903_67e5421e6c58row1_col2\" class=\"data row1 col2\" >1769</td>\n",
       "                        <td id=\"T_bfa78d68_f800_11e9_a903_67e5421e6c58row1_col3\" class=\"data row1 col3\" >-228</td>\n",
       "                        <td id=\"T_bfa78d68_f800_11e9_a903_67e5421e6c58row1_col4\" class=\"data row1 col4\" >-11.42%</td>\n",
       "            </tr>\n",
       "            <tr>\n",
       "                        <th id=\"T_bfa78d68_f800_11e9_a903_67e5421e6c58level0_row2\" class=\"row_heading level0 row2\" >2</th>\n",
       "                        <td id=\"T_bfa78d68_f800_11e9_a903_67e5421e6c58row2_col0\" class=\"data row2 col0\" >fire os</td>\n",
       "                        <td id=\"T_bfa78d68_f800_11e9_a903_67e5421e6c58row2_col1\" class=\"data row2 col1\" >124</td>\n",
       "                        <td id=\"T_bfa78d68_f800_11e9_a903_67e5421e6c58row2_col2\" class=\"data row2 col2\" >84</td>\n",
       "                        <td id=\"T_bfa78d68_f800_11e9_a903_67e5421e6c58row2_col3\" class=\"data row2 col3\" >-40</td>\n",
       "                        <td id=\"T_bfa78d68_f800_11e9_a903_67e5421e6c58row2_col4\" class=\"data row2 col4\" >-32.26%</td>\n",
       "            </tr>\n",
       "            <tr>\n",
       "                        <th id=\"T_bfa78d68_f800_11e9_a903_67e5421e6c58level0_row3\" class=\"row_heading level0 row3\" >3</th>\n",
       "                        <td id=\"T_bfa78d68_f800_11e9_a903_67e5421e6c58row3_col0\" class=\"data row3 col0\" >windows</td>\n",
       "                        <td id=\"T_bfa78d68_f800_11e9_a903_67e5421e6c58row3_col1\" class=\"data row3 col1\" >1500</td>\n",
       "                        <td id=\"T_bfa78d68_f800_11e9_a903_67e5421e6c58row3_col2\" class=\"data row3 col2\" >1441</td>\n",
       "                        <td id=\"T_bfa78d68_f800_11e9_a903_67e5421e6c58row3_col3\" class=\"data row3 col3\" >-59</td>\n",
       "                        <td id=\"T_bfa78d68_f800_11e9_a903_67e5421e6c58row3_col4\" class=\"data row3 col4\" >-3.93%</td>\n",
       "            </tr>\n",
       "    </tbody></table>"
      ],
      "text/plain": [
       "<pandas.io.formats.style.Styler at 0x7fe07c46b668>"
      ]
     },
     "execution_count": 217,
     "metadata": {},
     "output_type": "execute_result"
    }
   ],
   "source": [
    "operative_system_2.style.format({\"variation_pct\":\"{:.2f}%\"})"
   ]
  },
  {
   "cell_type": "code",
   "execution_count": 288,
   "metadata": {},
   "outputs": [
    {
     "data": {
      "image/png": "[encoded data removed]",
      "text/plain": [
       "<Figure size 864x504 with 1 Axes>"
      ]
     },
     "metadata": {},
     "output_type": "display_data"
    }
   ],
   "source": [
    "with plt.style.context('seaborn-whitegrid'):\n",
    "    \n",
    "    fig, ax = plt.subplots(figsize=(12,7))\n",
    "    fig.suptitle(\"Drop in active users from july to august by device OS\",\n",
    "                 fontsize=20, fontweight=650, y=0.96)\n",
    "    \n",
    "    ax.bar(operative_system_2[\"device_os\"], operative_system_2[\"variation_pct\"], color=\"indianred\", width=0.6,\n",
    "        edgecolor=\"black\", linewidth=3)\n",
    "    ax.tick_params(axis=\"x\", labelsize=16, pad=5)\n",
    "    ax.tick_params(axis=\"y\", labelsize=16)\n",
    "    ax.set_xlabel(\"Device type\", fontsize=18, fontweight=650, labelpad=10)\n",
    "    ax.set_ylabel(\"Active users % variation\", fontsize=18, fontweight=650, labelpad=10)\n",
    "    \n",
    "    ylabels = ['{:,.0f}%'.format(x) for x in ax.get_yticks()]\n",
    "    ax.set_yticklabels(ylabels)\n",
    "\n",
    "    plt.show()"
   ]
  },
  {
   "cell_type": "markdown",
   "metadata": {},
   "source": [
    "## Specific feature flow/broken tracking code"
   ]
  },
  {
   "cell_type": "markdown",
   "metadata": {},
   "source": [
    "### Usage flow"
   ]
  },
  {
   "cell_type": "markdown",
   "metadata": {},
   "source": [
    "*It might be the case that some specific feature within the usage flow was broken at some point close to end of july or within august, hence causing a bad user experience and in consequence prompting users to be less engaged on posterior days to that hypothetical malfunctioning.*"
   ]
  },
  {
   "cell_type": "code",
   "execution_count": 269,
   "metadata": {},
   "outputs": [],
   "source": [
    "query_usage_flow = \"\"\"\n",
    "SELECT SUBSTR(((DATE_TRUNC('week', occurred_at::date)))::text, 6, 5) AS week, event_name,\n",
    " COUNT(user_id) AS event_count\n",
    "FROM events\n",
    "WHERE event_type = 'engagement'AND event_name NOT LIKE '%%result%%' --This last statement is optional. It is just to exclude the various search results\n",
    "GROUP BY week, event_name\n",
    "ORDER BY week;\n",
    "\"\"\"\n",
    "\n",
    "usage_flow = pd.read_sql(query_usage_flow, engine)"
   ]
  },
  {
   "cell_type": "code",
   "execution_count": 271,
   "metadata": {},
   "outputs": [
    {
     "data": {
      "text/html": [
       "<div>\n",
       "<style scoped>\n",
       "    .dataframe tbody tr th:only-of-type {\n",
       "        vertical-align: middle;\n",
       "    }\n",
       "\n",
       "    .dataframe tbody tr th {\n",
       "        vertical-align: top;\n",
       "    }\n",
       "\n",
       "    .dataframe thead th {\n",
       "        text-align: right;\n",
       "    }\n",
       "</style>\n",
       "<table border=\"1\" class=\"dataframe\">\n",
       "  <thead>\n",
       "    <tr style=\"text-align: right;\">\n",
       "      <th></th>\n",
       "      <th>week</th>\n",
       "      <th>event_name</th>\n",
       "      <th>event_count</th>\n",
       "    </tr>\n",
       "  </thead>\n",
       "  <tbody>\n",
       "    <tr>\n",
       "      <th>0</th>\n",
       "      <td>04-28</td>\n",
       "      <td>home_page</td>\n",
       "      <td>2546</td>\n",
       "    </tr>\n",
       "    <tr>\n",
       "      <th>1</th>\n",
       "      <td>04-28</td>\n",
       "      <td>like_message</td>\n",
       "      <td>1657</td>\n",
       "    </tr>\n",
       "    <tr>\n",
       "      <th>2</th>\n",
       "      <td>04-28</td>\n",
       "      <td>login</td>\n",
       "      <td>967</td>\n",
       "    </tr>\n",
       "    <tr>\n",
       "      <th>3</th>\n",
       "      <td>04-28</td>\n",
       "      <td>search_autocomplete</td>\n",
       "      <td>424</td>\n",
       "    </tr>\n",
       "    <tr>\n",
       "      <th>4</th>\n",
       "      <td>04-28</td>\n",
       "      <td>search_run</td>\n",
       "      <td>358</td>\n",
       "    </tr>\n",
       "    <tr>\n",
       "      <th>5</th>\n",
       "      <td>04-28</td>\n",
       "      <td>send_message</td>\n",
       "      <td>904</td>\n",
       "    </tr>\n",
       "    <tr>\n",
       "      <th>6</th>\n",
       "      <td>04-28</td>\n",
       "      <td>view_inbox</td>\n",
       "      <td>1510</td>\n",
       "    </tr>\n",
       "    <tr>\n",
       "      <th>7</th>\n",
       "      <td>05-05</td>\n",
       "      <td>home_page</td>\n",
       "      <td>5113</td>\n",
       "    </tr>\n",
       "    <tr>\n",
       "      <th>8</th>\n",
       "      <td>05-05</td>\n",
       "      <td>like_message</td>\n",
       "      <td>3382</td>\n",
       "    </tr>\n",
       "    <tr>\n",
       "      <th>9</th>\n",
       "      <td>05-05</td>\n",
       "      <td>login</td>\n",
       "      <td>1999</td>\n",
       "    </tr>\n",
       "  </tbody>\n",
       "</table>\n",
       "</div>"
      ],
      "text/plain": [
       "    week           event_name  event_count\n",
       "0  04-28            home_page         2546\n",
       "1  04-28         like_message         1657\n",
       "2  04-28                login          967\n",
       "3  04-28  search_autocomplete          424\n",
       "4  04-28           search_run          358\n",
       "5  04-28         send_message          904\n",
       "6  04-28           view_inbox         1510\n",
       "7  05-05            home_page         5113\n",
       "8  05-05         like_message         3382\n",
       "9  05-05                login         1999"
      ]
     },
     "execution_count": 271,
     "metadata": {},
     "output_type": "execute_result"
    }
   ],
   "source": [
    "usage_flow.head(10)"
   ]
  },
  {
   "cell_type": "code",
   "execution_count": 289,
   "metadata": {},
   "outputs": [
    {
     "data": {
      "image/png": "[encoded data removed]",
      "text/plain": [
       "<Figure size 1080x504 with 1 Axes>"
      ]
     },
     "metadata": {},
     "output_type": "display_data"
    }
   ],
   "source": [
    "with plt.style.context('seaborn-whitegrid'):\n",
    "    \n",
    "    fig, ax = plt.subplots(figsize=(15,7))\n",
    "    fig.suptitle(\"Hub events weekly count by active users\", fontsize=20, fontweight=650, y=0.96)  \n",
    "    \n",
    "    ax=sns.lineplot(x=\"week\", y=\"event_count\", data=usage_flow, hue=\"event_name\", palette=\"Dark2\", lw=3.5) \n",
    "    #ax.set_ylim(0, operative_system_1.active_users.max()+50)\n",
    "    ax.tick_params(axis=\"x\", labelsize=16, rotation=50)\n",
    "    ax.tick_params(axis=\"y\", labelsize=16)\n",
    "    ax.set_xlabel(\"Date\", fontsize=18, fontweight=650)\n",
    "    ax.set_ylabel(\"Event count\", fontsize=18, fontweight=650)\n",
    "\n",
    "    for label in ax.get_xticklabels():\n",
    "        label.set_horizontalalignment('right')\n",
    "\n",
    "    handles, labels = ax.get_legend_handles_labels()\n",
    "    ax.legend(loc=\"upper left\", handles=handles[1:], labels=labels[1:], prop={'size': 11}, frameon=\"yes\",\n",
    "              edgecolor=\"black\", title=\"Hub specific events\", title_fontsize=16, ncol=3)\n",
    "\n",
    "    plt.show()"
   ]
  },
  {
   "cell_type": "markdown",
   "metadata": {},
   "source": [
    "*Above query's result shows that there is not any specific feature within the usage flow (not considering the signup steps) that because\n",
    "of its malfunctioning in t-1 is causing in t a drop in user engagement, since all of the features are moving in sync*"
   ]
  },
  {
   "cell_type": "markdown",
   "metadata": {},
   "source": [
    "### Signup flow potential issue"
   ]
  },
  {
   "cell_type": "markdown",
   "metadata": {},
   "source": [
    "#### 1st, it is convenient to check the new users per month"
   ]
  },
  {
   "cell_type": "code",
   "execution_count": 64,
   "metadata": {},
   "outputs": [],
   "source": [
    "query_signup_flow = \"\"\"\n",
    "SELECT DISTINCT state\n",
    "FROM users;\n",
    "\"\"\"\n",
    "signup_flow_0 = pd.read_sql(query_signup_flow, engine)"
   ]
  },
  {
   "cell_type": "code",
   "execution_count": 65,
   "metadata": {},
   "outputs": [
    {
     "data": {
      "text/html": [
       "<div>\n",
       "<style scoped>\n",
       "    .dataframe tbody tr th:only-of-type {\n",
       "        vertical-align: middle;\n",
       "    }\n",
       "\n",
       "    .dataframe tbody tr th {\n",
       "        vertical-align: top;\n",
       "    }\n",
       "\n",
       "    .dataframe thead th {\n",
       "        text-align: right;\n",
       "    }\n",
       "</style>\n",
       "<table border=\"1\" class=\"dataframe\">\n",
       "  <thead>\n",
       "    <tr style=\"text-align: right;\">\n",
       "      <th></th>\n",
       "      <th>state</th>\n",
       "    </tr>\n",
       "  </thead>\n",
       "  <tbody>\n",
       "    <tr>\n",
       "      <th>0</th>\n",
       "      <td>pending</td>\n",
       "    </tr>\n",
       "    <tr>\n",
       "      <th>1</th>\n",
       "      <td>active</td>\n",
       "    </tr>\n",
       "  </tbody>\n",
       "</table>\n",
       "</div>"
      ],
      "text/plain": [
       "     state\n",
       "0  pending\n",
       "1   active"
      ]
     },
     "execution_count": 65,
     "metadata": {},
     "output_type": "execute_result"
    }
   ],
   "source": [
    "signup_flow_0.head()"
   ]
  },
  {
   "cell_type": "code",
   "execution_count": 333,
   "metadata": {},
   "outputs": [],
   "source": [
    "query_signup_flow = \"\"\"\n",
    "SELECT sub2.*, \n",
    " ROUND(CAST(((monthly_new_users::float-lag::float) / lag)*100 as numeric) ,2) AS new_users_variation_pct\n",
    "FROM(\n",
    "    SELECT sub1.*,\n",
    "     LAG(sub1.monthly_new_users, 1) OVER () AS lag\n",
    "    FROM(\n",
    "        SELECT LEFT((DATE_TRUNC('month', created_at::date)::text), 7) AS month, \n",
    "         COUNT(DISTINCT user_id) AS monthly_new_users\n",
    "        FROM users\n",
    "        WHERE state='active'\n",
    "        GROUP BY month\n",
    "        )sub1\n",
    "    )sub2;\n",
    "\"\"\"\n",
    "signup_flow_1= pd.read_sql(query_signup_flow, engine)"
   ]
  },
  {
   "cell_type": "code",
   "execution_count": 334,
   "metadata": {},
   "outputs": [
    {
     "data": {
      "text/html": [
       "<div>\n",
       "<style scoped>\n",
       "    .dataframe tbody tr th:only-of-type {\n",
       "        vertical-align: middle;\n",
       "    }\n",
       "\n",
       "    .dataframe tbody tr th {\n",
       "        vertical-align: top;\n",
       "    }\n",
       "\n",
       "    .dataframe thead th {\n",
       "        text-align: right;\n",
       "    }\n",
       "</style>\n",
       "<table border=\"1\" class=\"dataframe\">\n",
       "  <thead>\n",
       "    <tr style=\"text-align: right;\">\n",
       "      <th></th>\n",
       "      <th>month</th>\n",
       "      <th>monthly_new_users</th>\n",
       "      <th>lag</th>\n",
       "      <th>new_users_variation_pct</th>\n",
       "    </tr>\n",
       "  </thead>\n",
       "  <tbody>\n",
       "    <tr>\n",
       "      <th>0</th>\n",
       "      <td>2013-01</td>\n",
       "      <td>160</td>\n",
       "      <td>NaN</td>\n",
       "      <td>NaN</td>\n",
       "    </tr>\n",
       "    <tr>\n",
       "      <th>1</th>\n",
       "      <td>2013-02</td>\n",
       "      <td>160</td>\n",
       "      <td>160.0</td>\n",
       "      <td>0.00</td>\n",
       "    </tr>\n",
       "    <tr>\n",
       "      <th>2</th>\n",
       "      <td>2013-03</td>\n",
       "      <td>150</td>\n",
       "      <td>160.0</td>\n",
       "      <td>-6.25</td>\n",
       "    </tr>\n",
       "    <tr>\n",
       "      <th>3</th>\n",
       "      <td>2013-04</td>\n",
       "      <td>181</td>\n",
       "      <td>150.0</td>\n",
       "      <td>20.67</td>\n",
       "    </tr>\n",
       "    <tr>\n",
       "      <th>4</th>\n",
       "      <td>2013-05</td>\n",
       "      <td>214</td>\n",
       "      <td>181.0</td>\n",
       "      <td>18.23</td>\n",
       "    </tr>\n",
       "    <tr>\n",
       "      <th>5</th>\n",
       "      <td>2013-06</td>\n",
       "      <td>213</td>\n",
       "      <td>214.0</td>\n",
       "      <td>-0.47</td>\n",
       "    </tr>\n",
       "    <tr>\n",
       "      <th>6</th>\n",
       "      <td>2013-07</td>\n",
       "      <td>284</td>\n",
       "      <td>213.0</td>\n",
       "      <td>33.33</td>\n",
       "    </tr>\n",
       "    <tr>\n",
       "      <th>7</th>\n",
       "      <td>2013-08</td>\n",
       "      <td>316</td>\n",
       "      <td>284.0</td>\n",
       "      <td>11.27</td>\n",
       "    </tr>\n",
       "    <tr>\n",
       "      <th>8</th>\n",
       "      <td>2013-09</td>\n",
       "      <td>330</td>\n",
       "      <td>316.0</td>\n",
       "      <td>4.43</td>\n",
       "    </tr>\n",
       "    <tr>\n",
       "      <th>9</th>\n",
       "      <td>2013-10</td>\n",
       "      <td>390</td>\n",
       "      <td>330.0</td>\n",
       "      <td>18.18</td>\n",
       "    </tr>\n",
       "    <tr>\n",
       "      <th>10</th>\n",
       "      <td>2013-11</td>\n",
       "      <td>399</td>\n",
       "      <td>390.0</td>\n",
       "      <td>2.31</td>\n",
       "    </tr>\n",
       "    <tr>\n",
       "      <th>11</th>\n",
       "      <td>2013-12</td>\n",
       "      <td>486</td>\n",
       "      <td>399.0</td>\n",
       "      <td>21.80</td>\n",
       "    </tr>\n",
       "    <tr>\n",
       "      <th>12</th>\n",
       "      <td>2014-01</td>\n",
       "      <td>552</td>\n",
       "      <td>486.0</td>\n",
       "      <td>13.58</td>\n",
       "    </tr>\n",
       "    <tr>\n",
       "      <th>13</th>\n",
       "      <td>2014-02</td>\n",
       "      <td>525</td>\n",
       "      <td>552.0</td>\n",
       "      <td>-4.89</td>\n",
       "    </tr>\n",
       "    <tr>\n",
       "      <th>14</th>\n",
       "      <td>2014-03</td>\n",
       "      <td>615</td>\n",
       "      <td>525.0</td>\n",
       "      <td>17.14</td>\n",
       "    </tr>\n",
       "    <tr>\n",
       "      <th>15</th>\n",
       "      <td>2014-04</td>\n",
       "      <td>726</td>\n",
       "      <td>615.0</td>\n",
       "      <td>18.05</td>\n",
       "    </tr>\n",
       "    <tr>\n",
       "      <th>16</th>\n",
       "      <td>2014-05</td>\n",
       "      <td>779</td>\n",
       "      <td>726.0</td>\n",
       "      <td>7.30</td>\n",
       "    </tr>\n",
       "    <tr>\n",
       "      <th>17</th>\n",
       "      <td>2014-06</td>\n",
       "      <td>873</td>\n",
       "      <td>779.0</td>\n",
       "      <td>12.07</td>\n",
       "    </tr>\n",
       "    <tr>\n",
       "      <th>18</th>\n",
       "      <td>2014-07</td>\n",
       "      <td>997</td>\n",
       "      <td>873.0</td>\n",
       "      <td>14.20</td>\n",
       "    </tr>\n",
       "    <tr>\n",
       "      <th>19</th>\n",
       "      <td>2014-08</td>\n",
       "      <td>1031</td>\n",
       "      <td>997.0</td>\n",
       "      <td>3.41</td>\n",
       "    </tr>\n",
       "  </tbody>\n",
       "</table>\n",
       "</div>"
      ],
      "text/plain": [
       "      month  monthly_new_users    lag  new_users_variation_pct\n",
       "0   2013-01                160    NaN                      NaN\n",
       "1   2013-02                160  160.0                     0.00\n",
       "2   2013-03                150  160.0                    -6.25\n",
       "3   2013-04                181  150.0                    20.67\n",
       "4   2013-05                214  181.0                    18.23\n",
       "5   2013-06                213  214.0                    -0.47\n",
       "6   2013-07                284  213.0                    33.33\n",
       "7   2013-08                316  284.0                    11.27\n",
       "8   2013-09                330  316.0                     4.43\n",
       "9   2013-10                390  330.0                    18.18\n",
       "10  2013-11                399  390.0                     2.31\n",
       "11  2013-12                486  399.0                    21.80\n",
       "12  2014-01                552  486.0                    13.58\n",
       "13  2014-02                525  552.0                    -4.89\n",
       "14  2014-03                615  525.0                    17.14\n",
       "15  2014-04                726  615.0                    18.05\n",
       "16  2014-05                779  726.0                     7.30\n",
       "17  2014-06                873  779.0                    12.07\n",
       "18  2014-07                997  873.0                    14.20\n",
       "19  2014-08               1031  997.0                     3.41"
      ]
     },
     "execution_count": 334,
     "metadata": {},
     "output_type": "execute_result"
    }
   ],
   "source": [
    "signup_flow_1"
   ]
  },
  {
   "cell_type": "code",
   "execution_count": 335,
   "metadata": {},
   "outputs": [
    {
     "data": {
      "image/png": "[encoded data removed]",
      "text/plain": [
       "<Figure size 1008x504 with 2 Axes>"
      ]
     },
     "metadata": {
      "needs_background": "light"
     },
     "output_type": "display_data"
    }
   ],
   "source": [
    "with plt.style.context('seaborn-colorblind'):\n",
    "    fig, ax1 = plt.subplots(figsize=(14,7))\n",
    "    fig.suptitle(\"New users per month\", fontsize=20, fontweight=650, y=0.94) \n",
    "    ax2 = ax1.twinx()\n",
    "    \n",
    "    sns.lineplot(signup_flow_1[\"month\"], signup_flow_1[\"monthly_new_users\"], lw=3, color=\"purple\", ax=ax1)\n",
    "    ax1.set_ylim(0, signup_flow_2.monthly_new_users.max()+50)\n",
    "    ax1.tick_params(axis=\"x\", labelsize=16, rotation=50)\n",
    "    ax1.tick_params(axis=\"y\", labelsize=16)\n",
    "    ax1.set_xlabel(\"Month\", fontsize=18, fontweight=650, labelpad=15)\n",
    "    ax1.set_ylabel(\"New users\", fontsize=18, fontweight=650)\n",
    "    \n",
    "    sns.barplot(signup_flow_1[\"month\"], signup_flow_1[\"new_users_variation_pct\"], facecolor=(0, 0, 0, 0),\n",
    "        edgecolor=\"black\", linewidth=3, ax=ax2)\n",
    "    ax2.tick_params(axis=\"x\", labelsize=16, pad=10)\n",
    "    ax2.tick_params(axis=\"y\", labelsize=16)\n",
    "    ax2.set_xlabel(\"Device type\", fontsize=18, fontweight=650, labelpad=15)\n",
    "    ax2.set_ylabel(\"New users monthly % variation\", fontsize=18, fontweight=650, labelpad=15)\n",
    "    \n",
    "    ylabels = ['{:,.0f}%'.format(x) for x in ax2.get_yticks()]\n",
    "    ax2.set_yticklabels(ylabels)\n"
   ]
  },
  {
   "cell_type": "markdown",
   "metadata": {},
   "source": [
    "#### 2nd, this is the conversion funnel for the 4 months we have info on the log events."
   ]
  },
  {
   "cell_type": "code",
   "execution_count": 336,
   "metadata": {},
   "outputs": [],
   "source": [
    "query_signup_flow = \"\"\"\n",
    "SELECT DISTINCT event_name\n",
    "FROM events\n",
    "WHERE event_type='engagement';\n",
    "\"\"\"\n",
    "signup_flow_01 = pd.read_sql(query_signup_flow, engine)"
   ]
  },
  {
   "cell_type": "code",
   "execution_count": 337,
   "metadata": {},
   "outputs": [],
   "source": [
    "query_signup_flow = \"\"\"\n",
    "SELECT *\n",
    "FROM events\n",
    "WHERE event_type='signup_flow';\n",
    "\"\"\"\n",
    "signup_flow_02 = pd.read_sql(query_signup_flow, engine)"
   ]
  },
  {
   "cell_type": "code",
   "execution_count": 338,
   "metadata": {},
   "outputs": [],
   "source": [
    "query_signup_flow = \"\"\"\n",
    "SELECT sub.*\n",
    "FROM(\n",
    "    SELECT DATE_TRUNC('month', users.created_at::date) AS activation_month,\n",
    "     COUNT(DISTINCT CASE WHEN events.event_name = 'create_user' THEN events.user_id ELSE null END) AS user_created_count,\n",
    "     COUNT(DISTINCT CASE WHEN events.event_name = 'enter_email' THEN events.user_id ELSE null END) AS enter_email_count,\n",
    "     COUNT(DISTINCT CASE WHEN events.event_name = 'enter_info' THEN events.user_id ELSE null END) AS enter_info_count,\n",
    "     COUNT(DISTINCT CASE WHEN events.event_name = 'complete_signup' THEN events.user_id ELSE null END) AS complete_signup_count\n",
    "    FROM events\n",
    "    JOIN users\n",
    "    ON users.user_id = events.user_id\n",
    "    GROUP BY activation_month\n",
    "    )sub\n",
    "WHERE activation_month >= '2014-05-01 00:00:00';\n",
    "\"\"\"\n",
    "signup_flow_2 = pd.read_sql(query_signup_flow, engine)"
   ]
  },
  {
   "cell_type": "code",
   "execution_count": 339,
   "metadata": {},
   "outputs": [
    {
     "data": {
      "text/html": [
       "<div>\n",
       "<style scoped>\n",
       "    .dataframe tbody tr th:only-of-type {\n",
       "        vertical-align: middle;\n",
       "    }\n",
       "\n",
       "    .dataframe tbody tr th {\n",
       "        vertical-align: top;\n",
       "    }\n",
       "\n",
       "    .dataframe thead th {\n",
       "        text-align: right;\n",
       "    }\n",
       "</style>\n",
       "<table border=\"1\" class=\"dataframe\">\n",
       "  <thead>\n",
       "    <tr style=\"text-align: right;\">\n",
       "      <th></th>\n",
       "      <th>activation_month</th>\n",
       "      <th>user_created_count</th>\n",
       "      <th>enter_email_count</th>\n",
       "      <th>enter_info_count</th>\n",
       "      <th>complete_signup_count</th>\n",
       "    </tr>\n",
       "  </thead>\n",
       "  <tbody>\n",
       "    <tr>\n",
       "      <th>0</th>\n",
       "      <td>2014-04-30 22:00:00+00:00</td>\n",
       "      <td>1597</td>\n",
       "      <td>955</td>\n",
       "      <td>825</td>\n",
       "      <td>779</td>\n",
       "    </tr>\n",
       "    <tr>\n",
       "      <th>1</th>\n",
       "      <td>2014-05-31 22:00:00+00:00</td>\n",
       "      <td>1728</td>\n",
       "      <td>1067</td>\n",
       "      <td>925</td>\n",
       "      <td>873</td>\n",
       "    </tr>\n",
       "    <tr>\n",
       "      <th>2</th>\n",
       "      <td>2014-06-30 22:00:00+00:00</td>\n",
       "      <td>1983</td>\n",
       "      <td>1189</td>\n",
       "      <td>1043</td>\n",
       "      <td>997</td>\n",
       "    </tr>\n",
       "    <tr>\n",
       "      <th>3</th>\n",
       "      <td>2014-07-31 22:00:00+00:00</td>\n",
       "      <td>1990</td>\n",
       "      <td>1196</td>\n",
       "      <td>1079</td>\n",
       "      <td>1031</td>\n",
       "    </tr>\n",
       "  </tbody>\n",
       "</table>\n",
       "</div>"
      ],
      "text/plain": [
       "           activation_month  user_created_count  enter_email_count  \\\n",
       "0 2014-04-30 22:00:00+00:00                1597                955   \n",
       "1 2014-05-31 22:00:00+00:00                1728               1067   \n",
       "2 2014-06-30 22:00:00+00:00                1983               1189   \n",
       "3 2014-07-31 22:00:00+00:00                1990               1196   \n",
       "\n",
       "   enter_info_count  complete_signup_count  \n",
       "0               825                    779  \n",
       "1               925                    873  \n",
       "2              1043                    997  \n",
       "3              1079                   1031  "
      ]
     },
     "execution_count": 339,
     "metadata": {},
     "output_type": "execute_result"
    }
   ],
   "source": [
    "signup_flow_2.head()"
   ]
  },
  {
   "cell_type": "markdown",
   "metadata": {},
   "source": [
    "*Check chart and comment. This confirms that signup flow has not been the reason*"
   ]
  },
  {
   "cell_type": "markdown",
   "metadata": {},
   "source": [
    "### MK campaign/promotions"
   ]
  },
  {
   "cell_type": "code",
   "execution_count": 73,
   "metadata": {},
   "outputs": [],
   "source": [
    "query_mk = \"\"\"\n",
    "SELECT EXTRACT ('month' FROM occurred_at::date) AS month, action, COUNT(action) AS number_actions\n",
    "FROM emails\n",
    "GROUP BY month, action\n",
    "ORDER BY month, number_actions DESC;\n",
    "\"\"\"\n",
    "mk_1 = pd.read_sql(query_mk, engine)"
   ]
  },
  {
   "cell_type": "markdown",
   "metadata": {},
   "source": [
    "Presented in a pivot table format for chart consumption"
   ]
  },
  {
   "cell_type": "code",
   "execution_count": 77,
   "metadata": {},
   "outputs": [],
   "source": [
    "query_mk = \"\"\"\n",
    "SELECT LEFT(week::text, 10) AS week_summary,\n",
    " ROUND(CAST((email_open::float/total_emails_sent::float) as numeric), 2) AS email_open_rate,\n",
    " ROUND(CAST((email_clickthrough::float/email_open::float) as numeric), 2) AS email_clickthrough_rate\n",
    "FROM(\n",
    "    SELECT sub.*, (sent_weekly_digest + sent_reengagement_email) AS total_emails_sent\n",
    "    FROM(\n",
    "        SELECT DATE_TRUNC('week', occurred_at::date) AS week,\n",
    "         COUNT(CASE WHEN action = 'sent_weekly_digest' THEN user_id ELSE NULL END) AS sent_weekly_digest,\n",
    "         COUNT(CASE WHEN action = 'sent_reengagement_email' THEN user_id ELSE NULL END) AS sent_reengagement_email,\n",
    "         COUNT(CASE WHEN action = 'email_open' THEN user_id ELSE NULL END) AS email_open,\n",
    "         COUNT(CASE WHEN action = 'email_clickthrough' THEN user_id ELSE NULL END) AS email_clickthrough\n",
    "        FROM emails\n",
    "        GROUP BY week\n",
    "        ) sub\n",
    "    ) sub2\n",
    "ORDER BY week_summary;\n",
    "\"\"\"\n",
    "mk_2 = pd.read_sql(query_mk, engine)"
   ]
  },
  {
   "cell_type": "code",
   "execution_count": 78,
   "metadata": {},
   "outputs": [
    {
     "data": {
      "text/html": [
       "<div>\n",
       "<style scoped>\n",
       "    .dataframe tbody tr th:only-of-type {\n",
       "        vertical-align: middle;\n",
       "    }\n",
       "\n",
       "    .dataframe tbody tr th {\n",
       "        vertical-align: top;\n",
       "    }\n",
       "\n",
       "    .dataframe thead th {\n",
       "        text-align: right;\n",
       "    }\n",
       "</style>\n",
       "<table border=\"1\" class=\"dataframe\">\n",
       "  <thead>\n",
       "    <tr style=\"text-align: right;\">\n",
       "      <th></th>\n",
       "      <th>week_summary</th>\n",
       "      <th>email_open_rate</th>\n",
       "      <th>email_clickthrough_rate</th>\n",
       "    </tr>\n",
       "  </thead>\n",
       "  <tbody>\n",
       "    <tr>\n",
       "      <th>0</th>\n",
       "      <td>2014-04-28</td>\n",
       "      <td>0.33</td>\n",
       "      <td>0.56</td>\n",
       "    </tr>\n",
       "    <tr>\n",
       "      <th>1</th>\n",
       "      <td>2014-05-05</td>\n",
       "      <td>0.33</td>\n",
       "      <td>0.47</td>\n",
       "    </tr>\n",
       "    <tr>\n",
       "      <th>2</th>\n",
       "      <td>2014-05-12</td>\n",
       "      <td>0.34</td>\n",
       "      <td>0.49</td>\n",
       "    </tr>\n",
       "    <tr>\n",
       "      <th>3</th>\n",
       "      <td>2014-05-19</td>\n",
       "      <td>0.34</td>\n",
       "      <td>0.50</td>\n",
       "    </tr>\n",
       "    <tr>\n",
       "      <th>4</th>\n",
       "      <td>2014-05-26</td>\n",
       "      <td>0.34</td>\n",
       "      <td>0.44</td>\n",
       "    </tr>\n",
       "    <tr>\n",
       "      <th>5</th>\n",
       "      <td>2014-06-02</td>\n",
       "      <td>0.32</td>\n",
       "      <td>0.50</td>\n",
       "    </tr>\n",
       "    <tr>\n",
       "      <th>6</th>\n",
       "      <td>2014-06-09</td>\n",
       "      <td>0.34</td>\n",
       "      <td>0.50</td>\n",
       "    </tr>\n",
       "    <tr>\n",
       "      <th>7</th>\n",
       "      <td>2014-06-16</td>\n",
       "      <td>0.35</td>\n",
       "      <td>0.48</td>\n",
       "    </tr>\n",
       "    <tr>\n",
       "      <th>8</th>\n",
       "      <td>2014-06-23</td>\n",
       "      <td>0.32</td>\n",
       "      <td>0.48</td>\n",
       "    </tr>\n",
       "    <tr>\n",
       "      <th>9</th>\n",
       "      <td>2014-06-30</td>\n",
       "      <td>0.33</td>\n",
       "      <td>0.48</td>\n",
       "    </tr>\n",
       "    <tr>\n",
       "      <th>10</th>\n",
       "      <td>2014-07-07</td>\n",
       "      <td>0.34</td>\n",
       "      <td>0.51</td>\n",
       "    </tr>\n",
       "    <tr>\n",
       "      <th>11</th>\n",
       "      <td>2014-07-14</td>\n",
       "      <td>0.34</td>\n",
       "      <td>0.48</td>\n",
       "    </tr>\n",
       "    <tr>\n",
       "      <th>12</th>\n",
       "      <td>2014-07-21</td>\n",
       "      <td>0.32</td>\n",
       "      <td>0.48</td>\n",
       "    </tr>\n",
       "    <tr>\n",
       "      <th>13</th>\n",
       "      <td>2014-07-28</td>\n",
       "      <td>0.35</td>\n",
       "      <td>0.46</td>\n",
       "    </tr>\n",
       "    <tr>\n",
       "      <th>14</th>\n",
       "      <td>2014-08-04</td>\n",
       "      <td>0.33</td>\n",
       "      <td>0.32</td>\n",
       "    </tr>\n",
       "    <tr>\n",
       "      <th>15</th>\n",
       "      <td>2014-08-11</td>\n",
       "      <td>0.33</td>\n",
       "      <td>0.32</td>\n",
       "    </tr>\n",
       "    <tr>\n",
       "      <th>16</th>\n",
       "      <td>2014-08-18</td>\n",
       "      <td>0.33</td>\n",
       "      <td>0.34</td>\n",
       "    </tr>\n",
       "    <tr>\n",
       "      <th>17</th>\n",
       "      <td>2014-08-25</td>\n",
       "      <td>0.35</td>\n",
       "      <td>0.32</td>\n",
       "    </tr>\n",
       "  </tbody>\n",
       "</table>\n",
       "</div>"
      ],
      "text/plain": [
       "   week_summary  email_open_rate  email_clickthrough_rate\n",
       "0    2014-04-28             0.33                     0.56\n",
       "1    2014-05-05             0.33                     0.47\n",
       "2    2014-05-12             0.34                     0.49\n",
       "3    2014-05-19             0.34                     0.50\n",
       "4    2014-05-26             0.34                     0.44\n",
       "5    2014-06-02             0.32                     0.50\n",
       "6    2014-06-09             0.34                     0.50\n",
       "7    2014-06-16             0.35                     0.48\n",
       "8    2014-06-23             0.32                     0.48\n",
       "9    2014-06-30             0.33                     0.48\n",
       "10   2014-07-07             0.34                     0.51\n",
       "11   2014-07-14             0.34                     0.48\n",
       "12   2014-07-21             0.32                     0.48\n",
       "13   2014-07-28             0.35                     0.46\n",
       "14   2014-08-04             0.33                     0.32\n",
       "15   2014-08-11             0.33                     0.32\n",
       "16   2014-08-18             0.33                     0.34\n",
       "17   2014-08-25             0.35                     0.32"
      ]
     },
     "execution_count": 78,
     "metadata": {},
     "output_type": "execute_result"
    }
   ],
   "source": [
    "mk_2"
   ]
  },
  {
   "cell_type": "markdown",
   "metadata": {},
   "source": [
    "### Bad data. QA/bots"
   ]
  },
  {
   "cell_type": "markdown",
   "metadata": {},
   "source": [
    "*In order to ascertain whether this is the cause we need to see activity by user and check whether there is unusual activity by few of them. This would cause artificial activity or in other words, a certain kind of spike/unusual rise, which in our case could make sense to have it in july. If this happened to be true, we could say that august drop in user engagement is not such, because it would be rather a problem of fake user engagement in the preceding month.*"
   ]
  },
  {
   "cell_type": "markdown",
   "metadata": {},
   "source": [
    "First I am going to check whether there is anyone starting engaging with the web but not loging in, this would be pointing to both bots and QA that maybe dont need to sign up (especially bots)."
   ]
  },
  {
   "cell_type": "code",
   "execution_count": 79,
   "metadata": {},
   "outputs": [],
   "source": [
    "query_bad_data = \"\"\"\n",
    "SELECT sub2.*\n",
    "FROM(\n",
    "    SELECT sub.*, ROW_NUMBER() OVER (PARTITION BY user_id, day ORDER BY occurred_at::date) AS user_events_per_day\n",
    "    FROM(\n",
    "        SELECT *, DATE_TRUNC('day', occurred_at::date) AS day\n",
    "        FROM events\n",
    "        WHERE event_type = 'engagement'\n",
    "        ) sub\n",
    "    ) sub2\n",
    "WHERE user_events_per_day = 1 AND event_name != 'login' \n",
    " AND EXTRACT('hour' FROM occurred_at::date)!=0; -- Taking those at 12am that were logged minutes before but in the previous day.\n",
    "\"\"\"\n",
    "qa_bots = pd.read_sql(query_bad_data, engine)"
   ]
  },
  {
   "cell_type": "code",
   "execution_count": 80,
   "metadata": {},
   "outputs": [
    {
     "data": {
      "text/html": [
       "<div>\n",
       "<style scoped>\n",
       "    .dataframe tbody tr th:only-of-type {\n",
       "        vertical-align: middle;\n",
       "    }\n",
       "\n",
       "    .dataframe tbody tr th {\n",
       "        vertical-align: top;\n",
       "    }\n",
       "\n",
       "    .dataframe thead th {\n",
       "        text-align: right;\n",
       "    }\n",
       "</style>\n",
       "<table border=\"1\" class=\"dataframe\">\n",
       "  <thead>\n",
       "    <tr style=\"text-align: right;\">\n",
       "      <th></th>\n",
       "      <th>user_id</th>\n",
       "      <th>occurred_at</th>\n",
       "      <th>event_type</th>\n",
       "      <th>event_name</th>\n",
       "      <th>location</th>\n",
       "      <th>device</th>\n",
       "      <th>user_type</th>\n",
       "      <th>day</th>\n",
       "      <th>user_events_per_day</th>\n",
       "    </tr>\n",
       "  </thead>\n",
       "  <tbody>\n",
       "  </tbody>\n",
       "</table>\n",
       "</div>"
      ],
      "text/plain": [
       "Empty DataFrame\n",
       "Columns: [user_id, occurred_at, event_type, event_name, location, device, user_type, day, user_events_per_day]\n",
       "Index: []"
      ]
     },
     "execution_count": 80,
     "metadata": {},
     "output_type": "execute_result"
    }
   ],
   "source": [
    "qa_bots"
   ]
  },
  {
   "cell_type": "markdown",
   "metadata": {},
   "source": [
    "Second, let's see if there are some days with unusual activity (maybe happening in july at the most)."
   ]
  },
  {
   "cell_type": "code",
   "execution_count": 81,
   "metadata": {},
   "outputs": [],
   "source": [
    "query_bad_data = \"\"\"\n",
    "SELECT user_id, sub.day, COUNT(event_name) AS number_events_per_day\n",
    "FROM(\n",
    "    SELECT *, DATE_TRUNC('day', occurred_at::date) AS day\n",
    "    FROM events\n",
    "    WHERE event_type = 'engagement'\n",
    "    ) sub\n",
    "GROUP BY user_id, day\n",
    "ORDER BY number_events_per_day DESC;\n",
    "\n",
    "\"\"\"\n",
    "qa_bots_2 = pd.read_sql(query_bad_data, engine)"
   ]
  },
  {
   "cell_type": "markdown",
   "metadata": {},
   "source": [
    "Third, and as an extension from previous query, let's group them by user_id to identify those that have a greater (unusual?) activity."
   ]
  },
  {
   "cell_type": "code",
   "execution_count": 82,
   "metadata": {},
   "outputs": [],
   "source": [
    "query_bad_data = \"\"\"\n",
    "SELECT user_id, month, AVG(number_events_per_day) AS avg_daily_events\n",
    "FROM(\n",
    "    SELECT user_id, sub.day,\n",
    "     EXTRACT('month' FROM sub.day) AS month,\n",
    "     COUNT(event_name) AS number_events_per_day\n",
    "    FROM(\n",
    "        SELECT *, DATE_TRUNC('day', occurred_at::date) AS day\n",
    "        FROM events\n",
    "        WHERE event_type = 'engagement'\n",
    "        ) sub\n",
    "    GROUP BY user_id, day\n",
    "    ) sub2\n",
    "GROUP BY month, user_id\n",
    "ORDER BY avg_daily_events DESC, month; \n",
    "\"\"\"\n",
    "qa_bots_3 = pd.read_sql(query_bad_data, engine)"
   ]
  },
  {
   "cell_type": "markdown",
   "metadata": {},
   "source": [
    "A query for checking a that july has more activity, but as in 3rd step i try to show that there does not seem to have an unusual activity above the rest"
   ]
  },
  {
   "cell_type": "code",
   "execution_count": 83,
   "metadata": {},
   "outputs": [],
   "source": [
    "query_bad_data = \"\"\"\n",
    "\n",
    "SELECT month, SUM(avg_daily_events)\n",
    "FROM(\n",
    "    SELECT user_id, month, AVG(number_events_per_day) AS avg_daily_events\n",
    "    FROM(\n",
    "        SELECT user_id, sub.day,\n",
    "         EXTRACT('month' FROM sub.day) AS month,\n",
    "         COUNT(event_name) AS number_events_per_day\n",
    "        FROM(\n",
    "            SELECT *, DATE_TRUNC('day', occurred_at::date) AS day\n",
    "            FROM events\n",
    "            WHERE event_type = 'engagement'\n",
    "            ) sub\n",
    "        GROUP BY user_id, day\n",
    "        ) sub2\n",
    "    GROUP BY month, user_id\n",
    "    ORDER BY avg_daily_events DESC, month\n",
    "    ) sub3\n",
    "GROUP BY month;\n",
    "\n",
    "\"\"\"\n",
    "qa_bots_4 = pd.read_sql(query_bad_data, engine)"
   ]
  },
  {
   "cell_type": "markdown",
   "metadata": {},
   "source": [
    "Just a dummy query for verification of the 3rd point"
   ]
  },
  {
   "cell_type": "code",
   "execution_count": 84,
   "metadata": {},
   "outputs": [],
   "source": [
    "query_bad_data = \"\"\"\n",
    "SELECT user_id, sub.month, COUNT(event_name)\n",
    "FROM(\n",
    "    SELECT *, DATE_TRUNC('day', occurred_at::date) AS month\n",
    "    FROM events\n",
    "    WHERE event_type='engagement'\n",
    "    )sub\n",
    "WHERE user_id = 59\n",
    "GROUP BY user_id, sub.month;\n",
    "\"\"\"\n",
    "qa_bots_5 = pd.read_sql(query_bad_data, engine)"
   ]
  }
 ],
 "metadata": {
  "kernelspec": {
   "display_name": "Python 3",
   "language": "python",
   "name": "python3"
  },
  "language_info": {
   "codemirror_mode": {
    "name": "ipython",
    "version": 3
   },
   "file_extension": ".py",
   "mimetype": "text/x-python",
   "name": "python",
   "nbconvert_exporter": "python",
   "pygments_lexer": "ipython3",
   "version": "3.7.3"
  }
 },
 "nbformat": 4,
 "nbformat_minor": 2
}
